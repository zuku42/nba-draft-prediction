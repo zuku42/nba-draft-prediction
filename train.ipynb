{
 "cells": [
  {
   "cell_type": "code",
   "execution_count": 1,
   "id": "27780e98",
   "metadata": {},
   "outputs": [],
   "source": [
    "import os\n",
    "import glob\n",
    "import pickle\n",
    "import numpy as np\n",
    "import pandas as pd\n",
    "import matplotlib.pyplot as plt\n",
    "import seaborn as sns"
   ]
  },
  {
   "cell_type": "markdown",
   "id": "1761c05c",
   "metadata": {},
   "source": [
    "# Understanding the problem"
   ]
  },
  {
   "cell_type": "markdown",
   "id": "f96e9a8f",
   "metadata": {},
   "source": [
    "NBA draft is an annual event in which teams from the National Basketball Association can each select two players (over the draft's two rounds) that are eligible and willing to join the league. NBA franchises usually aim to select either the best player available or the one that best suits their current roster needs. The order of selection, simply put, is determined by the teams' recent performance, with the weakest teams selecting first. Players enrolled for the draft can be divided into four groups: lottery (those selected with picks 1-14), first round outside the lottery (picks 15-30), second round (31-60), and undrafted. The majority of players entering the draft have at least one year of recent college experience (playing in the NCAA). The aim of this project is to predict a given player's draft position (i.e. one of the four groups defined before) based on the college stats alone. Various machine learning techniques will be employed to solve that problem. The dataset that will be used to train the models on, contains information about the players' last seasons in the NCAA Division I from years 2010-2020 and was scraped off the sports-reference portal (the source code can be found in the get_data.ipynb). See the README.md file for more information.\n",
    "\n",
    "Predicting players' draft position only using their latest college stats constitutes a challange that may be difficult, not to say impossible, to overcome: this approach not only neglects a lot of intangible assets the players may or may not have that are not reflected in simplified numerical metrics, but it also ignores the outside factors that play a crucial role in the decision-making process of the NBA franchises' general managers when they are making their selections (e.g. current and future roster needs, strength of the draft class, etc.). An attempt to tackle these shortcoming will be made, however, although the objective is to build a model that will separate all four draft groups from each other the most effectively, it is very likely, and should be expected, that even the best model will still make a significant number of mislabelings. Nevertheless, a tool that is able to determine what draft group a given player should belong to provided their college stats (all other factors discarded) could still be very useful for the decision-makers."
   ]
  },
  {
   "cell_type": "markdown",
   "id": "38cb6ee0",
   "metadata": {},
   "source": [
    "# Step 0: Merge and clean the data"
   ]
  },
  {
   "cell_type": "markdown",
   "id": "ae53782a",
   "metadata": {},
   "source": [
    "Before any real work on the data scraped off the sports-reference.com website can commence, it is first necessary to concatenate all the csv files the players data is stored in (note it was downloaded in batches of 50 records at a time), merge it with the csv file containing school data, perform some basic cleaning operations on the resultant dataset, and save it so that it can be later used in the actual analysis.\n",
    "\n",
    "Let's first specify paths to relevant files and define a function that will read, concatenate, and merge the data."
   ]
  },
  {
   "cell_type": "code",
   "execution_count": 3,
   "id": "7fe5ca0f",
   "metadata": {},
   "outputs": [],
   "source": [
    "PATH_READ_SCHOOLS = 'raw data/schools_data.csv'\n",
    "PATH_READ_PLAYERS = 'raw data/players data/*.csv'\n",
    "PATH_SAVE = 'clean data/ncaa_players.csv'"
   ]
  },
  {
   "cell_type": "code",
   "execution_count": 4,
   "id": "8120ed3f",
   "metadata": {},
   "outputs": [],
   "source": [
    "def merge_data(path_schools=PATH_READ_SCHOOLS, path_players=PATH_READ_PLAYERS):\n",
    "    players_df = pd.DataFrame()\n",
    "    for filepath in glob.iglob(path_players):\n",
    "        players_df = pd.concat([players_df, pd.read_csv(filepath, index_col=0)])\n",
    "    players_df = players_df[players_df['season']!=2022]\n",
    "    schools_df = pd.read_csv(path_schools, index_col=0)\n",
    "    full_df = pd.merge(players_df, schools_df, how='left', on=['season', 'school_url'])\n",
    "    return full_df"
   ]
  },
  {
   "cell_type": "code",
   "execution_count": 5,
   "id": "57aee9e8",
   "metadata": {},
   "outputs": [],
   "source": [
    "df = merge_data()"
   ]
  },
  {
   "cell_type": "markdown",
   "id": "8b142f49",
   "metadata": {},
   "source": [
    "With all the data stored in a dataframe, it is now possible to perform some basic cleaning operations. Below, columns of the dataframe are rearranged and renamed."
   ]
  },
  {
   "cell_type": "code",
   "execution_count": 6,
   "id": "a9ca613e",
   "metadata": {},
   "outputs": [],
   "source": [
    "new_col_order = ['name', 'school_name', 'season', 'school_year', 'position', 'height', 'weight', 'games_played_x',\n",
    "                 'games_started', 'games_won', 'mpg', 'fg_pct', 'fg3_pct', 'fg3a', 'ft_pct', 'fta', 'off_rpg', 'def_rpg', 'apg',\n",
    "                 'spg', 'bpg', 'tpg', 'fpg', 'ppg', 'per', 'ts_pct', 'eff_fg_pct_x', 'fg3a_rate', 'off_reb_pct', 'def_reb_pct',\n",
    "                 'ast_pct', 'usg_pct', 'win_shares_40_min', 'plus_minus', 'max_points', 'max_assists', 'max_steals',\n",
    "                 'max_blocks', 'max_rebounds', 'std_points', 'std_assists', 'std_steals', 'std_blocks', 'std_rebounds',\n",
    "                 'games_played_y', 'win_pct', 'ncaa_tournament', 'pace', 'eff_fg_pct_y', 'srs_off', 'srs_def', 'sos',\n",
    "                 'team_ppg', 'opp_ppg', 'off_rating', 'def_rating', 'rank', 'draft']\n",
    "new_col_names = ['name', 'school', 'season', 'school_year', 'position', 'height', 'weight', 'games_played',\n",
    "                 'games_started', 'games_won', 'mpg', 'fg_pct', 'fg3_pct', 'fg3a', 'ft_pct', 'fta', 'off_rpg', 'def_rpg', 'apg',\n",
    "                 'spg', 'bpg', 'tpg', 'fpg', 'ppg', 'per', 'ts_pct', 'eff_fg_pct', 'fg3a_rate', 'off_reb_pct', 'def_reb_pct',\n",
    "                 'ast_pct', 'usg_pct', 'win_shares_per_40_mins', 'plus_minus', 'max_points', 'max_assists', 'max_steals',\n",
    "                 'max_blocks', 'max_rebounds', 'std_points', 'std_assists', 'std_steals', 'std_blocks', 'std_rebounds',\n",
    "                 'team_games_played', 'win_pct', 'ncaa_tournament', 'pace', 'team_eff_fg_pct', 'srs_off', 'srs_def', 'sos',\n",
    "                 'team_ppg', 'opp_ppg', 'off_rating', 'def_rating', 'ap_poll_rank', 'draft']\n",
    "\n",
    "df = df[new_col_order].rename(columns={old_name: new_name for old_name, new_name in zip(new_col_order, new_col_names)})"
   ]
  },
  {
   "cell_type": "markdown",
   "id": "d37c5a9f",
   "metadata": {},
   "source": [
    "Duplicates and records with missing values in categorical variables will be dropped from the dataset, and so will be players that have not played a single game or averaged less than a minute a game."
   ]
  },
  {
   "cell_type": "code",
   "execution_count": 7,
   "id": "c44af80f",
   "metadata": {},
   "outputs": [],
   "source": [
    "df.drop_duplicates(inplace=True)\n",
    "df.dropna(subset=['school', 'school_year', 'position'], inplace=True)\n",
    "df = df[(df['games_played'] > 0) & (df['mpg'] >= 1)]\n",
    "df.index = list(range(len(df)))"
   ]
  },
  {
   "cell_type": "markdown",
   "id": "a5fff6cc",
   "metadata": {},
   "source": [
    "Because the data concerns players from the American collegiate league, players' heights and weights are expressed in imperial units. Just for convenience, let's define and apply functions that convert these quantities to metric units."
   ]
  },
  {
   "cell_type": "code",
   "execution_count": 8,
   "id": "c8c327df",
   "metadata": {},
   "outputs": [],
   "source": [
    "def convert_height(height_imperial):\n",
    "    CM_LIST = [30.48, 2.54]\n",
    "    try:\n",
    "        height_split = height_imperial.split('-')\n",
    "        return round(sum([a*int(b) for a, b in zip(CM_LIST, height_split)]))\n",
    "    except AttributeError:\n",
    "        return height_imperial\n",
    "\n",
    "def convert_weight(weight_imperial):\n",
    "    KG_IN_LB = 0.45359237\n",
    "    try:\n",
    "        return round(weight_imperial * KG_IN_LB)\n",
    "    except ValueError:\n",
    "        return weight_imperial"
   ]
  },
  {
   "cell_type": "code",
   "execution_count": 9,
   "id": "67ce6f73",
   "metadata": {},
   "outputs": [],
   "source": [
    "df['height'] = df['height'].apply(convert_height)\n",
    "df['weight'] = df['weight'].apply(convert_weight)"
   ]
  },
  {
   "cell_type": "markdown",
   "id": "34624a2d",
   "metadata": {},
   "source": [
    "When the data was collected, the information about a specific pick a given player was selected with was preserved. However, what is really relevant for this project is not the exact pick, but the group they were drafted in instead. A function encoding the exact draft selections as an ordinal variable (1 = lottery, 2 = first round, 3 = second round, 4 = undrafted) is defined and applied to the target variable below. Original draft picks from the 2021 NBA draft are preserved in a seperate dataframe for future reference."
   ]
  },
  {
   "cell_type": "code",
   "execution_count": 10,
   "id": "87bc1621",
   "metadata": {},
   "outputs": [],
   "source": [
    "def draft_ordinal(draft):\n",
    "    try:\n",
    "        draft = int(draft)\n",
    "        if draft <= 14:\n",
    "            draft = 1\n",
    "        elif draft <= 30:\n",
    "            draft = 2\n",
    "        elif draft <= 60:\n",
    "            draft = 3\n",
    "    except ValueError:\n",
    "        draft = 4\n",
    "    return draft"
   ]
  },
  {
   "cell_type": "code",
   "execution_count": 11,
   "id": "e6bf7d52",
   "metadata": {},
   "outputs": [],
   "source": [
    "draft_2021 = df[df['season']==2021].loc[:, ['name', 'draft']]\n",
    "df['draft'] = df['draft'].apply(draft_ordinal)"
   ]
  },
  {
   "cell_type": "markdown",
   "id": "8e57fc48",
   "metadata": {},
   "source": [
    " Resultant set is exported to a csv file in a location specified earlier."
   ]
  },
  {
   "cell_type": "code",
   "execution_count": 12,
   "id": "a991aa9e",
   "metadata": {},
   "outputs": [],
   "source": [
    "df.to_csv(PATH_SAVE)"
   ]
  },
  {
   "cell_type": "markdown",
   "id": "5b4eea42",
   "metadata": {},
   "source": [
    "# Step 1: Load and inspect the data"
   ]
  },
  {
   "cell_type": "markdown",
   "id": "5f815fbc",
   "metadata": {},
   "source": [
    "Let's now define the path to the data file, write a function to load it, and execute it."
   ]
  },
  {
   "cell_type": "code",
   "execution_count": 14,
   "id": "06c48e2e",
   "metadata": {},
   "outputs": [],
   "source": [
    "READ_PATH = 'clean data/'\n",
    "DATA_FILE = 'ncaa_players.csv'"
   ]
  },
  {
   "cell_type": "code",
   "execution_count": 15,
   "id": "88539a95",
   "metadata": {},
   "outputs": [],
   "source": [
    "def load_players_data(file_path=READ_PATH, file_name=DATA_FILE, index_col=0):\n",
    "    csv_path = os.path.join(file_path, file_name)\n",
    "    return pd.read_csv(csv_path, index_col=index_col)"
   ]
  },
  {
   "cell_type": "code",
   "execution_count": 16,
   "id": "ee04878b",
   "metadata": {},
   "outputs": [],
   "source": [
    "dataset = load_players_data()"
   ]
  },
  {
   "cell_type": "markdown",
   "id": "cf606e77",
   "metadata": {},
   "source": [
    "Let's have a quick glimpse at the data."
   ]
  },
  {
   "cell_type": "code",
   "execution_count": 17,
   "id": "71d432fd",
   "metadata": {
    "scrolled": true
   },
   "outputs": [
    {
     "data": {
      "text/html": [
       "<div>\n",
       "<style scoped>\n",
       "    .dataframe tbody tr th:only-of-type {\n",
       "        vertical-align: middle;\n",
       "    }\n",
       "\n",
       "    .dataframe tbody tr th {\n",
       "        vertical-align: top;\n",
       "    }\n",
       "\n",
       "    .dataframe thead th {\n",
       "        text-align: right;\n",
       "    }\n",
       "</style>\n",
       "<table border=\"1\" class=\"dataframe\">\n",
       "  <thead>\n",
       "    <tr style=\"text-align: right;\">\n",
       "      <th></th>\n",
       "      <th>name</th>\n",
       "      <th>school</th>\n",
       "      <th>season</th>\n",
       "      <th>school_year</th>\n",
       "      <th>position</th>\n",
       "      <th>height</th>\n",
       "      <th>weight</th>\n",
       "      <th>games_played</th>\n",
       "      <th>games_started</th>\n",
       "      <th>games_won</th>\n",
       "      <th>...</th>\n",
       "      <th>team_eff_fg_pct</th>\n",
       "      <th>srs_off</th>\n",
       "      <th>srs_def</th>\n",
       "      <th>sos</th>\n",
       "      <th>team_ppg</th>\n",
       "      <th>opp_ppg</th>\n",
       "      <th>off_rating</th>\n",
       "      <th>def_rating</th>\n",
       "      <th>ap_poll_rank</th>\n",
       "      <th>draft</th>\n",
       "    </tr>\n",
       "  </thead>\n",
       "  <tbody>\n",
       "    <tr>\n",
       "      <th>0</th>\n",
       "      <td>Michael Lyons</td>\n",
       "      <td>Air Force</td>\n",
       "      <td>2013</td>\n",
       "      <td>senior</td>\n",
       "      <td>G</td>\n",
       "      <td>196.0</td>\n",
       "      <td>88.0</td>\n",
       "      <td>30</td>\n",
       "      <td>30</td>\n",
       "      <td>17</td>\n",
       "      <td>...</td>\n",
       "      <td>0.551</td>\n",
       "      <td>4.05</td>\n",
       "      <td>0.01</td>\n",
       "      <td>4.16</td>\n",
       "      <td>70.0</td>\n",
       "      <td>67.8</td>\n",
       "      <td>110.09</td>\n",
       "      <td>102.85</td>\n",
       "      <td>NaN</td>\n",
       "      <td>4</td>\n",
       "    </tr>\n",
       "    <tr>\n",
       "      <th>1</th>\n",
       "      <td>Tom Fow</td>\n",
       "      <td>Air Force</td>\n",
       "      <td>2011</td>\n",
       "      <td>senior</td>\n",
       "      <td>F</td>\n",
       "      <td>198.0</td>\n",
       "      <td>93.0</td>\n",
       "      <td>32</td>\n",
       "      <td>32</td>\n",
       "      <td>16</td>\n",
       "      <td>...</td>\n",
       "      <td>0.540</td>\n",
       "      <td>-1.94</td>\n",
       "      <td>4.65</td>\n",
       "      <td>3.31</td>\n",
       "      <td>64.8</td>\n",
       "      <td>65.1</td>\n",
       "      <td>106.44</td>\n",
       "      <td>101.45</td>\n",
       "      <td>NaN</td>\n",
       "      <td>4</td>\n",
       "    </tr>\n",
       "    <tr>\n",
       "      <th>2</th>\n",
       "      <td>Derek Brooks</td>\n",
       "      <td>Air Force</td>\n",
       "      <td>2011</td>\n",
       "      <td>senior</td>\n",
       "      <td>F</td>\n",
       "      <td>196.0</td>\n",
       "      <td>91.0</td>\n",
       "      <td>32</td>\n",
       "      <td>1</td>\n",
       "      <td>16</td>\n",
       "      <td>...</td>\n",
       "      <td>0.540</td>\n",
       "      <td>-1.94</td>\n",
       "      <td>4.65</td>\n",
       "      <td>3.31</td>\n",
       "      <td>64.8</td>\n",
       "      <td>65.1</td>\n",
       "      <td>106.44</td>\n",
       "      <td>101.45</td>\n",
       "      <td>NaN</td>\n",
       "      <td>4</td>\n",
       "    </tr>\n",
       "    <tr>\n",
       "      <th>3</th>\n",
       "      <td>Evan Washington</td>\n",
       "      <td>Air Force</td>\n",
       "      <td>2011</td>\n",
       "      <td>senior</td>\n",
       "      <td>G</td>\n",
       "      <td>193.0</td>\n",
       "      <td>91.0</td>\n",
       "      <td>32</td>\n",
       "      <td>32</td>\n",
       "      <td>16</td>\n",
       "      <td>...</td>\n",
       "      <td>0.540</td>\n",
       "      <td>-1.94</td>\n",
       "      <td>4.65</td>\n",
       "      <td>3.31</td>\n",
       "      <td>64.8</td>\n",
       "      <td>65.1</td>\n",
       "      <td>106.44</td>\n",
       "      <td>101.45</td>\n",
       "      <td>NaN</td>\n",
       "      <td>4</td>\n",
       "    </tr>\n",
       "    <tr>\n",
       "      <th>4</th>\n",
       "      <td>Taylor Broekhuis</td>\n",
       "      <td>Air Force</td>\n",
       "      <td>2013</td>\n",
       "      <td>senior</td>\n",
       "      <td>C</td>\n",
       "      <td>201.0</td>\n",
       "      <td>88.0</td>\n",
       "      <td>32</td>\n",
       "      <td>32</td>\n",
       "      <td>18</td>\n",
       "      <td>...</td>\n",
       "      <td>0.551</td>\n",
       "      <td>4.05</td>\n",
       "      <td>0.01</td>\n",
       "      <td>4.16</td>\n",
       "      <td>70.0</td>\n",
       "      <td>67.8</td>\n",
       "      <td>110.09</td>\n",
       "      <td>102.85</td>\n",
       "      <td>NaN</td>\n",
       "      <td>4</td>\n",
       "    </tr>\n",
       "  </tbody>\n",
       "</table>\n",
       "<p>5 rows × 58 columns</p>\n",
       "</div>"
      ],
      "text/plain": [
       "               name     school  season school_year position  height  weight  \\\n",
       "0     Michael Lyons  Air Force    2013      senior        G   196.0    88.0   \n",
       "1           Tom Fow  Air Force    2011      senior        F   198.0    93.0   \n",
       "2      Derek Brooks  Air Force    2011      senior        F   196.0    91.0   \n",
       "3   Evan Washington  Air Force    2011      senior        G   193.0    91.0   \n",
       "4  Taylor Broekhuis  Air Force    2013      senior        C   201.0    88.0   \n",
       "\n",
       "   games_played  games_started  games_won  ...  team_eff_fg_pct  srs_off  \\\n",
       "0            30             30         17  ...            0.551     4.05   \n",
       "1            32             32         16  ...            0.540    -1.94   \n",
       "2            32              1         16  ...            0.540    -1.94   \n",
       "3            32             32         16  ...            0.540    -1.94   \n",
       "4            32             32         18  ...            0.551     4.05   \n",
       "\n",
       "   srs_def   sos  team_ppg  opp_ppg  off_rating  def_rating  ap_poll_rank  \\\n",
       "0     0.01  4.16      70.0     67.8      110.09      102.85           NaN   \n",
       "1     4.65  3.31      64.8     65.1      106.44      101.45           NaN   \n",
       "2     4.65  3.31      64.8     65.1      106.44      101.45           NaN   \n",
       "3     4.65  3.31      64.8     65.1      106.44      101.45           NaN   \n",
       "4     0.01  4.16      70.0     67.8      110.09      102.85           NaN   \n",
       "\n",
       "   draft  \n",
       "0      4  \n",
       "1      4  \n",
       "2      4  \n",
       "3      4  \n",
       "4      4  \n",
       "\n",
       "[5 rows x 58 columns]"
      ]
     },
     "execution_count": 17,
     "metadata": {},
     "output_type": "execute_result"
    }
   ],
   "source": [
    "dataset.head()"
   ]
  },
  {
   "cell_type": "code",
   "execution_count": 18,
   "id": "2daf756e",
   "metadata": {
    "scrolled": true
   },
   "outputs": [
    {
     "name": "stdout",
     "output_type": "stream",
     "text": [
      "<class 'pandas.core.frame.DataFrame'>\n",
      "Int64Index: 18386 entries, 0 to 18385\n",
      "Data columns (total 58 columns):\n",
      "name                      18386 non-null object\n",
      "school                    18386 non-null object\n",
      "season                    18386 non-null int64\n",
      "school_year               18386 non-null object\n",
      "position                  18386 non-null object\n",
      "height                    18355 non-null float64\n",
      "weight                    18359 non-null float64\n",
      "games_played              18386 non-null int64\n",
      "games_started             18386 non-null int64\n",
      "games_won                 18386 non-null int64\n",
      "mpg                       18386 non-null float64\n",
      "fg_pct                    17777 non-null float64\n",
      "fg3_pct                   14647 non-null float64\n",
      "fg3a                      18386 non-null float64\n",
      "ft_pct                    15914 non-null float64\n",
      "fta                       18386 non-null float64\n",
      "off_rpg                   18386 non-null float64\n",
      "def_rpg                   18386 non-null float64\n",
      "apg                       18386 non-null float64\n",
      "spg                       18386 non-null float64\n",
      "bpg                       18386 non-null float64\n",
      "tpg                       18386 non-null float64\n",
      "fpg                       18386 non-null float64\n",
      "ppg                       18386 non-null float64\n",
      "per                       18379 non-null float64\n",
      "ts_pct                    17887 non-null float64\n",
      "eff_fg_pct                17777 non-null float64\n",
      "fg3a_rate                 17777 non-null float64\n",
      "off_reb_pct               18379 non-null float64\n",
      "def_reb_pct               18379 non-null float64\n",
      "ast_pct                   18379 non-null float64\n",
      "usg_pct                   18379 non-null float64\n",
      "win_shares_per_40_mins    18379 non-null float64\n",
      "plus_minus                18363 non-null float64\n",
      "max_points                18386 non-null int64\n",
      "max_assists               18386 non-null int64\n",
      "max_steals                18386 non-null int64\n",
      "max_blocks                18386 non-null int64\n",
      "max_rebounds              18386 non-null int64\n",
      "std_points                18386 non-null float64\n",
      "std_assists               18386 non-null float64\n",
      "std_steals                18386 non-null float64\n",
      "std_blocks                18386 non-null float64\n",
      "std_rebounds              18386 non-null float64\n",
      "team_games_played         18386 non-null int64\n",
      "win_pct                   18386 non-null float64\n",
      "ncaa_tournament           18386 non-null int64\n",
      "pace                      18386 non-null float64\n",
      "team_eff_fg_pct           18386 non-null float64\n",
      "srs_off                   18386 non-null float64\n",
      "srs_def                   18386 non-null float64\n",
      "sos                       18386 non-null float64\n",
      "team_ppg                  18386 non-null float64\n",
      "opp_ppg                   18386 non-null float64\n",
      "off_rating                18386 non-null float64\n",
      "def_rating                18386 non-null float64\n",
      "ap_poll_rank              1156 non-null float64\n",
      "draft                     18386 non-null int64\n",
      "dtypes: float64(42), int64(12), object(4)\n",
      "memory usage: 8.3+ MB\n"
     ]
    }
   ],
   "source": [
    "dataset.info()"
   ]
  },
  {
   "cell_type": "markdown",
   "id": "a35bd8bd",
   "metadata": {},
   "source": [
    "As it can be seen above, there are 18386 unique records in the dataset with 57 features and 1 target variable each. The vast majority of values is non-null, however, as many as 16 columns are missing some values (although, for the most part, not many). Some of the incomplete data are actually holding valuable information: for example, null values in the three point field goal percentage (fg3_pct) column most likely represent players that have not attempted a single three point shot (fg3a). As it turns out, the cell below confirms that it is true. Other columns may have gaps because they are derived from other columns that are missing values (e.g. true shooting percentage relies on field goal attempts and free throw attempts). In some cases, however, incomplete data indicates nothing more than imperfect data availability (as it is the case with height and weight).\n",
    "\n",
    "The ap_poll_rank column, representing a given player's team's rank in the Associated Press poll at the end of the season, has only 1156 (6.3%) non-null values. This, however, is a special case, as only 25 teams are ranked in each edition of the AP poll. It is therefore only reasonable that the vast majority of schools do not have a rank and are missing data in that column. \n",
    "\n",
    "As demonstrated, there may be various reasons for gaps in the dataset, and each of them will have to be treated individually when dealing with missing values. Columns that are missing data as a result of imperfect data availability will be filled with a median value, those representing a performance metric that is not present in all the players (e.g. fg3_pct) will be filled with zeros. The ap_poll_rank variable will be encoded with ones for teams that made the ranking and zeros for those that did not."
   ]
  },
  {
   "cell_type": "code",
   "execution_count": 19,
   "id": "04ed3ed6",
   "metadata": {},
   "outputs": [
    {
     "data": {
      "text/plain": [
       "True"
      ]
     },
     "execution_count": 19,
     "metadata": {},
     "output_type": "execute_result"
    }
   ],
   "source": [
    "all(dataset[dataset['fg3_pct'].isna()]['fg3a'] == 0)"
   ]
  },
  {
   "cell_type": "markdown",
   "id": "009be44b",
   "metadata": {},
   "source": [
    "Let's now look at the distributions of numerical variables."
   ]
  },
  {
   "cell_type": "code",
   "execution_count": 20,
   "id": "0617360f",
   "metadata": {
    "scrolled": true
   },
   "outputs": [
    {
     "data": {
      "image/png": "[encoded data removed]",
      "text/plain": [
       "<Figure size 1080x1440 with 56 Axes>"
      ]
     },
     "metadata": {
      "needs_background": "light"
     },
     "output_type": "display_data"
    }
   ],
   "source": [
    "dataset.hist(bins=20,figsize=(15,20))\n",
    "plt.show()"
   ]
  },
  {
   "cell_type": "markdown",
   "id": "8bb9fa52",
   "metadata": {},
   "source": [
    "Looking at the graphs, two things stand out. First of all, there seems to be a small number of players whose effective field goal percentage (eff_fg_pct) is higher than 1 (all the metrics corresponding to a percentage in this dataset are expressed as a decimal fraction). In fact, as it can be seen in the cell below, there are 82 such players in the set. Although it seems to be an obvious mistake, it is not: with how this metric is calculated, it is actually possible to achieve a value above 100% (despite how counterintuitive, not to say ridiculous, this might seem)."
   ]
  },
  {
   "cell_type": "code",
   "execution_count": 21,
   "id": "77128035",
   "metadata": {},
   "outputs": [
    {
     "data": {
      "text/plain": [
       "82"
      ]
     },
     "execution_count": 21,
     "metadata": {},
     "output_type": "execute_result"
    }
   ],
   "source": [
    "len(dataset[dataset['eff_fg_pct']>1])"
   ]
  },
  {
   "cell_type": "markdown",
   "id": "57647e5d",
   "metadata": {},
   "source": [
    "More importantly though, it cannot go unnoticed how imbalanced the target variable (draft) is: over 97% of all records in the dataset belong to the 'undrafted' class, as it is demostrated below. It is not particularly surprising, as one can expect only a small proportion of college players to ever get drafted by an NBA team, however, later in the process it will be necessary to deal with the overrepresentation of this particular target category to prevent models from always predicting the most prevalent class. "
   ]
  },
  {
   "cell_type": "code",
   "execution_count": 22,
   "id": "e78d9b91",
   "metadata": {
    "scrolled": true
   },
   "outputs": [
    {
     "data": {
      "text/plain": [
       "4    0.971119\n",
       "3    0.013815\n",
       "2    0.007778\n",
       "1    0.007288\n",
       "Name: draft, dtype: float64"
      ]
     },
     "execution_count": 22,
     "metadata": {},
     "output_type": "execute_result"
    }
   ],
   "source": [
    "dataset['draft'].value_counts()/len(dataset['draft'])"
   ]
  },
  {
   "cell_type": "markdown",
   "id": "29f95591",
   "metadata": {},
   "source": [
    "It is now time to split the dataset into X (columns with predictor variables) and y (the target variable), and subsequently divide it into training, validation, and test sets. With how imbalanced the dataset is, it is important to ensure that the proportions of target classes are roughly the same in each of the three sets, and for that reason a stratified sampling strategy was employed and implemented in the function defined below. The reasoning behind the decision to set aside the validation set (instead of just using cross-valiation on the training set) will be explained later. To ensure consistent results when re-running the code, a constant random seed (that will be used throughout the project whenever any stochasticity is involved) is also set here."
   ]
  },
  {
   "cell_type": "code",
   "execution_count": 23,
   "id": "a907c345",
   "metadata": {},
   "outputs": [],
   "source": [
    "X = dataset.iloc[:, :-1]\n",
    "y = dataset.iloc[:, -1]"
   ]
  },
  {
   "cell_type": "code",
   "execution_count": 24,
   "id": "d98b5cd7",
   "metadata": {},
   "outputs": [],
   "source": [
    "RS = 101"
   ]
  },
  {
   "cell_type": "code",
   "execution_count": 25,
   "id": "07a0efc5",
   "metadata": {},
   "outputs": [],
   "source": [
    "from sklearn.model_selection import train_test_split\n",
    "\n",
    "def stratified_three_fold_split(X, y, stratify, test_size=0.3, valid_size=0.2, random_state=None):\n",
    "    X_train_valid, X_test, y_train_valid, y_test = train_test_split(X,\n",
    "                                                                    y,\n",
    "                                                                    test_size=test_size,\n",
    "                                                                    stratify=stratify,\n",
    "                                                                    random_state=random_state)\n",
    "    X_train, X_valid, y_train, y_valid = train_test_split(X_train_valid,\n",
    "                                                          y_train_valid,\n",
    "                                                          test_size=valid_size,\n",
    "                                                          stratify=y_train_valid,\n",
    "                                                          random_state=random_state)\n",
    "    return X_train, X_valid, X_test, y_train, y_valid, y_test  "
   ]
  },
  {
   "cell_type": "code",
   "execution_count": 26,
   "id": "d0fcb167",
   "metadata": {},
   "outputs": [],
   "source": [
    "X_train, X_valid, X_test, y_train, y_valid, y_test = stratified_three_fold_split(X=X, y=y, stratify=y, random_state=RS)"
   ]
  },
  {
   "cell_type": "markdown",
   "id": "1244d46d",
   "metadata": {},
   "source": [
    "# Step 2: Data exploration"
   ]
  },
  {
   "cell_type": "markdown",
   "id": "78817ac6",
   "metadata": {},
   "source": [
    "With the test set now set aside, let's have a closer look at the training data to gain some insight on how to best approach the problem. First, correlations between features will be examined. Below is the heatmap of the Pearson's coefficient of correlation of every pair of numerical variables found in the training set."
   ]
  },
  {
   "cell_type": "code",
   "execution_count": 27,
   "id": "eca63acc",
   "metadata": {
    "scrolled": true
   },
   "outputs": [
    {
     "data": {
      "image/png": "[encoded data removed]",
      "text/plain": [
       "<Figure size 1080x1080 with 2 Axes>"
      ]
     },
     "metadata": {
      "needs_background": "light"
     },
     "output_type": "display_data"
    }
   ],
   "source": [
    "corr_matrix = X_train.corr()\n",
    "fig = plt.figure(figsize=(15,15))\n",
    "sns.heatmap(corr_matrix)\n",
    "plt.show()"
   ]
  },
  {
   "cell_type": "markdown",
   "id": "b16b4d16",
   "metadata": {},
   "source": [
    "Looking at the above correlation matrix it is easy to spot that some features are strongly correlated with some of the other variables. There seems to be five areas on the heatmap where the correlations are the strongest. To be able to better identify them, let's plot a binary heatmap highlighting areas where the absolute correlation coefficient is larger than or equal to 0.6."
   ]
  },
  {
   "cell_type": "code",
   "execution_count": 28,
   "id": "5ab66e4a",
   "metadata": {
    "scrolled": true
   },
   "outputs": [
    {
     "data": {
      "image/png": "[encoded data removed]",
      "text/plain": [
       "<Figure size 576x576 with 2 Axes>"
      ]
     },
     "metadata": {
      "needs_background": "light"
     },
     "output_type": "display_data"
    }
   ],
   "source": [
    "fig = plt.figure(figsize=(8, 8))\n",
    "sns.heatmap(abs(corr_matrix) >= 0.6)\n",
    "plt.show()"
   ]
  },
  {
   "cell_type": "markdown",
   "id": "4d3dd385",
   "metadata": {},
   "source": [
    "It seems like the majority of basic player stats (upper left corner) are correlated to some extent, many relationships can be found in the team stats section (bottom right corner), and strong correlations can also be spotted in the area of maximum season achievements and standard deviations of the corresponding metrics (e.g. max_points, max_rebounds, std_points, std_rebounds, etc.) both with each other, and with basic player stats. Some of these relationship are not very surprising and come from the properties of the variables themselves: it is only natural that true shooting percentage correlates with field goal and three point field goal percentage (as the former one is calculated based on the latter two), and that the standard deviation of particular season metrics is positively correlated with the maximum values of these metrics (as high maximum values are likely to deviate from the average and increase the standard deviation).\n",
    "\n",
    "Moving forward, it might be worth considering to limit these correlations between the variables in an effort to reduce the dimensionality of the dataset without losing any useful information. If it is decided that dimensionality reduction will not be detrimental to the overall model performance and might significantly increase training time, some of the features with the strongest correlations with others will be dropped from the dataset. In such a scenario, standard deviations would be discarded, field goal percentage and effective field goal percentage would also be dropped as both these metrics are strongly correlated with true shooting percentage. Offensive and defensive simple rating systems would be excluded from the dataset as they are correlated with the strenght of schedule (sos), team points per game (team_ppg), and opponent points per game (opp_ppg).\n",
    "\n",
    "New features might also be engineered to normalize some of the player stats with regards to the minutes per game and the number of games they played. Player games played (games_played) will be expressed as a fraction of the total team games (team_games_played). Player games started (games_started) and player games won (games_won) will be expressed as a fraction of player games played. All basic player stats that are expressed as per game averages, will be transformed to reflect the same metrics per minute played. Season highs (e.g. max_points) will be expressed as a multiple of per minute average. "
   ]
  },
  {
   "cell_type": "markdown",
   "id": "0a4791d3",
   "metadata": {},
   "source": [
    "Now, let's try to figure out if there is something obvious that differentiates drafted and undrafted players. Principal Component Analysis will be applied to the numerical features of the dataset and first two components that explain the most variance in data will be plotted against each other so that it is possible to visually examine whether drafted players stand out from the rest."
   ]
  },
  {
   "cell_type": "code",
   "execution_count": 29,
   "id": "13f3e6ac",
   "metadata": {},
   "outputs": [
    {
     "name": "stdout",
     "output_type": "stream",
     "text": [
      "[0.35466708 0.15474893]\n"
     ]
    }
   ],
   "source": [
    "from sklearn.decomposition import PCA\n",
    "\n",
    "pca = PCA(n_components=2)\n",
    "X_numerical = X_train[X_train.select_dtypes(include=np.number).columns.tolist()]\n",
    "X_numerical = X_numerical.fillna(0)\n",
    "X_numerical = X_numerical.drop('season', axis=1)\n",
    "pca.fit(X_numerical)\n",
    "print(pca.explained_variance_ratio_)\n",
    "X_pca = pca.transform(X_numerical)\n",
    "X_pca_df = pd.DataFrame(X_pca)\n",
    "X_pca_df.index = X_train.index"
   ]
  },
  {
   "cell_type": "markdown",
   "id": "b211a97e",
   "metadata": {},
   "source": [
    "As it can be seen above, first two principal components explain only around 50% of the total variance. This is definitely not enough to assume that the remaining components are irrelevant to the problem, however, possibly it will be enough to provide some useful insight when plotted on a graph."
   ]
  },
  {
   "cell_type": "code",
   "execution_count": 30,
   "id": "56e9c921",
   "metadata": {},
   "outputs": [
    {
     "data": {
      "image/png": "[encoded data removed]",
      "text/plain": [
       "<Figure size 864x432 with 1 Axes>"
      ]
     },
     "metadata": {
      "needs_background": "light"
     },
     "output_type": "display_data"
    }
   ],
   "source": [
    "lottery_ind = y_train[y_train==1].index\n",
    "first_round_ind = y_train[y_train==2].index\n",
    "second_round_ind = y_train[y_train==3].index\n",
    "undrafted_ind = y_train[y_train==4].index\n",
    "\n",
    "pca1_lottery = X_pca_df.loc[lottery_ind, 0]\n",
    "pca2_lottery = X_pca_df.loc[lottery_ind, 1]\n",
    "pca1_first_round = X_pca_df.loc[first_round_ind, 0]\n",
    "pca2_first_round = X_pca_df.loc[first_round_ind, 1]\n",
    "pca1_second_round = X_pca_df.loc[second_round_ind, 0]\n",
    "pca2_second_round = X_pca_df.loc[second_round_ind, 1]\n",
    "pca1_undrafted = X_pca_df.loc[undrafted_ind, 0]\n",
    "pca2_undrafted = X_pca_df.loc[undrafted_ind, 1]\n",
    "\n",
    "plt.figure(figsize=(12,6))\n",
    "ax = plt.axes()\n",
    "ax.scatter(pca1_undrafted, pca2_undrafted, c='yellow')\n",
    "ax.scatter(pca1_second_round, pca2_second_round, c='green', alpha=0.7)\n",
    "ax.scatter(pca1_first_round, pca2_first_round, c='blue', alpha=0.7)\n",
    "ax.scatter(pca1_lottery, pca2_lottery, c='black', alpha=0.7)\n",
    "ax.legend(['undrafted', 'second round', 'first round', 'lottery'])\n",
    "ax.set_xlabel('PCA1')\n",
    "ax.set_ylabel('PCA2')\n",
    "plt.show()"
   ]
  },
  {
   "cell_type": "markdown",
   "id": "9a77a6de",
   "metadata": {},
   "source": [
    "What stands out in the above graph is that altough the groups are nowhere near being lineary seperable, drafted players definitely have a lot in common. It seems like the majority of data points representing drafted players can be found in the bottom right corner of the plot: some of them, those far right, are clear of all undrafted data points. Even though the graph clearly indicates that high values of the first component and low values of the second component tend to correspond to a higher chance of getting drafted, this relationship is not strong enough to seperate both groups of players (let alone distinguishing between particular groups of drafted players): a lot of undrafted data points are also located in the bottom right corner of the chart. \n",
    "\n",
    "However, it has to be kept in mind that only two components (that explain only about 50% of all the variance in data) are presented in the graph. It is therefore possible that the groups are much easier to seperate if more variables are taken into consideration and the fact that drafted players are all so close together on the above graph is a promising indicator."
   ]
  },
  {
   "cell_type": "markdown",
   "id": "c13a1a85",
   "metadata": {},
   "source": [
    "Lastly, correlations between the independent variables and the target variable will be examined. In the cell below, features with the Pearson's correlation coefficient with the target variable that is higher (or lower) than 0.2 (or - 0.2) are listed. Note that because of how the target variable is constructed (lower value = better draft position) negative values actually indicate positive relationship between a given variable and the odds of high draft selection.\n",
    "\n",
    "As it turns out, among the variables that affect the target variable the most are player points per game (ppg), player games won (games_won), player free throw attempts per game (fta), and team offensive rating. It seems like good individual performance of a given player (i.e. scoring a lot of points, recording many assists, etc.) is not enough to get them drafted: their chances increase if their good individual performance contributes to a good team performance. Or, to look at it at a different angle that is perhaps more fitting in a college setting, they are good enough to perform well on a good team. It makes sense, as in the NCAA it is often the case that better teams face better opponents. It might therefore be a reasonable idea to adjust player's individual performance for the average strength of the opponents they faced, expressed with the sos (strength of schedule) variable."
   ]
  },
  {
   "cell_type": "code",
   "execution_count": 31,
   "id": "c2cdd316",
   "metadata": {
    "scrolled": true
   },
   "outputs": [
    {
     "name": "stdout",
     "output_type": "stream",
     "text": [
      "games_won         -0.232658\n",
      "fta               -0.258086\n",
      "def_rpg           -0.254717\n",
      "bpg               -0.228182\n",
      "ppg               -0.277417\n",
      "max_points        -0.223248\n",
      "ncaa_tournament   -0.210388\n",
      "srs_off           -0.236822\n",
      "sos               -0.237411\n",
      "off_rating        -0.246125\n",
      "def_rating         0.233576\n",
      "ap_poll_rank       0.237204\n",
      "draft              1.000000\n",
      "Name: draft, dtype: float64\n"
     ]
    }
   ],
   "source": [
    "Xy = pd.merge(X_train, y_train, on=X_train.index)\n",
    "target_corr = Xy.corr()['draft']\n",
    "print(target_corr[abs(target_corr)>0.2])"
   ]
  },
  {
   "cell_type": "markdown",
   "id": "f1dd2f4b",
   "metadata": {},
   "source": [
    "Information about features that are correlated with the target variable the least may also prove valuable in further steps. As it can be seen below, apart from the season variable (which would be excluded from further analysis anyway), team's pace, player's offensive rebound percentage (off_reb_pct), and three point field goal attempts rate (fg3a_rate) all have negligible correlation with the target variable. When transforming the data it will be decided if these variables should be kept in the dataset. "
   ]
  },
  {
   "cell_type": "code",
   "execution_count": 32,
   "id": "4d5acab9",
   "metadata": {
    "scrolled": true
   },
   "outputs": [
    {
     "name": "stdout",
     "output_type": "stream",
     "text": [
      "key_0         -0.017276\n",
      "season        -0.012697\n",
      "fg3a_rate      0.033955\n",
      "off_reb_pct   -0.032228\n",
      "pace          -0.008844\n",
      "Name: draft, dtype: float64\n"
     ]
    }
   ],
   "source": [
    "print(target_corr[abs(target_corr)<=0.05])"
   ]
  },
  {
   "cell_type": "markdown",
   "id": "75873f97",
   "metadata": {},
   "source": [
    "# Step 3: Transforming features"
   ]
  },
  {
   "cell_type": "markdown",
   "id": "cf12b76b",
   "metadata": {},
   "source": [
    "Thanks to the insight gained through data exploration it is now possible to come up with a strategy on how to transform the dataset. As it was suggested before, it seems reasonable to adjust a given player's individual performance for the average strength of his opponets. Moreover, to engineer metrics that are more comparable between individuals, absolute values such as the number of games played, all \"per game\" stats, and player's season highs in points, assists, blocks, etc. will be normalized by an appropriate metric (e.g. number of team games played, numer of minutes per game, etc.). Finally, irrelavant features, or those with a very low correlation coefficient with the target variable, will be dropped from the dataset.\n",
    "\n",
    "In addition to these custom transformations, columns with missing values will be filled, and categorical variables will be one-hot encoded. Moreover, all numerical features will be standarized by removing the mean and scaling to unit variance."
   ]
  },
  {
   "cell_type": "markdown",
   "id": "9de81daa",
   "metadata": {},
   "source": [
    "But first, let's group variables in a way that will enable aggregate transformations. For example, when adjusting for the strength of the opponent, it makes sense to multiply favorable variables (e.g. points per game, field goal percentage) by the strength of schedule, while it is reasonable to multiply unfavorable features (e.g. turnovers per game) by one minus the strength of schedule. By defining such groups of features it will be later possible to apply a given transformation to a whole group at once. Because sklearn transformers return numpy arrays, and not pandas dataframes, it is important to find indices of these features for a seamless integration of custom transformers with the rest of the pipeline."
   ]
  },
  {
   "cell_type": "code",
   "execution_count": 33,
   "id": "d99250a7",
   "metadata": {},
   "outputs": [],
   "source": [
    "numeric_features = X.select_dtypes(include=np.number).columns\n",
    "cat_features = X.select_dtypes(include=np.object).columns\n",
    "\n",
    "negative_stats_names = ['plus_minus', 'sos']\n",
    "favorable_stats_names = ['fg_pct', 'fg3_pct', 'fta','off_rpg', 'def_rpg', 'apg',\n",
    "                         'spg', 'bpg', 'ppg', 'per', 'ts_pct', 'eff_fg_pct',\n",
    "                         'off_reb_pct', 'def_reb_pct', 'ast_pct', 'usg_pct',\n",
    "                         'win_shares_per_40_mins', 'plus_minus', 'win_pct', 'pace',\n",
    "                         'team_eff_fg_pct', 'team_ppg', 'off_rating']\n",
    "unfavorable_stats_names = ['tpg', 'fpg', 'opp_ppg', 'def_rating']\n",
    "per_game_stats_names = ['fg3a', 'fta', 'off_rpg', 'def_rpg',\n",
    "                        'apg','spg', 'bpg', 'tpg', 'fpg', 'ppg']\n",
    "max_stats_names = ['max_points', 'max_assists', 'max_steals', 'max_blocks', 'max_rebounds']\n",
    "average_stats_names = ['ppg', 'apg', 'spg', 'bpg', 'off_rpg', 'def_rpg']\n",
    "to_drop_num_names = ['season']#, 'pace'], #'std_points', 'std_assists', 'std_steals', 'std_blocks', 'std_rebounds']\n",
    "to_drop_cat_names = ['name', 'school']\n",
    "fill_with_zeros_names = [feat for feat in numeric_features if feat not in ('height', 'weight', 'ap_poll_rank')]\n",
    "fill_with_median_names = ['height', 'weight']\n",
    "other_cols_names = ['season', 'games_played', 'games_started', 'mpg', 'plus_minus',\n",
    "                    'max_points', 'max_assists', 'max_steals', 'max_blocks',\n",
    "                    'max_rebounds', 'team_games_played', 'sos', 'ap_poll_rank']\n",
    "\n",
    "negative_stats = np.where(np.isin(numeric_features, negative_stats_names))[0]\n",
    "favorable_stats = np.where(np.isin(numeric_features, favorable_stats_names))[0]\n",
    "unfavorable_stats = np.where(np.isin(numeric_features, unfavorable_stats_names))[0]\n",
    "per_game_stats = np.where(np.isin(numeric_features, per_game_stats_names))[0]\n",
    "max_stats = np.where(np.isin(numeric_features, max_stats_names))[0]\n",
    "average_stats = np.where(np.isin(numeric_features, average_stats_names))[0]\n",
    "fill_with_zeros = np.where(np.isin(numeric_features, fill_with_zeros_names))[0]\n",
    "fill_with_median = np.where(np.isin(numeric_features, fill_with_median_names))[0]\n",
    "to_drop_num = np.where(np.isin(numeric_features, to_drop_num_names))[0]\n",
    "to_drop_cat = np.where(np.isin(cat_features, to_drop_cat_names))[0]\n",
    "(season, games_played, games_started, mpg, plus_minus,\n",
    " max_points, max_assists, max_steals, max_blocks, max_rebounds,\n",
    " team_games_played, sos, ap_poll_rank) = np.where(np.isin(numeric_features, other_cols_names))[0]"
   ]
  },
  {
   "cell_type": "markdown",
   "id": "fd32c204",
   "metadata": {},
   "source": [
    "Let's define the first custom transformer: NegativeScaler will be used to convert variables that can take on negative values to a positive range. It may prove useful later when further transformations are applied to these (and other) features."
   ]
  },
  {
   "cell_type": "code",
   "execution_count": 34,
   "id": "d2102fb5",
   "metadata": {},
   "outputs": [],
   "source": [
    "from sklearn.base import BaseEstimator, TransformerMixin\n",
    "from sklearn.preprocessing import MinMaxScaler\n",
    "\n",
    "class NegativeScaler(BaseEstimator, TransformerMixin):\n",
    "    def __init__(self):\n",
    "        pass\n",
    "    \n",
    "    def fit(self, X, y=None):\n",
    "        self.mms = MinMaxScaler((0.001, 0.999))\n",
    "        self.mms.fit(X[:, negative_stats])\n",
    "        return self\n",
    "    \n",
    "    def transform(self, X, y=None):\n",
    "        X[:, negative_stats] = self.mms.transform(X[:, negative_stats])\n",
    "        return X"
   ]
  },
  {
   "cell_type": "markdown",
   "id": "03b4140f",
   "metadata": {},
   "source": [
    "FeatureAdjuster will be used to adjust some of the player's individual stats for the team's strength of schedule. Favorable and unfavorable stats are multiplied by the strength of schedule or one minus strength of schedule accordingly. The keep_old boolean parameter determines whether these newly engineered features should replace the old ones, or should they be added to the dataset while the old features are kept."
   ]
  },
  {
   "cell_type": "code",
   "execution_count": 35,
   "id": "3f3df07c",
   "metadata": {},
   "outputs": [],
   "source": [
    "class FeatureAdjuster(BaseEstimator, TransformerMixin):\n",
    "    def __init__(self, keep_old=False):\n",
    "        self.keep_old = keep_old\n",
    "    \n",
    "    def fit(self, X, y=None):\n",
    "        self.ns = NegativeScaler()\n",
    "        self.ns.fit(X)\n",
    "        return self\n",
    "    \n",
    "    def transform(self, X, y=None):\n",
    "        X = self.ns.transform(X)\n",
    "        favorable_adj = X[:, favorable_stats] * X[:, sos][:, None]\n",
    "        unfavorable_adj = X[:, unfavorable_stats] * (1 - X[:, sos])[:, None]\n",
    "        if not self.keep_old:\n",
    "            X[:, favorable_stats] = favorable_adj\n",
    "            X[:, unfavorable_stats] = unfavorable_adj\n",
    "            return X\n",
    "        return np.c_[X, favorable_adj, unfavorable_adj]"
   ]
  },
  {
   "cell_type": "markdown",
   "id": "7e6d7791",
   "metadata": {},
   "source": [
    "Similarly, the FeatureNormalizer is defined. The number of games started by a player is divided by the total number of games played. The number of games played, on the other hand, is divided by the total number of team games. 'Per game' stats are divided by minutes per game to express the same metrics on a 'per minute' basis. Player's maximum season achievements (e.g. season high in points) are divided by the respective average (per game) stats. Once again, old variables can be either dropper or kept in the dataset depending on the value of the keep_old parameter."
   ]
  },
  {
   "cell_type": "code",
   "execution_count": 36,
   "id": "787af5a1",
   "metadata": {},
   "outputs": [],
   "source": [
    "class FeatureNormalizer(BaseEstimator, TransformerMixin):\n",
    "    def __init__(self, keep_old=False):\n",
    "        self.keep_old = keep_old\n",
    "    \n",
    "    def fit(self, X, y=None):\n",
    "        return self\n",
    "    \n",
    "    def transform(self, X, y=None):\n",
    "        games_started_norm = X[:, games_started]/X[:, games_played]\n",
    "        games_played_norm = X[:, games_played]/X[:, team_games_played]\n",
    "        all_per_game_norm = X[:, per_game_stats]/X[:, mpg][:, None]\n",
    "        max_per_average = X[:, max_stats[:-1]]/(X[:, average_stats[:-2]] + 0.1)\n",
    "        max_per_average_rebs = X[:, max_stats[-1]]/(X[:, average_stats[-2]] + X[:, average_stats[-1]] + 0.1)\n",
    "        if not self.keep_old:\n",
    "            X[:, games_started] = games_started_norm\n",
    "            X[:, games_played] = games_played_norm\n",
    "            X[:, per_game_stats] = all_per_game_norm\n",
    "            X[:, max_stats[:-1]] = max_per_average\n",
    "            X[:, max_stats[-1]] = max_per_average_rebs\n",
    "            return X\n",
    "        return np.c_[X, games_started_norm, games_played_norm,\n",
    "                     all_per_game_norm, max_per_average, max_per_average_rebs]"
   ]
  },
  {
   "cell_type": "markdown",
   "id": "ca3ff1b9",
   "metadata": {},
   "source": [
    "Custom transformers excluding selected features from the dataset (FeatureDropper) and filling columns with missing data according to a specified strategy (CustomImputer) are also defined here."
   ]
  },
  {
   "cell_type": "code",
   "execution_count": 37,
   "id": "80c55a5c",
   "metadata": {},
   "outputs": [],
   "source": [
    "class FeatureDropper(BaseEstimator, TransformerMixin):\n",
    "    def __init__(self, to_drop):\n",
    "        self.to_drop = to_drop\n",
    "        \n",
    "    def fit(self, X, y=None):\n",
    "        return self\n",
    "    \n",
    "    def transform(self, X, y=None):\n",
    "        X = np.array(X)\n",
    "        X = np.delete(X, self.to_drop, axis=1)\n",
    "        return X"
   ]
  },
  {
   "cell_type": "code",
   "execution_count": 38,
   "id": "1c0e3020",
   "metadata": {},
   "outputs": [],
   "source": [
    "from sklearn.impute import SimpleImputer\n",
    "\n",
    "class CustomImputer(BaseEstimator, TransformerMixin):\n",
    "    def __init__(self):\n",
    "        pass\n",
    "    \n",
    "    def fit(self, X, y=None):\n",
    "        X = np.array(X)\n",
    "        self.zero_imputer = SimpleImputer(strategy='constant', fill_value=0)\n",
    "        self.median_imputer = SimpleImputer(strategy='median')\n",
    "        self.median_imputer.fit(X[:, fill_with_median])\n",
    "        return self\n",
    "    \n",
    "    def transform(self, X, y=None):\n",
    "        X = np.array(X)\n",
    "        X[:, fill_with_zeros] = self.zero_imputer.fit_transform(X[:, fill_with_zeros])\n",
    "        X[:, fill_with_median] = self.median_imputer.transform(X[:, fill_with_median])\n",
    "        X[:, ap_poll_rank] = [int(not np.isnan(rank)) for rank in X[:, ap_poll_rank]] \n",
    "        return X"
   ]
  },
  {
   "cell_type": "markdown",
   "id": "6542abb1",
   "metadata": {},
   "source": [
    "Two pipelines, one for the numerical and one for the categorical features, can now be created. As it turned out after many iterations of prototyping, performance of the models was usually better when the FeatureAdjuster was not applied to the dataset and when the FeatureNormalizer did not replace affected variables with those newly engineered. Pipelines will be merged using the ColumnTransformer, fitted to the training set, and applied to both training and validation sets."
   ]
  },
  {
   "cell_type": "code",
   "execution_count": 39,
   "id": "7ab67db9",
   "metadata": {},
   "outputs": [],
   "source": [
    "from sklearn.pipeline import Pipeline\n",
    "from sklearn.compose import ColumnTransformer\n",
    "from sklearn.impute import SimpleImputer\n",
    "from sklearn.preprocessing import OneHotEncoder, StandardScaler\n",
    "\n",
    "num_pipeline = Pipeline([('imputer', CustomImputer()),\n",
    "                         ('normalizer', FeatureNormalizer(keep_old=True)),\n",
    "#                          ('adjuster', FeatureAdjuster()),\n",
    "                         ('dropper', FeatureDropper(to_drop=to_drop_num)),\n",
    "                         ('scaler', StandardScaler()),\n",
    "                        ])\n",
    "\n",
    "cat_pipeline = Pipeline([('dropper', FeatureDropper(to_drop=to_drop_cat)),\n",
    "                         ('encoder', OneHotEncoder()),\n",
    "                        ])\n",
    "\n",
    "feature_transformer = ColumnTransformer([('numeric_pipeline', num_pipeline, numeric_features),\n",
    "                                         ('categorical_pipeline', cat_pipeline, cat_features),\n",
    "                                        ])"
   ]
  },
  {
   "cell_type": "code",
   "execution_count": 40,
   "id": "b3653c07",
   "metadata": {},
   "outputs": [],
   "source": [
    "X_train = feature_transformer.fit_transform(X_train)\n",
    "X_valid = feature_transformer.transform(X_valid)"
   ]
  },
  {
   "cell_type": "markdown",
   "id": "36c17e8f",
   "metadata": {},
   "source": [
    "# Step 4: Developing and shortlisting models"
   ]
  },
  {
   "cell_type": "markdown",
   "id": "0e68a8df",
   "metadata": {},
   "source": [
    "With the data transformed, it is almost time to start building predictive models. Before it happens, let's create a very naive one that makes its predictions randomly (with the probabilty of predicting a given target class directly proportional to the number of instances of that target class in the validation set). As it can be seen below, such a model records an f1 score (averaged over the four target classes using the macro method) of around 0.25. This is a baseline score that will be used to determine whether the predicitve models developed with machine learning techniques are actually any better (and by how much)."
   ]
  },
  {
   "cell_type": "code",
   "execution_count": 41,
   "id": "eddcb931",
   "metadata": {},
   "outputs": [
    {
     "data": {
      "text/plain": [
       "0.25891772301108024"
      ]
     },
     "execution_count": 41,
     "metadata": {},
     "output_type": "execute_result"
    }
   ],
   "source": [
    "from sklearn.metrics import f1_score\n",
    "\n",
    "rng = np.random.default_rng()\n",
    "y_pred_baseline = rng.choice([4, 3, 2, 1], size=len(y_valid), p=(y_valid.value_counts()/len(y_valid)).values)\n",
    "f1_score(y_valid, y_pred_baseline, average='macro')"
   ]
  },
  {
   "cell_type": "markdown",
   "id": "f3e28553",
   "metadata": {},
   "source": [
    "As it was shown before, the dataset is highly imbalanced with respect to the target variable, with more than 97% of records belonging to the 'undrafted' class. Such an overrepresentation in the training set would very likely cause models trained on it to always predict this particular class (as they would generally be right 97% of the time). Obviously enough, such a bahavior is undesirable and therefore this issue needs to be addressed before any models can be developed.\n",
    "\n",
    "One possible way of dealing with imbalanced datasets is to undersample the class that is overrepresented, i.e. only include a limited number of records belonging to a given target category so that its cardinality is equal to (or at least close to) the number of records representing the remaining classes. However, in this case undersampling would cause the resultant set to be way too small to build any credible models on. Therefore, an alternative approach will be employed and the underrepresented classes will be oversampled using the Synthetic Minority Oversampling Technique (SMOTE), meaning that new records (belonigng to the underrepresented classes) will be synthesized from existing examples so that its number can match the number of the most common class (in this case, the undrafted class) or a different specified number. To keep the dataset more realistic and preserve the real-life relationships between the number of players in each of the draft categories, underrepresented classes will be oversampled in a way that the 'undrafted' class will make up half of the dataset, 'second round' class will make up a quarter of the set, and 'lottery' and 'first round' records will make up 1/8 of the dataset each.\n",
    "\n",
    "A function based on the imblearn library is defined and subsequently executed on the train set to serve that task."
   ]
  },
  {
   "cell_type": "code",
   "execution_count": 42,
   "id": "90c129a4",
   "metadata": {},
   "outputs": [],
   "source": [
    "from imblearn.over_sampling import SMOTE\n",
    "\n",
    "def oversample(X, y, random_state=None):\n",
    "    n_undrafted_samples = y_train.value_counts()[4]\n",
    "    sampling_strategy = {4: n_undrafted_samples,\n",
    "                         3: n_undrafted_samples // 2,\n",
    "                         2: n_undrafted_samples // 4,\n",
    "                         1: n_undrafted_samples // 4}\n",
    "    return SMOTE(sampling_strategy=sampling_strategy, random_state=random_state).fit_resample(X, y)"
   ]
  },
  {
   "cell_type": "code",
   "execution_count": 43,
   "id": "4fcbf982",
   "metadata": {},
   "outputs": [],
   "source": [
    "X_train, y_train = oversample(X_train, y_train, random_state=RS)"
   ]
  },
  {
   "cell_type": "markdown",
   "id": "caccb724",
   "metadata": {},
   "source": [
    "Let's also define a function that will prove handy when comparing different models. This function will return a dataframe with an f1 score of predictions made on both the training set and the validation set, as well as the confusion matrix of predictions made on the validation set. A short function displaying the confusion matrix will also be defined."
   ]
  },
  {
   "cell_type": "code",
   "execution_count": 44,
   "id": "b72dd409",
   "metadata": {},
   "outputs": [],
   "source": [
    "from sklearn.metrics import confusion_matrix, ConfusionMatrixDisplay\n",
    "\n",
    "def quick_compare(classifiers, X_train, y_train, X_valid, y_valid, average='macro'):\n",
    "    model_dict = {'model': [], 'train score': [], 'valid score': [], 'confusion matrix': []}\n",
    "    for name, model in classifiers.items():\n",
    "        model.fit(X_train, y_train)\n",
    "        y_pred_train = model.predict(X_train)\n",
    "        y_pred_valid = model.predict(X_valid)\n",
    "        train_score = f1_score(y_train, y_pred_train, average=average)\n",
    "        valid_score = f1_score(y_valid, y_pred_valid, average=average) \n",
    "        cm = confusion_matrix(y_valid, y_pred_valid)\n",
    "        model_dict['model'].append(name)\n",
    "        model_dict['train score'].append(train_score)\n",
    "        model_dict['valid score'].append(valid_score)\n",
    "        model_dict['confusion matrix'].append(cm)\n",
    "    return pd.DataFrame(model_dict)"
   ]
  },
  {
   "cell_type": "code",
   "execution_count": 45,
   "id": "b16ce6da",
   "metadata": {},
   "outputs": [],
   "source": [
    "def plot_confusion_matrix(cm, labels):\n",
    "    disp = ConfusionMatrixDisplay(confusion_matrix=cm, display_labels=labels)\n",
    "    disp.plot()"
   ]
  },
  {
   "cell_type": "markdown",
   "id": "8390cf13",
   "metadata": {},
   "source": [
    "Finally, it is time to define, train, and evaluate some initial predicitve models. At this point it is important to note that when developing estimators that are stochastic in nature (e.g. random forests) a constant random seed will be used so that the results of the analysis are reproducible. This will be particularly important when the hyperparameter tuning is performed later in the process: assigning a specified value to the random state will ensure consistent results when evaluating predictors. It also has to be mentioned that over many iterations of developing and testing models with a varying random seed it was revealed that the estimators are not especially stable: the same model trained twice on the same data could produce different scores when evaluated on the validation set. However, although the exact scores produced by each of the estimators presented in this section may change (sometimes significantly) if the random seed was to be altered, it does not mean that the conclusions and choices concerning the models made throughout the process are invalid, as the average performance of any particular model remained similar over many iterations. The instability of the models, however, is a problem on its own and it will be dealt with later.\n",
    "\n",
    "Having made that disclaimer, let's now try out some basic classification models capable of solving multiclass classification problems and see how they perform."
   ]
  },
  {
   "cell_type": "code",
   "execution_count": 46,
   "id": "fe0c6847",
   "metadata": {},
   "outputs": [],
   "source": [
    "from sklearn.ensemble import RandomForestClassifier, GradientBoostingClassifier, ExtraTreesClassifier, AdaBoostClassifier\n",
    "from sklearn.linear_model import LogisticRegression\n",
    "from sklearn.tree import DecisionTreeClassifier\n",
    "from sklearn.neighbors import KNeighborsClassifier\n",
    "from sklearn.svm import LinearSVC, SVC\n",
    "from sklearn.neural_network import MLPClassifier\n",
    "\n",
    "log_reg = LogisticRegression(multi_class='multinomial', max_iter=100000, solver='saga', random_state=RS)\n",
    "rf = RandomForestClassifier(random_state=RS)\n",
    "knn = KNeighborsClassifier()\n",
    "linear_svc = LinearSVC(multi_class='crammer_singer', max_iter=100000, random_state=RS)\n",
    "svc = SVC(random_state=RS)\n",
    "gbc = GradientBoostingClassifier(random_state=RS)\n",
    "et = ExtraTreesClassifier(random_state=RS)\n",
    "ada = AdaBoostClassifier(random_state=RS)\n",
    "net = MLPClassifier(max_iter=1000, random_state=RS)\n",
    "\n",
    "classifiers = {'knn': knn, 'logistic regression': log_reg, 'random forest': rf,\n",
    "               'svc': svc, 'gradient boost': gbc, 'linear svc': linear_svc,\n",
    "               'extra trees': et, 'ada boost': ada, 'neural net': net,\n",
    "              }"
   ]
  },
  {
   "cell_type": "code",
   "execution_count": 65,
   "id": "b97e578f",
   "metadata": {},
   "outputs": [],
   "source": [
    "model_evaluation = quick_compare(classifiers, X_train, y_train, X_valid, y_valid)"
   ]
  },
  {
   "cell_type": "code",
   "execution_count": 76,
   "id": "86160ac2",
   "metadata": {},
   "outputs": [
    {
     "data": {
      "text/html": [
       "<div>\n",
       "<style scoped>\n",
       "    .dataframe tbody tr th:only-of-type {\n",
       "        vertical-align: middle;\n",
       "    }\n",
       "\n",
       "    .dataframe tbody tr th {\n",
       "        vertical-align: top;\n",
       "    }\n",
       "\n",
       "    .dataframe thead th {\n",
       "        text-align: right;\n",
       "    }\n",
       "</style>\n",
       "<table border=\"1\" class=\"dataframe\">\n",
       "  <thead>\n",
       "    <tr style=\"text-align: right;\">\n",
       "      <th></th>\n",
       "      <th>model</th>\n",
       "      <th>train score</th>\n",
       "      <th>valid score</th>\n",
       "      <th>confusion matrix</th>\n",
       "    </tr>\n",
       "  </thead>\n",
       "  <tbody>\n",
       "    <tr>\n",
       "      <th>0</th>\n",
       "      <td>knn</td>\n",
       "      <td>0.975967</td>\n",
       "      <td>0.404721</td>\n",
       "      <td>[[8, 2, 9, 0], [4, 5, 11, 0], [5, 6, 20, 4], [...</td>\n",
       "    </tr>\n",
       "    <tr>\n",
       "      <th>1</th>\n",
       "      <td>logistic regression</td>\n",
       "      <td>0.865303</td>\n",
       "      <td>0.509773</td>\n",
       "      <td>[[10, 6, 3, 0], [3, 7, 9, 1], [5, 7, 17, 6], [...</td>\n",
       "    </tr>\n",
       "    <tr>\n",
       "      <th>2</th>\n",
       "      <td>random forest</td>\n",
       "      <td>1.000000</td>\n",
       "      <td>0.546934</td>\n",
       "      <td>[[12, 3, 1, 3], [2, 3, 6, 9], [3, 3, 14, 15], ...</td>\n",
       "    </tr>\n",
       "    <tr>\n",
       "      <th>3</th>\n",
       "      <td>svc</td>\n",
       "      <td>0.991853</td>\n",
       "      <td>0.542757</td>\n",
       "      <td>[[12, 3, 3, 1], [2, 7, 10, 1], [6, 6, 15, 8], ...</td>\n",
       "    </tr>\n",
       "    <tr>\n",
       "      <th>4</th>\n",
       "      <td>gradient boost</td>\n",
       "      <td>0.988535</td>\n",
       "      <td>0.554525</td>\n",
       "      <td>[[11, 4, 4, 0], [3, 6, 8, 3], [4, 0, 16, 15], ...</td>\n",
       "    </tr>\n",
       "    <tr>\n",
       "      <th>5</th>\n",
       "      <td>linear svc</td>\n",
       "      <td>0.887435</td>\n",
       "      <td>0.473502</td>\n",
       "      <td>[[10, 6, 3, 0], [3, 5, 10, 2], [5, 6, 17, 7], ...</td>\n",
       "    </tr>\n",
       "    <tr>\n",
       "      <th>6</th>\n",
       "      <td>extra trees</td>\n",
       "      <td>1.000000</td>\n",
       "      <td>0.564983</td>\n",
       "      <td>[[13, 1, 1, 4], [4, 4, 5, 7], [5, 0, 11, 19], ...</td>\n",
       "    </tr>\n",
       "    <tr>\n",
       "      <th>7</th>\n",
       "      <td>ada boost</td>\n",
       "      <td>0.760766</td>\n",
       "      <td>0.517670</td>\n",
       "      <td>[[7, 8, 3, 1], [0, 10, 6, 4], [2, 7, 14, 12], ...</td>\n",
       "    </tr>\n",
       "    <tr>\n",
       "      <th>8</th>\n",
       "      <td>neural net</td>\n",
       "      <td>1.000000</td>\n",
       "      <td>0.568803</td>\n",
       "      <td>[[12, 3, 3, 1], [2, 5, 6, 7], [5, 2, 15, 13], ...</td>\n",
       "    </tr>\n",
       "  </tbody>\n",
       "</table>\n",
       "</div>"
      ],
      "text/plain": [
       "                 model  train score  valid score  \\\n",
       "0                  knn     0.975967     0.404721   \n",
       "1  logistic regression     0.865303     0.509773   \n",
       "2        random forest     1.000000     0.546934   \n",
       "3                  svc     0.991853     0.542757   \n",
       "4       gradient boost     0.988535     0.554525   \n",
       "5           linear svc     0.887435     0.473502   \n",
       "6          extra trees     1.000000     0.564983   \n",
       "7            ada boost     0.760766     0.517670   \n",
       "8           neural net     1.000000     0.568803   \n",
       "\n",
       "                                    confusion matrix  \n",
       "0  [[8, 2, 9, 0], [4, 5, 11, 0], [5, 6, 20, 4], [...  \n",
       "1  [[10, 6, 3, 0], [3, 7, 9, 1], [5, 7, 17, 6], [...  \n",
       "2  [[12, 3, 1, 3], [2, 3, 6, 9], [3, 3, 14, 15], ...  \n",
       "3  [[12, 3, 3, 1], [2, 7, 10, 1], [6, 6, 15, 8], ...  \n",
       "4  [[11, 4, 4, 0], [3, 6, 8, 3], [4, 0, 16, 15], ...  \n",
       "5  [[10, 6, 3, 0], [3, 5, 10, 2], [5, 6, 17, 7], ...  \n",
       "6  [[13, 1, 1, 4], [4, 4, 5, 7], [5, 0, 11, 19], ...  \n",
       "7  [[7, 8, 3, 1], [0, 10, 6, 4], [2, 7, 14, 12], ...  \n",
       "8  [[12, 3, 3, 1], [2, 5, 6, 7], [5, 2, 15, 13], ...  "
      ]
     },
     "execution_count": 76,
     "metadata": {},
     "output_type": "execute_result"
    }
   ],
   "source": [
    "model_evaluation"
   ]
  },
  {
   "cell_type": "markdown",
   "id": "db9e4dce",
   "metadata": {},
   "source": [
    "As it can be seen above, all the models outperformed the baseline model by a significant margin. However, the bar was not set particularly high: the majority of estimators produced a rather unimpressive validation score of around 0.5, while severly overfitting the training set (note values close to or even equal to 1 in the 'train score' column). Four of the estimators clearly underperformed (k nearest neighbors, logistic regression, linear support vector classifier, and adaptive boosting classifier), while the remaining models yielded very similar results. Neural net, along with three tree-based classifiers (random forest, gradient boosting classifier, and extra random trees) were amongst the best performing estimators."
   ]
  },
  {
   "cell_type": "markdown",
   "id": "8187b73f",
   "metadata": {},
   "source": [
    "Let's look at the confusion matrix of the predictions made on the validation set by one of the better performing models: the extra trees classifier. As it is demonstrated below, although the model makes a lot of errors and its f1 score leaves a lot to be desired, its predictions are not actually that bad: those made on one of the ends of the target spectrum ('lottery' and 'undrafted' classes) tend to be correct most of the time, and the model does a solid job identifying players from outside the first round ('second round' and 'undrafted' classes). It does not do so well labeling players drafted in the first round and it confuses them quite often with the remaining three classes. It seems like the classifier makes the most errors 'in the middle ground', which could be a promising indicator that it did actually detect some patterns in the data, but they are not sufficient to perfectly seperate it with respect to the target variable."
   ]
  },
  {
   "cell_type": "code",
   "execution_count": 47,
   "id": "e489522a",
   "metadata": {},
   "outputs": [],
   "source": [
    "labels = ['lottery', 'first round', 'second round', 'undrafted']"
   ]
  },
  {
   "cell_type": "code",
   "execution_count": 33,
   "id": "9a743502",
   "metadata": {},
   "outputs": [
    {
     "data": {
      "image/png": "[encoded data removed]",
      "text/plain": [
       "<Figure size 432x288 with 2 Axes>"
      ]
     },
     "metadata": {
      "needs_background": "light"
     },
     "output_type": "display_data"
    }
   ],
   "source": [
    "cm = model_evaluation.loc[6, 'confusion matrix']\n",
    "plot_confusion_matrix(cm, labels)"
   ]
  },
  {
   "cell_type": "markdown",
   "id": "0bd5cac3",
   "metadata": {},
   "source": [
    "In the above attempt at building first estimators, the problem of predicting how high in a draft will a given player be drafted (or undrafted) was treated as a typical classification task. Target groups were assumed to be independent from each other, and, perhaps more importantly, unordered. By taking this approach, it was possible to use simple classification models to make predictions, but at the same time the information about the hierarchy of the groups was lost: the fact that lottery players are not only different from second round players (as they belong to two seperate target classes), but are also (arguably) better than them was ignored during training. Let's try to preserve that piece of information by approaching the problem as it was a regression task."
   ]
  },
  {
   "cell_type": "markdown",
   "id": "5fbf89a7",
   "metadata": {},
   "source": [
    "The idea is very simple: because the target variable is represented by integers 1 through 4 with the lower numbers corresponding to better draft positions, it is possible to train regression models on it as it was a continous variable and later convert the predictions made by these models to one of the possible values that the target variable may take. This approach, however, has one fundamental shortcoming: it assumes that consecutive target classes lie at equal distances from each other, which in this problem is hardly the case. Despite that, it is still worth checking if regression models could outperform the classification models that had been defined and trained earlier.\n",
    "\n",
    "A custom estimator, coherent with the interface of the scikit-learn library, was defined for that purpose. The RegressionClassifier class can take any scikit-learn regression estimator object as a constructor parameter and turn it into a multiclass classifier that predicts a target values that is the closest to the orignal estimator's real number prediction (assuming that possible target values are consecutive integers)."
   ]
  },
  {
   "cell_type": "code",
   "execution_count": 48,
   "id": "9827533a",
   "metadata": {},
   "outputs": [],
   "source": [
    "from sklearn.base import ClassifierMixin\n",
    "\n",
    "class RegressionClassifier(BaseEstimator, ClassifierMixin):\n",
    "    \n",
    "    def __init__(self, clf):\n",
    "        self.clf = clf\n",
    "    \n",
    "    def fit(self, X, y):\n",
    "        self.floor = y.min()\n",
    "        self.ceil = y.max()\n",
    "        self.clf.fit(X, y)\n",
    "    \n",
    "    def predict(self, X):\n",
    "        y_pred = np.round(self.clf.predict(X))\n",
    "        y_pred_cast = []\n",
    "        for prediction in y_pred:\n",
    "            prediction = int(prediction)\n",
    "            if prediction < self.floor:\n",
    "                y_pred_cast.append(self.floor)\n",
    "            elif prediction > self.ceil:\n",
    "                y_pred_cast.append(self.ceil)\n",
    "            else:\n",
    "                y_pred_cast.append(prediction)\n",
    "        return np.array(y_pred_cast)"
   ]
  },
  {
   "cell_type": "markdown",
   "id": "a48fcad7",
   "metadata": {},
   "source": [
    "Just like it was done before with the classifiers, let's now initate and evaluate commmon regression estimators utilizing the RegressionClassifier class that was just defined."
   ]
  },
  {
   "cell_type": "code",
   "execution_count": 49,
   "id": "9b3e72e8",
   "metadata": {},
   "outputs": [],
   "source": [
    "from sklearn.ensemble import RandomForestRegressor, ExtraTreesRegressor, AdaBoostRegressor, GradientBoostingRegressor\n",
    "from sklearn.linear_model import LinearRegression\n",
    "from sklearn.svm import SVR\n",
    "from sklearn.neighbors import KNeighborsRegressor\n",
    "from sklearn.tree import DecisionTreeRegressor\n",
    "from sklearn.neural_network import MLPRegressor\n",
    "\n",
    "lin_reg = RegressionClassifier(LinearRegression())\n",
    "svr = RegressionClassifier(SVR())\n",
    "knr = RegressionClassifier(KNeighborsRegressor())\n",
    "gbr = RegressionClassifier(GradientBoostingRegressor(random_state=101))\n",
    "rfr = RegressionClassifier(RandomForestRegressor(random_state=101))\n",
    "etr = RegressionClassifier(ExtraTreesRegressor(random_state=101))\n",
    "adar = RegressionClassifier(AdaBoostRegressor(random_state=101))\n",
    "netr = RegressionClassifier(MLPRegressor(max_iter=1000, random_state=101))\n",
    "\n",
    "regressors = {'linear regression': lin_reg, 'support vector regressor': svr,\n",
    "              'k neighbors regressor': knr, 'random forest regressor': rfr,\n",
    "              'gradient boosting regressor': gbr, 'extra trees regressor': etr,\n",
    "              'ada boost regressor': adar, 'neural net regreesor': netr,\n",
    "              }"
   ]
  },
  {
   "cell_type": "code",
   "execution_count": 50,
   "id": "4f79bcdd",
   "metadata": {},
   "outputs": [],
   "source": [
    "reg_model_evaluation = quick_compare(regressors, X_train, y_train, X_valid, y_valid)"
   ]
  },
  {
   "cell_type": "code",
   "execution_count": 35,
   "id": "d4073f27",
   "metadata": {},
   "outputs": [
    {
     "data": {
      "text/html": [
       "<div>\n",
       "<style scoped>\n",
       "    .dataframe tbody tr th:only-of-type {\n",
       "        vertical-align: middle;\n",
       "    }\n",
       "\n",
       "    .dataframe tbody tr th {\n",
       "        vertical-align: top;\n",
       "    }\n",
       "\n",
       "    .dataframe thead th {\n",
       "        text-align: right;\n",
       "    }\n",
       "</style>\n",
       "<table border=\"1\" class=\"dataframe\">\n",
       "  <thead>\n",
       "    <tr style=\"text-align: right;\">\n",
       "      <th></th>\n",
       "      <th>model</th>\n",
       "      <th>train score</th>\n",
       "      <th>valid score</th>\n",
       "      <th>confusion matrix</th>\n",
       "    </tr>\n",
       "  </thead>\n",
       "  <tbody>\n",
       "    <tr>\n",
       "      <th>0</th>\n",
       "      <td>linear regression</td>\n",
       "      <td>0.602848</td>\n",
       "      <td>0.426582</td>\n",
       "      <td>[[6, 10, 3, 0], [0, 11, 9, 0], [0, 20, 15, 0],...</td>\n",
       "    </tr>\n",
       "    <tr>\n",
       "      <th>1</th>\n",
       "      <td>support vector regressor</td>\n",
       "      <td>0.971505</td>\n",
       "      <td>0.473916</td>\n",
       "      <td>[[5, 11, 2, 1], [1, 8, 10, 1], [0, 12, 20, 3],...</td>\n",
       "    </tr>\n",
       "    <tr>\n",
       "      <th>2</th>\n",
       "      <td>k neighbors regressor</td>\n",
       "      <td>0.974883</td>\n",
       "      <td>0.427144</td>\n",
       "      <td>[[8, 3, 7, 1], [2, 6, 12, 0], [5, 6, 21, 3], [...</td>\n",
       "    </tr>\n",
       "    <tr>\n",
       "      <th>3</th>\n",
       "      <td>random forest regressor</td>\n",
       "      <td>0.997526</td>\n",
       "      <td>0.532157</td>\n",
       "      <td>[[7, 7, 4, 1], [1, 7, 9, 3], [0, 5, 21, 9], [0...</td>\n",
       "    </tr>\n",
       "    <tr>\n",
       "      <th>4</th>\n",
       "      <td>gradient boosting regressor</td>\n",
       "      <td>0.853648</td>\n",
       "      <td>0.545263</td>\n",
       "      <td>[[8, 7, 4, 0], [0, 10, 9, 1], [0, 9, 22, 4], [...</td>\n",
       "    </tr>\n",
       "    <tr>\n",
       "      <th>5</th>\n",
       "      <td>extra trees regressor</td>\n",
       "      <td>1.000000</td>\n",
       "      <td>0.520528</td>\n",
       "      <td>[[6, 9, 4, 0], [1, 7, 10, 2], [1, 5, 19, 10], ...</td>\n",
       "    </tr>\n",
       "    <tr>\n",
       "      <th>6</th>\n",
       "      <td>ada boost regressor</td>\n",
       "      <td>0.485741</td>\n",
       "      <td>0.336123</td>\n",
       "      <td>[[0, 17, 2, 0], [0, 10, 10, 0], [0, 14, 21, 0]...</td>\n",
       "    </tr>\n",
       "    <tr>\n",
       "      <th>7</th>\n",
       "      <td>neural net regreesor</td>\n",
       "      <td>0.992643</td>\n",
       "      <td>0.522652</td>\n",
       "      <td>[[8, 7, 3, 1], [1, 6, 11, 2], [0, 8, 22, 5], [...</td>\n",
       "    </tr>\n",
       "  </tbody>\n",
       "</table>\n",
       "</div>"
      ],
      "text/plain": [
       "                         model  train score  valid score  \\\n",
       "0            linear regression     0.602848     0.426582   \n",
       "1     support vector regressor     0.971505     0.473916   \n",
       "2        k neighbors regressor     0.974883     0.427144   \n",
       "3      random forest regressor     0.997526     0.532157   \n",
       "4  gradient boosting regressor     0.853648     0.545263   \n",
       "5        extra trees regressor     1.000000     0.520528   \n",
       "6          ada boost regressor     0.485741     0.336123   \n",
       "7         neural net regreesor     0.992643     0.522652   \n",
       "\n",
       "                                    confusion matrix  \n",
       "0  [[6, 10, 3, 0], [0, 11, 9, 0], [0, 20, 15, 0],...  \n",
       "1  [[5, 11, 2, 1], [1, 8, 10, 1], [0, 12, 20, 3],...  \n",
       "2  [[8, 3, 7, 1], [2, 6, 12, 0], [5, 6, 21, 3], [...  \n",
       "3  [[7, 7, 4, 1], [1, 7, 9, 3], [0, 5, 21, 9], [0...  \n",
       "4  [[8, 7, 4, 0], [0, 10, 9, 1], [0, 9, 22, 4], [...  \n",
       "5  [[6, 9, 4, 0], [1, 7, 10, 2], [1, 5, 19, 10], ...  \n",
       "6  [[0, 17, 2, 0], [0, 10, 10, 0], [0, 14, 21, 0]...  \n",
       "7  [[8, 7, 3, 1], [1, 6, 11, 2], [0, 8, 22, 5], [...  "
      ]
     },
     "execution_count": 35,
     "metadata": {},
     "output_type": "execute_result"
    }
   ],
   "source": [
    "reg_model_evaluation"
   ]
  },
  {
   "cell_type": "markdown",
   "id": "be671098",
   "metadata": {},
   "source": [
    "As it can be seen in the table above, approaching the task as if it was a regression problem yielded results that in most cases are comparable, but usually slightly worse than those observed before. The same kinds of models that performed best when traditional classifiers were used also produced the best scores when regressors were employed for the task, however, the performance of each individual regressor was lower than that of its corresponding classifier. Although it seems like this approach is inferior to the one proposed earlier, it does not necessarily mean than the regression-based estimators will be of no use later in the process. Let's look at the confusion matrix of the gradient boosting regressor to understand why."
   ]
  },
  {
   "cell_type": "code",
   "execution_count": 39,
   "id": "780c29d9",
   "metadata": {
    "scrolled": false
   },
   "outputs": [
    {
     "data": {
      "image/png": "[encoded data removed]",
      "text/plain": [
       "<Figure size 432x288 with 2 Axes>"
      ]
     },
     "metadata": {
      "needs_background": "light"
     },
     "output_type": "display_data"
    }
   ],
   "source": [
    "cm = reg_model_evaluation.loc[4, 'confusion matrix']\n",
    "plot_confusion_matrix(cm, labels)"
   ]
  },
  {
   "cell_type": "markdown",
   "id": "ef56696a",
   "metadata": {},
   "source": [
    "The confusion matrix reveals an interesting characteristic about this particular estimator (although it holds true for the remaining regressors that did not visibly underperform): it makes different types of errors as compared to the classifiers tested earlier. For example, it mislabeled a lot of instances belonging to the 'undrafted' class and assigned them to the 'second round' category instead (low recall, if the 'undrafted' class was to be treated as a positive class in a binary classification problem), but at the same time it hardly classified any instances from outside that class as 'undrafted' (high precision). Moreover, the highest values in each row of the matrix can be found on its diagonal, meaning that the correct class is predicted more frequently than any of the other three classes. It also did much better than the traditional classifiers labeling 'first round' players. The fact that regressors commit different types of mistakes when making predictions on the validation set might prove useful later in the process."
   ]
  },
  {
   "cell_type": "markdown",
   "id": "dc3f5106",
   "metadata": {},
   "source": [
    "Instead of treating it as a normal multiclass classification task, or a typical regression problem, let's try yet another possible way to tackle 'ordinal classification' problems like this one. Assuming there are <i>n</i> ordered target classes, let's train <i>n-1</i> binary classifiers, each predicting the probability of <i>y > k</i>, where <i>k</i> is the <i>i-th</i> consecutive target class. In this case, there are 4 ordered classes, so it will be necessary to train 3 binary classifiers (first one treating all instances belonging to class 1 as zeros, second one treating all instances belonging to classes 1 or 2 as zeros, third one treating all instances beloging to classes 1, 2, or 3 as zeros). Subsequently, each of these classifiers will be asked to predict the probability associated with a given instance belonging to the non-zero binary class (i.e. first classifier will predict the probabilty of an instance belonging to an ordinal class higher than 1, second classifier will predict the probability of an instance belonging to an ordinal class higher than 2, and the third classifier will predict the probability of an instance belonging to an ordinal class higher than 3). By subtracting relevant probabilities, it will be then possible to predict which of the ordinal target classes a given instance is the most likely to belong to (e.g. probability of a given instance belonging to class 2 equals the probability of the instance belonging to a class higher than 1 minus the probability of the instance belonging to a class higher than 2). This approach was introduced (and is better explained) in this paper: https://www.cs.waikato.ac.nz/~eibe/pubs/ordinal_tech_report.pdf."
   ]
  },
  {
   "cell_type": "markdown",
   "id": "34486b8e",
   "metadata": {},
   "source": [
    "Below is the OrdinalClassifier class defined to makes such predictions. It was developed based on the code proposed here: https://towardsdatascience.com/simple-trick-to-train-an-ordinal-regression-with-any-classifier-6911183d2a3c. It can be used with any classifying estimator coherent with the scikit-learn interface as long as it is equipped with a predict_proba method."
   ]
  },
  {
   "cell_type": "code",
   "execution_count": 51,
   "id": "36b48a63",
   "metadata": {},
   "outputs": [],
   "source": [
    "from sklearn.base import clone\n",
    "\n",
    "class OrdinalClassifier(BaseEstimator, ClassifierMixin):\n",
    "    \n",
    "    def __init__(self, clf):\n",
    "        self.clf = clf\n",
    "        self.clfs = {}\n",
    "    \n",
    "    def fit(self, X, y):\n",
    "        self.unique_classes = np.sort(np.unique(y))\n",
    "        if self.unique_classes.shape[0] > 2:\n",
    "            for unique_class in self.unique_classes[:-1]:\n",
    "                binary_y = (y > unique_class).astype(np.uint8)\n",
    "                clf = clone(self.clf)\n",
    "                clf.fit(X, binary_y)\n",
    "                self.clfs[unique_class] = clf\n",
    "        return self\n",
    "    \n",
    "    def predict_proba(self, X):\n",
    "        clfs_predict = {k:self.clfs[k].predict_proba(X) for k in self.clfs}\n",
    "        predicted = []\n",
    "        for i, unique_class in enumerate(self.unique_classes):\n",
    "            if i == 0:\n",
    "                predicted.append(1 - clfs_predict[unique_class][:,1])\n",
    "            elif self.unique_classes.shape[0] -1 > i > 0:\n",
    "                 predicted.append(clfs_predict[unique_class-1][:,1] - clfs_predict[unique_class][:,1])\n",
    "            else:\n",
    "                predicted.append(clfs_predict[unique_class-1][:,1])\n",
    "        return np.vstack(predicted).T\n",
    "    \n",
    "    def predict(self, X):\n",
    "        predictions = []\n",
    "        predicted_indices = np.argmax(self.predict_proba(X), axis=1)\n",
    "        for index in predicted_indices:\n",
    "            predictions.append(self.unique_classes[index])\n",
    "        return np.array(predictions)"
   ]
  },
  {
   "cell_type": "markdown",
   "id": "b4bfad67",
   "metadata": {},
   "source": [
    "Once again, let's initiate some classifiers capable of predicting probabilities and see how well they can perform compared to the baseline model and models tested before."
   ]
  },
  {
   "cell_type": "code",
   "execution_count": 52,
   "id": "323373f0",
   "metadata": {},
   "outputs": [],
   "source": [
    "log_reg_ord = OrdinalClassifier(LogisticRegression(multi_class='multinomial', solver='saga', max_iter=100000, random_state=101))\n",
    "rf_ord = OrdinalClassifier(RandomForestClassifier(random_state=101))\n",
    "knn_ord = OrdinalClassifier(KNeighborsClassifier())\n",
    "svc_ord = OrdinalClassifier(SVC(probability=True, random_state=101))\n",
    "gbc_ord = OrdinalClassifier(GradientBoostingClassifier(random_state=101))\n",
    "et_ord = OrdinalClassifier(ExtraTreesClassifier(random_state=101))\n",
    "ada_ord = OrdinalClassifier(AdaBoostClassifier(random_state=101))\n",
    "net_ord = OrdinalClassifier(MLPClassifier(max_iter=1000, random_state=101))\n",
    "\n",
    "ordinal_classifiers = {'logistic regression': log_reg_ord, 'random forest': rf_ord,\n",
    "                       'knn': knn_ord, 'svc': svc_ord, 'gradient boosting': gbc_ord,\n",
    "                       'extra trees': et_ord, 'ada boost': ada_ord, 'neural net': net_ord,\n",
    "                      }"
   ]
  },
  {
   "cell_type": "code",
   "execution_count": 53,
   "id": "9b5fead5",
   "metadata": {},
   "outputs": [],
   "source": [
    "ord_model_evaluation = quick_compare(ordinal_classifiers, X_train, y_train, X_valid, y_valid)"
   ]
  },
  {
   "cell_type": "code",
   "execution_count": 44,
   "id": "a3bc0974",
   "metadata": {},
   "outputs": [
    {
     "data": {
      "text/html": [
       "<div>\n",
       "<style scoped>\n",
       "    .dataframe tbody tr th:only-of-type {\n",
       "        vertical-align: middle;\n",
       "    }\n",
       "\n",
       "    .dataframe tbody tr th {\n",
       "        vertical-align: top;\n",
       "    }\n",
       "\n",
       "    .dataframe thead th {\n",
       "        text-align: right;\n",
       "    }\n",
       "</style>\n",
       "<table border=\"1\" class=\"dataframe\">\n",
       "  <thead>\n",
       "    <tr style=\"text-align: right;\">\n",
       "      <th></th>\n",
       "      <th>model</th>\n",
       "      <th>train score</th>\n",
       "      <th>valid score</th>\n",
       "      <th>confusion matrix</th>\n",
       "    </tr>\n",
       "  </thead>\n",
       "  <tbody>\n",
       "    <tr>\n",
       "      <th>0</th>\n",
       "      <td>logistic regression</td>\n",
       "      <td>0.856946</td>\n",
       "      <td>0.539512</td>\n",
       "      <td>[[12, 3, 4, 0], [2, 8, 9, 1], [5, 8, 16, 6], [...</td>\n",
       "    </tr>\n",
       "    <tr>\n",
       "      <th>1</th>\n",
       "      <td>random forest</td>\n",
       "      <td>1.000000</td>\n",
       "      <td>0.551258</td>\n",
       "      <td>[[11, 4, 1, 3], [1, 4, 6, 9], [4, 1, 13, 17], ...</td>\n",
       "    </tr>\n",
       "    <tr>\n",
       "      <th>2</th>\n",
       "      <td>knn</td>\n",
       "      <td>0.975821</td>\n",
       "      <td>0.419204</td>\n",
       "      <td>[[8, 2, 8, 1], [2, 7, 11, 0], [5, 6, 20, 4], [...</td>\n",
       "    </tr>\n",
       "    <tr>\n",
       "      <th>3</th>\n",
       "      <td>svc</td>\n",
       "      <td>0.994566</td>\n",
       "      <td>0.557418</td>\n",
       "      <td>[[13, 2, 2, 2], [6, 5, 6, 3], [4, 5, 15, 11], ...</td>\n",
       "    </tr>\n",
       "    <tr>\n",
       "      <th>4</th>\n",
       "      <td>gradient boosting</td>\n",
       "      <td>0.980332</td>\n",
       "      <td>0.542429</td>\n",
       "      <td>[[10, 5, 3, 1], [2, 5, 12, 1], [3, 4, 18, 10],...</td>\n",
       "    </tr>\n",
       "    <tr>\n",
       "      <th>5</th>\n",
       "      <td>extra trees</td>\n",
       "      <td>1.000000</td>\n",
       "      <td>0.553180</td>\n",
       "      <td>[[13, 2, 1, 3], [4, 3, 3, 10], [4, 1, 12, 18],...</td>\n",
       "    </tr>\n",
       "    <tr>\n",
       "      <th>6</th>\n",
       "      <td>ada boost</td>\n",
       "      <td>0.352110</td>\n",
       "      <td>0.386458</td>\n",
       "      <td>[[15, 0, 0, 4], [5, 0, 0, 15], [10, 0, 0, 25],...</td>\n",
       "    </tr>\n",
       "    <tr>\n",
       "      <th>7</th>\n",
       "      <td>neural net</td>\n",
       "      <td>1.000000</td>\n",
       "      <td>0.523793</td>\n",
       "      <td>[[10, 5, 2, 2], [2, 3, 8, 7], [3, 4, 16, 12], ...</td>\n",
       "    </tr>\n",
       "  </tbody>\n",
       "</table>\n",
       "</div>"
      ],
      "text/plain": [
       "                 model  train score  valid score  \\\n",
       "0  logistic regression     0.856946     0.539512   \n",
       "1        random forest     1.000000     0.551258   \n",
       "2                  knn     0.975821     0.419204   \n",
       "3                  svc     0.994566     0.557418   \n",
       "4    gradient boosting     0.980332     0.542429   \n",
       "5          extra trees     1.000000     0.553180   \n",
       "6            ada boost     0.352110     0.386458   \n",
       "7           neural net     1.000000     0.523793   \n",
       "\n",
       "                                    confusion matrix  \n",
       "0  [[12, 3, 4, 0], [2, 8, 9, 1], [5, 8, 16, 6], [...  \n",
       "1  [[11, 4, 1, 3], [1, 4, 6, 9], [4, 1, 13, 17], ...  \n",
       "2  [[8, 2, 8, 1], [2, 7, 11, 0], [5, 6, 20, 4], [...  \n",
       "3  [[13, 2, 2, 2], [6, 5, 6, 3], [4, 5, 15, 11], ...  \n",
       "4  [[10, 5, 3, 1], [2, 5, 12, 1], [3, 4, 18, 10],...  \n",
       "5  [[13, 2, 1, 3], [4, 3, 3, 10], [4, 1, 12, 18],...  \n",
       "6  [[15, 0, 0, 4], [5, 0, 0, 15], [10, 0, 0, 25],...  \n",
       "7  [[10, 5, 2, 2], [2, 3, 8, 7], [3, 4, 16, 12], ...  "
      ]
     },
     "execution_count": 44,
     "metadata": {},
     "output_type": "execute_result"
    }
   ],
   "source": [
    "ord_model_evaluation"
   ]
  },
  {
   "cell_type": "markdown",
   "id": "a6f0a173",
   "metadata": {},
   "source": [
    "It seems like in general the results are again very similar to what they were when classification and regression estimators were used (although they are a little worse when compared to the traditional classifiers), with the exception of the logistic regression model that for the first time produced a competitive score. Below is the confusion matrix of the ordinal classifier based on the extra trees estimator. Again, it looks like it performed well in some areas, and not so great in others. For example, it made very few errors identifying 'lottery' and 'undrafted' players, but confused a significant number of 'second round' instances with 'undrafted' players, and, similarly to traditional classifiers, did poorly differentitating between the 'first round' class and the remaining three classes."
   ]
  },
  {
   "cell_type": "code",
   "execution_count": 51,
   "id": "91f19c91",
   "metadata": {
    "scrolled": true
   },
   "outputs": [
    {
     "data": {
      "image/png": "[encoded data removed]",
      "text/plain": [
       "<Figure size 432x288 with 2 Axes>"
      ]
     },
     "metadata": {
      "needs_background": "light"
     },
     "output_type": "display_data"
    }
   ],
   "source": [
    "cm = ord_model_evaluation.loc[5, 'confusion matrix']\n",
    "plot_confusion_matrix(cm, labels)"
   ]
  },
  {
   "cell_type": "markdown",
   "id": "495fc726",
   "metadata": {},
   "source": [
    "Three different methods of dealing with the ordinal classification problem were tested and several different models were evaluated in each of them. It is hard to point to a single estimator (or a single method) that clearly outperformed the rest, as the majority of predictors, with few exceptions, achieved a similar f1 score of around 0.50 - 0.55. It was interesting to see that in general it was the same families of models that performed the best and that there were differences in the type of errors commited by the estimators between three different methods. The latter property might soon prove useful, when an ensemble of models is created in an effort to develop a stronger learner outperforming all the individual weak learners (while at the same time reducing variance). In the next steps, an attempt at finding the right set of hyperparameters for each of the models that showed the most promise will be made."
   ]
  },
  {
   "cell_type": "markdown",
   "id": "1ccb40af",
   "metadata": {},
   "source": [
    "# Step 5: Tuning model hyperparameters"
   ]
  },
  {
   "cell_type": "markdown",
   "id": "d8210571",
   "metadata": {},
   "source": [
    "Some of the estimators evaluated in the previous step outperformed the rest by what seems to be a significant margin, however, the differences between various models (except for a few that clearly underperformed, like the k nearest neighbors) are not large enough to select a single estimator (or a family of estimators) that is unambigously better than the rest to continue further analysis with, especially without first tuning the hyperparameters. Because the dataset is relatively small and the training times relatively short (seconds and minutes rather than hours), it will be possible to fine tune several of the models initiated in the previous step (coming from all three methods) and decide later, which of them to include in the final estimator."
   ]
  },
  {
   "cell_type": "markdown",
   "id": "61513aa8",
   "metadata": {},
   "source": [
    "Traditionally, cross-validation folds are used during the hyperparameter tuning to compare various combinations of estimator settings and select the one that yields the best results. However, because the training data was oversampled to compensate for the underrepresentation of drafted players, cross-validation might not be a valid method, as the models would be validated on samples that are very similar to those seen during training. Therefore, it is better to use the validation set that was set aside earlier (although it is worth mentioning that tuning the hyperparameters using a predefined set as a reference poses a risk of overfitting to that set). To be able to integrate the validation set in the scikit-learn GridSearchCV class, it will be first necessary to combine training and validation sets and create a predefined split. This is achieved with the function defined below. "
   ]
  },
  {
   "cell_type": "code",
   "execution_count": 54,
   "id": "eecf2372",
   "metadata": {},
   "outputs": [],
   "source": [
    "from sklearn.model_selection import PredefinedSplit\n",
    "\n",
    "def validation_fold(X_train, X_valid, y_train, y_valid):\n",
    "    X_train_valid = np.vstack([X_train, X_valid])\n",
    "    y_train_valid = pd.concat([y_train, y_valid])\n",
    "    y_train_valid.index = range(len(y_train_valid))\n",
    "    test_fold = [-1 if i < len(y_train) else 0 for i in range(len(y_train_valid))]\n",
    "    ps = PredefinedSplit(test_fold)\n",
    "    return X_train_valid, y_train_valid, ps"
   ]
  },
  {
   "cell_type": "code",
   "execution_count": 55,
   "id": "38d23954",
   "metadata": {},
   "outputs": [],
   "source": [
    "X_train_valid, y_train_valid, ps = validation_fold(X_train, X_valid, y_train, y_valid)"
   ]
  },
  {
   "cell_type": "markdown",
   "id": "fbc47b4d",
   "metadata": {},
   "source": [
    "Because traditional grid search is only capable of tuning one model at a time, let's define a short function that will iterate over multiple models and apply the grid search to each of them to later return a summary of the process in the form of a dataframe."
   ]
  },
  {
   "cell_type": "code",
   "execution_count": 56,
   "id": "c1690f9e",
   "metadata": {},
   "outputs": [],
   "source": [
    "from sklearn.model_selection import GridSearchCV\n",
    "\n",
    "def multi_grid_search(X, y, estimators_params, cv=5, scoring='f1_macro'):\n",
    "    grid_search_fits = {'estimator': [], 'best_params': [], 'best_score': [], 'gs_fit': []}\n",
    "    for model, hyper_parameter_dict in estimators_params.items():\n",
    "        gs = GridSearchCV(model, hyper_parameter_dict, cv=cv, n_jobs=-1, scoring=scoring, verbose=4).fit(X, y)\n",
    "        grid_search_fits['estimator'].append(model)\n",
    "        grid_search_fits['best_params'].append(gs.best_params_)\n",
    "        grid_search_fits['best_score'].append(gs.best_score_)\n",
    "        grid_search_fits['gs_fit'].append(gs)\n",
    "    return pd.DataFrame(grid_search_fits)"
   ]
  },
  {
   "cell_type": "markdown",
   "id": "3ab43309",
   "metadata": {},
   "source": [
    "Now it is time to list the estimators to perform the fine-tuning on, and define the dictionaries of hyperparameters to check. All the models that did not visibly underperform will be included in the grid search. This will include traditional classifiers (GradientBoostingClassifier, RandomForesetClassifier, ExtraTreesClassifier, MLPClassifier), regression models that were adapted to perform multiclass classification (GradientBoostingRegressor, RandomForestRegressor), and ordinal classifiers (SupportVectorClassifier, MLPClassifier, GradientBoostingClassifier, LogisticRegression, RandomForestClassifier, ExtraTreesClassifier). In total, 12 of the original 28 models tested before will be evaluated in search for the best set of hyperparameters. Normally, this number would be much smaller, however, as it was mentioned before, because the differences in performance between various estimators were rather low, it is worth checking if tuning the hyperparameters could drastically improve one of the models that did not initially stand out, especially given that the dataset size enables for such a solution in a relatively short time.\n",
    "\n",
    "Hyperparameters that will be checked in respective models are defined below. The grid search is subsequently initiated and the results presented directly under the code snippet."
   ]
  },
  {
   "cell_type": "code",
   "execution_count": 57,
   "id": "6b73b4f0",
   "metadata": {},
   "outputs": [],
   "source": [
    "gbc_params = {'max_depth': [2, 3, 5, 10],\n",
    "              'min_samples_split': [2, 5, 10],\n",
    "              'min_samples_leaf': [1, 2, 5],\n",
    "             }\n",
    "\n",
    "rf_params = {'n_estimators': [10, 50, 100, 250],\n",
    "             'max_depth': [2, 3, 5, 10],\n",
    "             'min_samples_split': [2, 5, 10],\n",
    "             'min_samples_leaf': [1, 2, 5],\n",
    "            }\n",
    "\n",
    "et_params = {'n_estimators': [10, 50, 100, 250],\n",
    "             'max_depth': [2, 3, 5, 10],\n",
    "             'min_samples_split': [2, 5, 10],\n",
    "             'min_samples_leaf': [1, 2, 5],\n",
    "            }\n",
    "\n",
    "net_params = {'hidden_layer_sizes': [(10,), (50,), (100,),\n",
    "                                     (10, 10), (50, 10), (100, 10),\n",
    "                                     (100, 50), (100, 50, 10)],\n",
    "              'learning_rate': ['constant', 'adaptive'],\n",
    "             }\n",
    "\n",
    "gbr_params = {'clf__max_depth': [2, 3, 5, 10],\n",
    "              'clf__min_samples_split': [2, 5, 10],\n",
    "              'clf__min_samples_leaf': [1, 2, 5],\n",
    "             }\n",
    "\n",
    "rfr_params = {'clf__n_estimators': [10, 50, 100, 250],\n",
    "              'clf__max_depth': [2, 3, 5, 10],\n",
    "              'clf__min_samples_split': [2, 5, 10],\n",
    "              'clf__min_samples_leaf': [1, 2, 5],\n",
    "             }\n",
    "\n",
    "svc_ord_params = {'clf__C': [0.01, 0.1, 1.0, 10.0],\n",
    "                  'clf__kernel': ['rbf', 'poly'],\n",
    "                 }\n",
    "\n",
    "net_ord_params = {'clf__hidden_layer_sizes': [(10,), (50,), (100,),\n",
    "                                           (10, 10), (50, 10), (100, 10),\n",
    "                                           (100, 50), (100, 50, 10)],\n",
    "               'clf__learning_rate': ['constant', 'adaptive'],\n",
    "              }\n",
    "\n",
    "et_ord_params = {'clf__n_estimators': [10, 50, 100, 250],\n",
    "                 'clf__max_depth': [2, 3, 5, 10],\n",
    "                 'clf__min_samples_split': [2, 5, 10],\n",
    "                 'clf__min_samples_leaf': [1, 2, 5],\n",
    "                }\n",
    "\n",
    "log_reg_ord_params = {'clf__penalty': ['l1', 'l2'],\n",
    "                      'clf__C': [0.01, 0.1, 1.0, 10.0],\n",
    "                     }\n",
    "\n",
    "classifiers_params = {gbc: gbc_params, rf: rf_params, et: et_params, net: net_params,\n",
    "                      gbr: gbr_params, rfr: rfr_params,\n",
    "                      svc_ord: svc_ord_params, net_ord: net_ord_params,\n",
    "                      gbc_ord: gbr_params, et_ord: et_ord_params,\n",
    "                      rf_ord: rfr_params, log_reg_ord: log_reg_ord_params\n",
    "                     }"
   ]
  },
  {
   "cell_type": "code",
   "execution_count": 58,
   "id": "8aae1500",
   "metadata": {},
   "outputs": [],
   "source": [
    "gs_fits = multi_grid_search(X_train_valid, y_train_valid, classifiers_params, cv=ps)"
   ]
  },
  {
   "cell_type": "code",
   "execution_count": 49,
   "id": "3f65d0ee",
   "metadata": {
    "scrolled": true
   },
   "outputs": [
    {
     "data": {
      "text/html": [
       "<div>\n",
       "<style scoped>\n",
       "    .dataframe tbody tr th:only-of-type {\n",
       "        vertical-align: middle;\n",
       "    }\n",
       "\n",
       "    .dataframe tbody tr th {\n",
       "        vertical-align: top;\n",
       "    }\n",
       "\n",
       "    .dataframe thead th {\n",
       "        text-align: right;\n",
       "    }\n",
       "</style>\n",
       "<table border=\"1\" class=\"dataframe\">\n",
       "  <thead>\n",
       "    <tr style=\"text-align: right;\">\n",
       "      <th></th>\n",
       "      <th>estimator</th>\n",
       "      <th>best_params</th>\n",
       "      <th>best_score</th>\n",
       "      <th>gs_fit</th>\n",
       "    </tr>\n",
       "  </thead>\n",
       "  <tbody>\n",
       "    <tr>\n",
       "      <th>3</th>\n",
       "      <td>MLPClassifier(max_iter=1000, random_state=101)</td>\n",
       "      <td>{'hidden_layer_sizes': (10, 10), 'learning_rat...</td>\n",
       "      <td>0.599182</td>\n",
       "      <td>GridSearchCV(cv=PredefinedSplit(test_fold=arra...</td>\n",
       "    </tr>\n",
       "    <tr>\n",
       "      <th>10</th>\n",
       "      <td>OrdinalClassifier(clf=RandomForestClassifier(r...</td>\n",
       "      <td>{'clf__max_depth': 10, 'clf__min_samples_leaf'...</td>\n",
       "      <td>0.589122</td>\n",
       "      <td>GridSearchCV(cv=PredefinedSplit(test_fold=arra...</td>\n",
       "    </tr>\n",
       "    <tr>\n",
       "      <th>6</th>\n",
       "      <td>OrdinalClassifier(clf=SVC(probability=True, ra...</td>\n",
       "      <td>{'clf__C': 10.0, 'clf__kernel': 'rbf'}</td>\n",
       "      <td>0.587676</td>\n",
       "      <td>GridSearchCV(cv=PredefinedSplit(test_fold=arra...</td>\n",
       "    </tr>\n",
       "    <tr>\n",
       "      <th>8</th>\n",
       "      <td>OrdinalClassifier(clf=GradientBoostingClassifi...</td>\n",
       "      <td>{'clf__max_depth': 10, 'clf__min_samples_leaf'...</td>\n",
       "      <td>0.587421</td>\n",
       "      <td>GridSearchCV(cv=PredefinedSplit(test_fold=arra...</td>\n",
       "    </tr>\n",
       "    <tr>\n",
       "      <th>0</th>\n",
       "      <td>([DecisionTreeRegressor(criterion='friedman_ms...</td>\n",
       "      <td>{'max_depth': 5, 'min_samples_leaf': 1, 'min_s...</td>\n",
       "      <td>0.580630</td>\n",
       "      <td>GridSearchCV(cv=PredefinedSplit(test_fold=arra...</td>\n",
       "    </tr>\n",
       "    <tr>\n",
       "      <th>7</th>\n",
       "      <td>OrdinalClassifier(clf=MLPClassifier(max_iter=1...</td>\n",
       "      <td>{'clf__hidden_layer_sizes': (100, 50, 10), 'cl...</td>\n",
       "      <td>0.575867</td>\n",
       "      <td>GridSearchCV(cv=PredefinedSplit(test_fold=arra...</td>\n",
       "    </tr>\n",
       "    <tr>\n",
       "      <th>9</th>\n",
       "      <td>OrdinalClassifier(clf=ExtraTreesClassifier(ran...</td>\n",
       "      <td>{'clf__max_depth': 10, 'clf__min_samples_leaf'...</td>\n",
       "      <td>0.571746</td>\n",
       "      <td>GridSearchCV(cv=PredefinedSplit(test_fold=arra...</td>\n",
       "    </tr>\n",
       "    <tr>\n",
       "      <th>1</th>\n",
       "      <td>(DecisionTreeClassifier(max_features='auto', r...</td>\n",
       "      <td>{'max_depth': 10, 'min_samples_leaf': 5, 'min_...</td>\n",
       "      <td>0.568645</td>\n",
       "      <td>GridSearchCV(cv=PredefinedSplit(test_fold=arra...</td>\n",
       "    </tr>\n",
       "    <tr>\n",
       "      <th>2</th>\n",
       "      <td>(ExtraTreeClassifier(random_state=70431583), E...</td>\n",
       "      <td>{'max_depth': 10, 'min_samples_leaf': 1, 'min_...</td>\n",
       "      <td>0.558544</td>\n",
       "      <td>GridSearchCV(cv=PredefinedSplit(test_fold=arra...</td>\n",
       "    </tr>\n",
       "    <tr>\n",
       "      <th>4</th>\n",
       "      <td>RegressionClassifier(clf=GradientBoostingRegre...</td>\n",
       "      <td>{'clf__max_depth': 3, 'clf__min_samples_leaf':...</td>\n",
       "      <td>0.545566</td>\n",
       "      <td>GridSearchCV(cv=PredefinedSplit(test_fold=arra...</td>\n",
       "    </tr>\n",
       "    <tr>\n",
       "      <th>11</th>\n",
       "      <td>OrdinalClassifier(clf=LogisticRegression(max_i...</td>\n",
       "      <td>{'clf__C': 1.0, 'clf__penalty': 'l2'}</td>\n",
       "      <td>0.539511</td>\n",
       "      <td>GridSearchCV(cv=PredefinedSplit(test_fold=arra...</td>\n",
       "    </tr>\n",
       "    <tr>\n",
       "      <th>5</th>\n",
       "      <td>RegressionClassifier(clf=RandomForestRegressor...</td>\n",
       "      <td>{'clf__max_depth': 10, 'clf__min_samples_leaf'...</td>\n",
       "      <td>0.525753</td>\n",
       "      <td>GridSearchCV(cv=PredefinedSplit(test_fold=arra...</td>\n",
       "    </tr>\n",
       "  </tbody>\n",
       "</table>\n",
       "</div>"
      ],
      "text/plain": [
       "                                            estimator  \\\n",
       "3      MLPClassifier(max_iter=1000, random_state=101)   \n",
       "10  OrdinalClassifier(clf=RandomForestClassifier(r...   \n",
       "6   OrdinalClassifier(clf=SVC(probability=True, ra...   \n",
       "8   OrdinalClassifier(clf=GradientBoostingClassifi...   \n",
       "0   ([DecisionTreeRegressor(criterion='friedman_ms...   \n",
       "7   OrdinalClassifier(clf=MLPClassifier(max_iter=1...   \n",
       "9   OrdinalClassifier(clf=ExtraTreesClassifier(ran...   \n",
       "1   (DecisionTreeClassifier(max_features='auto', r...   \n",
       "2   (ExtraTreeClassifier(random_state=70431583), E...   \n",
       "4   RegressionClassifier(clf=GradientBoostingRegre...   \n",
       "11  OrdinalClassifier(clf=LogisticRegression(max_i...   \n",
       "5   RegressionClassifier(clf=RandomForestRegressor...   \n",
       "\n",
       "                                          best_params  best_score  \\\n",
       "3   {'hidden_layer_sizes': (10, 10), 'learning_rat...    0.599182   \n",
       "10  {'clf__max_depth': 10, 'clf__min_samples_leaf'...    0.589122   \n",
       "6              {'clf__C': 10.0, 'clf__kernel': 'rbf'}    0.587676   \n",
       "8   {'clf__max_depth': 10, 'clf__min_samples_leaf'...    0.587421   \n",
       "0   {'max_depth': 5, 'min_samples_leaf': 1, 'min_s...    0.580630   \n",
       "7   {'clf__hidden_layer_sizes': (100, 50, 10), 'cl...    0.575867   \n",
       "9   {'clf__max_depth': 10, 'clf__min_samples_leaf'...    0.571746   \n",
       "1   {'max_depth': 10, 'min_samples_leaf': 5, 'min_...    0.568645   \n",
       "2   {'max_depth': 10, 'min_samples_leaf': 1, 'min_...    0.558544   \n",
       "4   {'clf__max_depth': 3, 'clf__min_samples_leaf':...    0.545566   \n",
       "11              {'clf__C': 1.0, 'clf__penalty': 'l2'}    0.539511   \n",
       "5   {'clf__max_depth': 10, 'clf__min_samples_leaf'...    0.525753   \n",
       "\n",
       "                                               gs_fit  \n",
       "3   GridSearchCV(cv=PredefinedSplit(test_fold=arra...  \n",
       "10  GridSearchCV(cv=PredefinedSplit(test_fold=arra...  \n",
       "6   GridSearchCV(cv=PredefinedSplit(test_fold=arra...  \n",
       "8   GridSearchCV(cv=PredefinedSplit(test_fold=arra...  \n",
       "0   GridSearchCV(cv=PredefinedSplit(test_fold=arra...  \n",
       "7   GridSearchCV(cv=PredefinedSplit(test_fold=arra...  \n",
       "9   GridSearchCV(cv=PredefinedSplit(test_fold=arra...  \n",
       "1   GridSearchCV(cv=PredefinedSplit(test_fold=arra...  \n",
       "2   GridSearchCV(cv=PredefinedSplit(test_fold=arra...  \n",
       "4   GridSearchCV(cv=PredefinedSplit(test_fold=arra...  \n",
       "11  GridSearchCV(cv=PredefinedSplit(test_fold=arra...  \n",
       "5   GridSearchCV(cv=PredefinedSplit(test_fold=arra...  "
      ]
     },
     "execution_count": 49,
     "metadata": {},
     "output_type": "execute_result"
    }
   ],
   "source": [
    "gs_fits.sort_values('best_score', ascending=False)"
   ]
  },
  {
   "cell_type": "markdown",
   "id": "e4ae54e9",
   "metadata": {},
   "source": [
    "As it can be seen above, the fine-tuning resulted in a slightly improved performance with 5 estimators now producing an f1 score of above 0.58 (as compared to 0 before tuning the hyperparameters). Unsurprisingly, traditional and ordinal classifiers were among the best performing models. Regression classifiers did not do so well, with the best of them scoring below 0.55."
   ]
  },
  {
   "cell_type": "markdown",
   "id": "eccabe64",
   "metadata": {},
   "source": [
    "Let's try to run an even finer grid search on the estimators that performed the best. In addition to the five best models in terms of the f1 score, the best regression classifier (the one built off a gradient boosting regressor) will also be included in this step."
   ]
  },
  {
   "cell_type": "code",
   "execution_count": 59,
   "id": "fe989328",
   "metadata": {
    "scrolled": true
   },
   "outputs": [],
   "source": [
    "net_params = {'hidden_layer_sizes': [(10, 10), (25, 25), (25, 10)],\n",
    "              'learning_rate': ['constant'],\n",
    "             }\n",
    "\n",
    "rf_ord_params = {'clf__n_estimators': [25, 40, 50, 60, 75],\n",
    "                 'clf__max_depth': [7, 10, 15],\n",
    "                 'clf__min_samples_split': [7, 10, 15],\n",
    "                 'clf__min_samples_leaf': [1],\n",
    "                }\n",
    "\n",
    "svc_ord_params = {'clf__C': [5.0, 10.0, 15.0],\n",
    "                  'clf__kernel': ['rbf'],\n",
    "                 }\n",
    "\n",
    "gbc_ord_params = {'clf__max_depth': [7, 10, 15],\n",
    "                  'clf__min_samples_split': [7, 10, 12, 15],\n",
    "                  'clf__min_samples_leaf': [2, 3, 4],\n",
    "                 }\n",
    "\n",
    "gbc_params = {'max_depth': [4, 5, 6],\n",
    "              'min_samples_split': [7, 10, 12, 15],\n",
    "              'min_samples_leaf': [1],\n",
    "             }\n",
    "\n",
    "gbr_params = {'clf__max_depth': [3, 4],\n",
    "              'clf__min_samples_split': [2, 3, 4],\n",
    "              'clf__min_samples_leaf': [2, 3, 4],\n",
    "             }\n",
    "\n",
    "classifiers_params = {net: net_params,\n",
    "                      rf_ord: rf_ord_params,\n",
    "                      svc_ord: svc_ord_params,\n",
    "                      gbc_ord: gbc_ord_params,\n",
    "                      gbc: gbc_params,\n",
    "                      gbr: gbr_params\n",
    "                     }"
   ]
  },
  {
   "cell_type": "code",
   "execution_count": 60,
   "id": "809e8807",
   "metadata": {},
   "outputs": [],
   "source": [
    "gs_fits_finer = multi_grid_search(X_train_valid, y_train_valid, classifiers_params, cv=ps)"
   ]
  },
  {
   "cell_type": "code",
   "execution_count": 96,
   "id": "23fbeac3",
   "metadata": {
    "scrolled": false
   },
   "outputs": [
    {
     "data": {
      "text/html": [
       "<div>\n",
       "<style scoped>\n",
       "    .dataframe tbody tr th:only-of-type {\n",
       "        vertical-align: middle;\n",
       "    }\n",
       "\n",
       "    .dataframe tbody tr th {\n",
       "        vertical-align: top;\n",
       "    }\n",
       "\n",
       "    .dataframe thead th {\n",
       "        text-align: right;\n",
       "    }\n",
       "</style>\n",
       "<table border=\"1\" class=\"dataframe\">\n",
       "  <thead>\n",
       "    <tr style=\"text-align: right;\">\n",
       "      <th></th>\n",
       "      <th>estimator</th>\n",
       "      <th>best_params</th>\n",
       "      <th>best_score</th>\n",
       "      <th>gs_fit</th>\n",
       "    </tr>\n",
       "  </thead>\n",
       "  <tbody>\n",
       "    <tr>\n",
       "      <th>1</th>\n",
       "      <td>OrdinalClassifier(clf=RandomForestClassifier(r...</td>\n",
       "      <td>{'clf__max_depth': 15, 'clf__min_samples_leaf'...</td>\n",
       "      <td>0.608469</td>\n",
       "      <td>GridSearchCV(cv=PredefinedSplit(test_fold=arra...</td>\n",
       "    </tr>\n",
       "    <tr>\n",
       "      <th>2</th>\n",
       "      <td>OrdinalClassifier(clf=SVC(probability=True, ra...</td>\n",
       "      <td>{'clf__C': 5.0, 'clf__kernel': 'rbf'}</td>\n",
       "      <td>0.602182</td>\n",
       "      <td>GridSearchCV(cv=PredefinedSplit(test_fold=arra...</td>\n",
       "    </tr>\n",
       "    <tr>\n",
       "      <th>0</th>\n",
       "      <td>MLPClassifier(max_iter=1000, random_state=101)</td>\n",
       "      <td>{'hidden_layer_sizes': (10, 10), 'learning_rat...</td>\n",
       "      <td>0.599182</td>\n",
       "      <td>GridSearchCV(cv=PredefinedSplit(test_fold=arra...</td>\n",
       "    </tr>\n",
       "    <tr>\n",
       "      <th>3</th>\n",
       "      <td>OrdinalClassifier(clf=GradientBoostingClassifi...</td>\n",
       "      <td>{'clf__max_depth': 10, 'clf__min_samples_leaf'...</td>\n",
       "      <td>0.587421</td>\n",
       "      <td>GridSearchCV(cv=PredefinedSplit(test_fold=arra...</td>\n",
       "    </tr>\n",
       "    <tr>\n",
       "      <th>4</th>\n",
       "      <td>([DecisionTreeRegressor(criterion='friedman_ms...</td>\n",
       "      <td>{'max_depth': 5, 'min_samples_leaf': 1, 'min_s...</td>\n",
       "      <td>0.580630</td>\n",
       "      <td>GridSearchCV(cv=PredefinedSplit(test_fold=arra...</td>\n",
       "    </tr>\n",
       "    <tr>\n",
       "      <th>5</th>\n",
       "      <td>RegressionClassifier(clf=GradientBoostingRegre...</td>\n",
       "      <td>{'clf__max_depth': 3, 'clf__min_samples_leaf':...</td>\n",
       "      <td>0.545566</td>\n",
       "      <td>GridSearchCV(cv=PredefinedSplit(test_fold=arra...</td>\n",
       "    </tr>\n",
       "  </tbody>\n",
       "</table>\n",
       "</div>"
      ],
      "text/plain": [
       "                                           estimator  \\\n",
       "1  OrdinalClassifier(clf=RandomForestClassifier(r...   \n",
       "2  OrdinalClassifier(clf=SVC(probability=True, ra...   \n",
       "0     MLPClassifier(max_iter=1000, random_state=101)   \n",
       "3  OrdinalClassifier(clf=GradientBoostingClassifi...   \n",
       "4  ([DecisionTreeRegressor(criterion='friedman_ms...   \n",
       "5  RegressionClassifier(clf=GradientBoostingRegre...   \n",
       "\n",
       "                                         best_params  best_score  \\\n",
       "1  {'clf__max_depth': 15, 'clf__min_samples_leaf'...    0.608469   \n",
       "2              {'clf__C': 5.0, 'clf__kernel': 'rbf'}    0.602182   \n",
       "0  {'hidden_layer_sizes': (10, 10), 'learning_rat...    0.599182   \n",
       "3  {'clf__max_depth': 10, 'clf__min_samples_leaf'...    0.587421   \n",
       "4  {'max_depth': 5, 'min_samples_leaf': 1, 'min_s...    0.580630   \n",
       "5  {'clf__max_depth': 3, 'clf__min_samples_leaf':...    0.545566   \n",
       "\n",
       "                                              gs_fit  \n",
       "1  GridSearchCV(cv=PredefinedSplit(test_fold=arra...  \n",
       "2  GridSearchCV(cv=PredefinedSplit(test_fold=arra...  \n",
       "0  GridSearchCV(cv=PredefinedSplit(test_fold=arra...  \n",
       "3  GridSearchCV(cv=PredefinedSplit(test_fold=arra...  \n",
       "4  GridSearchCV(cv=PredefinedSplit(test_fold=arra...  \n",
       "5  GridSearchCV(cv=PredefinedSplit(test_fold=arra...  "
      ]
     },
     "execution_count": 96,
     "metadata": {},
     "output_type": "execute_result"
    }
   ],
   "source": [
    "gs_fits_finer.sort_values('best_score', ascending=False)"
   ]
  },
  {
   "cell_type": "markdown",
   "id": "77dde882",
   "metadata": {},
   "source": [
    "It looks like thanks to the extra grid search, it was possible to improve the performance of three of the six shortlisted classifiers. In the next section, these models will be used to build a set of ensemble classifiers, from which the final estimator will be selected."
   ]
  },
  {
   "cell_type": "markdown",
   "id": "5c70939d",
   "metadata": {},
   "source": [
    "# Step 6: Building ensembles of classifiers and picking the final estimator"
   ]
  },
  {
   "cell_type": "markdown",
   "id": "2b71c0a8",
   "metadata": {},
   "source": [
    "Let's now initate above models with what was found to be the best set of hyperparameters and use them to build a number of voting classifiers, each consisting of a different combination of the base estimators. Hopefully, by averaging out predictions made by multiple estimators, the issues of overfitting and model instability will be addressed. The models are initiated below and the voting classifiers are subsequently built and evaluated using the quick_compare function. "
   ]
  },
  {
   "cell_type": "code",
   "execution_count": 61,
   "id": "caa2533d",
   "metadata": {},
   "outputs": [],
   "source": [
    "rf_ord_best = OrdinalClassifier(RandomForestClassifier(max_depth=15, min_samples_leaf=1,\n",
    "                                                       min_samples_split=10, n_estimators=60,\n",
    "                                                       random_state=101))\n",
    "svc_ord_best = OrdinalClassifier(SVC(C=5.0, kernel='rbf', probability=True, random_state=101))\n",
    "net_best = MLPClassifier(hidden_layer_sizes=(10,10), learning_rate='constant', max_iter=1000, random_state=101)\n",
    "gbc_ord_best = OrdinalClassifier(GradientBoostingClassifier(max_depth=10, min_samples_leaf=2,\n",
    "                                                            min_samples_split=10, random_state=101))\n",
    "gbc_best = GradientBoostingClassifier(max_depth=5, min_samples_leaf=1, min_samples_split=10, random_state=101)\n",
    "gbr_best = RegressionClassifier(GradientBoostingRegressor(max_depth=3, min_samples_leaf=2,\n",
    "                                                          min_samples_split=2, random_state=101))"
   ]
  },
  {
   "cell_type": "code",
   "execution_count": 62,
   "id": "f3b8da98",
   "metadata": {},
   "outputs": [],
   "source": [
    "from sklearn.ensemble import VotingClassifier\n",
    "\n",
    "vc_all = VotingClassifier([('rf_ord_best', rf_ord_best), ('svc_ord_best', svc_ord_best),\n",
    "                            ('net_best', net_best), ('gbc_ord_best', gbc_ord_best),\n",
    "                            ('gbc_best', gbc_best), ('gbr_best', gbr_best),\n",
    "                           ])\n",
    "\n",
    "vc_top_5 = VotingClassifier([('rf_ord_best', rf_ord_best), ('svc_ord_best', svc_ord_best),\n",
    "                            ('net_best', net_best), ('gbc_ord_best', gbc_ord_best),\n",
    "                            ('gbc_best', gbc_best),\n",
    "                           ])\n",
    "\n",
    "vc_top_3 = VotingClassifier([('rf_ord_best', rf_ord_best),\n",
    "                            ('svc_ord_best', svc_ord_best),\n",
    "                            ('net_best', net_best),\n",
    "                           ])\n",
    "\n",
    "vc_varied_3 = VotingClassifier([('rf_ord_best', rf_ord_best),\n",
    "                                ('net_best', net_best),\n",
    "                                ('gbr_best', gbr_best),\n",
    "                               ])\n",
    "\n",
    "ensemble_classifiers = {'all': vc_all, 'top 5': vc_top_5, 'top 3': vc_top_3, 'varied 3': vc_varied_3}"
   ]
  },
  {
   "cell_type": "code",
   "execution_count": 63,
   "id": "3eec134f",
   "metadata": {},
   "outputs": [],
   "source": [
    "ensemble_evaluation = quick_compare(ensemble_classifiers, X_train, y_train, X_valid, y_valid)"
   ]
  },
  {
   "cell_type": "code",
   "execution_count": 41,
   "id": "7fc4f5ad",
   "metadata": {
    "scrolled": true
   },
   "outputs": [
    {
     "data": {
      "text/html": [
       "<div>\n",
       "<style scoped>\n",
       "    .dataframe tbody tr th:only-of-type {\n",
       "        vertical-align: middle;\n",
       "    }\n",
       "\n",
       "    .dataframe tbody tr th {\n",
       "        vertical-align: top;\n",
       "    }\n",
       "\n",
       "    .dataframe thead th {\n",
       "        text-align: right;\n",
       "    }\n",
       "</style>\n",
       "<table border=\"1\" class=\"dataframe\">\n",
       "  <thead>\n",
       "    <tr style=\"text-align: right;\">\n",
       "      <th></th>\n",
       "      <th>model</th>\n",
       "      <th>train score</th>\n",
       "      <th>valid score</th>\n",
       "      <th>confusion matrix</th>\n",
       "    </tr>\n",
       "  </thead>\n",
       "  <tbody>\n",
       "    <tr>\n",
       "      <th>0</th>\n",
       "      <td>all</td>\n",
       "      <td>0.999038</td>\n",
       "      <td>0.622915</td>\n",
       "      <td>[[13, 2, 3, 1], [1, 6, 9, 4], [1, 3, 19, 12], ...</td>\n",
       "    </tr>\n",
       "    <tr>\n",
       "      <th>1</th>\n",
       "      <td>top 5</td>\n",
       "      <td>0.999700</td>\n",
       "      <td>0.590997</td>\n",
       "      <td>[[12, 3, 2, 2], [2, 5, 8, 5], [1, 2, 16, 16], ...</td>\n",
       "    </tr>\n",
       "    <tr>\n",
       "      <th>2</th>\n",
       "      <td>top 3</td>\n",
       "      <td>0.998851</td>\n",
       "      <td>0.633454</td>\n",
       "      <td>[[14, 1, 2, 2], [0, 6, 8, 6], [2, 3, 16, 14], ...</td>\n",
       "    </tr>\n",
       "    <tr>\n",
       "      <th>3</th>\n",
       "      <td>varied 3</td>\n",
       "      <td>0.996263</td>\n",
       "      <td>0.602417</td>\n",
       "      <td>[[12, 3, 2, 2], [0, 9, 8, 3], [4, 5, 18, 8], [...</td>\n",
       "    </tr>\n",
       "  </tbody>\n",
       "</table>\n",
       "</div>"
      ],
      "text/plain": [
       "      model  train score  valid score  \\\n",
       "0       all     0.999038     0.622915   \n",
       "1     top 5     0.999700     0.590997   \n",
       "2     top 3     0.998851     0.633454   \n",
       "3  varied 3     0.996263     0.602417   \n",
       "\n",
       "                                    confusion matrix  \n",
       "0  [[13, 2, 3, 1], [1, 6, 9, 4], [1, 3, 19, 12], ...  \n",
       "1  [[12, 3, 2, 2], [2, 5, 8, 5], [1, 2, 16, 16], ...  \n",
       "2  [[14, 1, 2, 2], [0, 6, 8, 6], [2, 3, 16, 14], ...  \n",
       "3  [[12, 3, 2, 2], [0, 9, 8, 3], [4, 5, 18, 8], [...  "
      ]
     },
     "execution_count": 41,
     "metadata": {},
     "output_type": "execute_result"
    }
   ],
   "source": [
    "ensemble_evaluation"
   ]
  },
  {
   "cell_type": "markdown",
   "id": "63d2a939",
   "metadata": {},
   "source": [
    "It appears that the voting classifier built with the top three estimators produces the best results and outperforms all the individual models. Unfortunately, even when multiple models are used to make one prediction (with the models being previously regularized during grid search), the final estimator is still severly overfitting the training set. It seems like this issue is impossible to overcome when dealing with a small dataset like the one that is analyzed here. Luckily, the validation score provides a more reasonable metric of what performance can be expected from the model when exposed to new data (although it is quite likely that the final performance on the yet unseen data will not be as good, given that the hyperparameter fine-tuning was performed using the validation set for reference).\n",
    "\n",
    "Moreover, as it can be seen in the confusion matrix below, the best voting classifier repeats mistakes of its predecessors confusing first round picks with second round and undrafted players (although not so much with the lottery picks anymore) and mislabeling a significant number of second round picks as belonging to the 'undrafted' class (though, again, it seems like it finds a better balance between precision and recall when it comes to identifying the undrafted players than individual classifiers tested earlier). "
   ]
  },
  {
   "cell_type": "code",
   "execution_count": 44,
   "id": "15fb5abd",
   "metadata": {
    "scrolled": false
   },
   "outputs": [
    {
     "data": {
      "image/png": "[encoded data removed]",
      "text/plain": [
       "<Figure size 432x288 with 2 Axes>"
      ]
     },
     "metadata": {
      "needs_background": "light"
     },
     "output_type": "display_data"
    }
   ],
   "source": [
    "cm = ensemble_evaluation.loc[2, 'confusion matrix']\n",
    "plot_confusion_matrix(cm, labels)"
   ]
  },
  {
   "cell_type": "markdown",
   "id": "2a86eff9",
   "metadata": {},
   "source": [
    "Having said all that, the voting classifier made of the three of the best performing fine-tuned estimators produces the best results seen so far. It will be now used to construct a full pipeline that transforms the features and makes predictions on the transformed dataset, saved as the final estimator, and applied to the test set. Metrics concerning the performance of the final model on the test are presented in the classification report below."
   ]
  },
  {
   "cell_type": "code",
   "execution_count": 52,
   "id": "44a4381a",
   "metadata": {},
   "outputs": [],
   "source": [
    "final_model = vc_top_3\n",
    "full_pipeline = Pipeline([('feature transformations', feature_transformer),\n",
    "                          ('final model', final_model),\n",
    "                         ])\n",
    "filepath = 'models/final_model.sav'\n",
    "pickle.dump(final_model, open(filepath, 'wb'))\n",
    "y_test_pred = full_pipeline.predict(X_test)"
   ]
  },
  {
   "cell_type": "code",
   "execution_count": 53,
   "id": "7bf65ffa",
   "metadata": {
    "scrolled": true
   },
   "outputs": [
    {
     "name": "stdout",
     "output_type": "stream",
     "text": [
      "              precision    recall  f1-score   support\n",
      "\n",
      "           1       0.56      0.57      0.57        40\n",
      "           2       0.25      0.16      0.20        43\n",
      "           3       0.31      0.34      0.33        76\n",
      "           4       0.99      0.99      0.99      5357\n",
      "\n",
      "    accuracy                           0.97      5516\n",
      "   macro avg       0.53      0.52      0.52      5516\n",
      "weighted avg       0.97      0.97      0.97      5516\n",
      "\n"
     ]
    }
   ],
   "source": [
    "from sklearn.metrics import classification_report\n",
    "\n",
    "print(classification_report(y_test, y_test_pred))"
   ]
  },
  {
   "cell_type": "markdown",
   "id": "6bb83944",
   "metadata": {},
   "source": [
    "As expected, final model produced a lower f1 score on the test set as compared to the one recorded on the validation set, and the difference was quite significant (0.52 vs 0.63). Perhaps using a seperate set for validation, instead of using cross-validation, led to the model overfitting to the validation set. However, the necessity for oversampling made it impossible to use a different technique, as it was explained before. Below is the confusion matrix of the predictions made by the final estimator on the test set. It is fair to say it did a decent job identifying lottery players (out of 5516 players it successfuly identified 23 of 40 players drafted in lottery) and differentiating between drafted and undrafted players, but it did poorly when trying to distinguish between particular groups of the draft."
   ]
  },
  {
   "cell_type": "code",
   "execution_count": 55,
   "id": "12f2bea3",
   "metadata": {},
   "outputs": [
    {
     "data": {
      "image/png": "[encoded data removed]",
      "text/plain": [
       "<Figure size 432x288 with 2 Axes>"
      ]
     },
     "metadata": {
      "needs_background": "light"
     },
     "output_type": "display_data"
    }
   ],
   "source": [
    "plot_confusion_matrix(confusion_matrix(y_test, y_test_pred), labels)"
   ]
  },
  {
   "cell_type": "markdown",
   "id": "9fd6463b",
   "metadata": {},
   "source": [
    "Altough the final results may not seem very impressive, it is important to look at the bigger picture: determining whether or not will a given player be drafted (and how high in the draft will they be selected) is a very complex problem whose solution depends on many factors beyond those related to the player's (and their team's) performance. First of all, player stats, although it is the only numerical tool available, is not a perfect measure of the players' performance: sometimes it is the intangible characteristics (like the basketball IQ) that make a given player desirable in the eyes of basketball scouts and general managers. Moreover, player's potential and athleticism, traits not reflected in their stats, are often valued by the decision makers way more that their current abilities and skills. Finally, team needs (i.e. what kind of player does a given NBA team need the most at a certain time) are one of the biggest factors influencing draft selections. Given that none of these aspects were taken into account when the models were trained, the process actually yielded a somewhat satisfying solution that sheds some light (although rather dimmed) on where in the draft a given player can expect to be selected."
   ]
  },
  {
   "cell_type": "markdown",
   "id": "98ba1a22",
   "metadata": {},
   "source": [
    "# Step... back: a whole different approach"
   ]
  },
  {
   "cell_type": "markdown",
   "id": "ac4ac570",
   "metadata": {},
   "source": [
    "Thus far, the models were built with an assumption that all the players are independent from each other and that each of them belongs to one of the four classes that can be predicted by looking at only one player at a time. This approach, although it yielded somewhat promising results, is fundamentally flawed, as it ignores one critical characteristic of the NBA draft: the number of players in each of the groups is limited. Predictive models developed so far were not taught that there can only be 14 players drafted in the lottery every year, 30 players drafted in the first round, and 60 players drafted in total. Moreover, the odds of a particular player being drafted given year depends on how good other players entering the draft that year are: one's performance in a weak draft may be enough for them to grant them one of the 60 spots, while in a strong draft they would go undrafted. Effectively, that means that if two instances are identical in all meaningful features but come from two different seasons, they might belong to two different target classes, making it impossible to construct a classifier that will label all instances correctly. When making predictions, perhaps it would be more fitting not to treat the players collectively, but to compare them within a single season.\n",
    "\n",
    "A new approach is therefore proposed: all players in the dataset will be categorized as either drafted or undrafted (without dividing them into subclasses). A subset with all the records coming from a selected season will be set aside to act as a test set. The remainder of the dataset will be again split into train and validation sets. Classifiers equipped with a predict_proba method will be then trained on the training set and their performance measured on the validation set. The most promising estimators will be fine tuned and the best classifier (in terms of how well it seperates two classes, measured with an f1 score) will be determined. Subsequently, predictions will be made on the test set and players from that set will be sorted in descending order by the predicted probability of belonging to the 'drafted' class. Then, 14 players with the highest probability of being drafted will be classified as the lottery picks, next 16 players will be classified as the first round picks, and the following 30 players will be classified as the second round picks. Final performance of the model will be then measured using the f1 score.\n",
    "\n",
    "It has to be noted that this method makes use of the information about the number of players belonging to each of the groups (and how good they are relative to each other) only at the time of making predictions, but it still ignores it during training and validation: in those stages, all the players are treated as belonging to one cohort regardless of the season the data is coming from. \n",
    "\n",
    "There is one more limitation to that approach: not all the players entering the draft (and being selected in the draft) played in the NCAA. For example, as it is demostrated in a cell below, in the 2021 NBA draft, only 50 of the 60 players selected in the draft had previous college experience (the remaining 10 were either international or played in the NBA Development League). To accurately assess the models' performance, it will be therefore more fitting to use the first <i>n</i> players with the highest predicted probability as those belonging to a given class with <i>n</i> being a number of college players present in the dataset that actually belong to that class. In a real life scenario, if the model is to be used to predict the order of selection in a future draft, this will not be possible (as the number of players without prior college experience being selected in the draft will be unknown), however, the model constructed that way can still be useful to rank college players enrolled for the draft."
   ]
  },
  {
   "cell_type": "code",
   "execution_count": 67,
   "id": "433230c4",
   "metadata": {
    "scrolled": true
   },
   "outputs": [
    {
     "data": {
      "text/plain": [
       "50"
      ]
     },
     "execution_count": 67,
     "metadata": {},
     "output_type": "execute_result"
    }
   ],
   "source": [
    "class_2021 = dataset[dataset['season']==2021]\n",
    "len(class_2021[(class_2021['draft']!=4)])"
   ]
  },
  {
   "cell_type": "markdown",
   "id": "547d7796",
   "metadata": {},
   "source": [
    "At this point it has to be noted that because a different subset of data will be set aside to serve as a test set, there is going to be some data leakage. It is impossible to avoid now that a whole different approach had already been implemented and tested, and some of the data that have been previously used for testing will now be used for training and validation. However, the leakage should not have a major impact on the outcomes of the process, as different methods will be employed and the information from outside the new training set will not be directly used. \n",
    "\n",
    "Let's now refer back to the original dataset."
   ]
  },
  {
   "cell_type": "code",
   "execution_count": 68,
   "id": "0872113f",
   "metadata": {
    "scrolled": true
   },
   "outputs": [
    {
     "data": {
      "text/html": [
       "<div>\n",
       "<style scoped>\n",
       "    .dataframe tbody tr th:only-of-type {\n",
       "        vertical-align: middle;\n",
       "    }\n",
       "\n",
       "    .dataframe tbody tr th {\n",
       "        vertical-align: top;\n",
       "    }\n",
       "\n",
       "    .dataframe thead th {\n",
       "        text-align: right;\n",
       "    }\n",
       "</style>\n",
       "<table border=\"1\" class=\"dataframe\">\n",
       "  <thead>\n",
       "    <tr style=\"text-align: right;\">\n",
       "      <th></th>\n",
       "      <th>name</th>\n",
       "      <th>school</th>\n",
       "      <th>season</th>\n",
       "      <th>school_year</th>\n",
       "      <th>position</th>\n",
       "      <th>height</th>\n",
       "      <th>weight</th>\n",
       "      <th>games_played</th>\n",
       "      <th>games_started</th>\n",
       "      <th>games_won</th>\n",
       "      <th>...</th>\n",
       "      <th>team_eff_fg_pct</th>\n",
       "      <th>srs_off</th>\n",
       "      <th>srs_def</th>\n",
       "      <th>sos</th>\n",
       "      <th>team_ppg</th>\n",
       "      <th>opp_ppg</th>\n",
       "      <th>off_rating</th>\n",
       "      <th>def_rating</th>\n",
       "      <th>ap_poll_rank</th>\n",
       "      <th>draft</th>\n",
       "    </tr>\n",
       "  </thead>\n",
       "  <tbody>\n",
       "    <tr>\n",
       "      <th>0</th>\n",
       "      <td>Michael Lyons</td>\n",
       "      <td>Air Force</td>\n",
       "      <td>2013</td>\n",
       "      <td>senior</td>\n",
       "      <td>G</td>\n",
       "      <td>196.0</td>\n",
       "      <td>88.0</td>\n",
       "      <td>30</td>\n",
       "      <td>30</td>\n",
       "      <td>17</td>\n",
       "      <td>...</td>\n",
       "      <td>0.551</td>\n",
       "      <td>4.05</td>\n",
       "      <td>0.01</td>\n",
       "      <td>4.16</td>\n",
       "      <td>70.0</td>\n",
       "      <td>67.8</td>\n",
       "      <td>110.09</td>\n",
       "      <td>102.85</td>\n",
       "      <td>NaN</td>\n",
       "      <td>4</td>\n",
       "    </tr>\n",
       "    <tr>\n",
       "      <th>1</th>\n",
       "      <td>Tom Fow</td>\n",
       "      <td>Air Force</td>\n",
       "      <td>2011</td>\n",
       "      <td>senior</td>\n",
       "      <td>F</td>\n",
       "      <td>198.0</td>\n",
       "      <td>93.0</td>\n",
       "      <td>32</td>\n",
       "      <td>32</td>\n",
       "      <td>16</td>\n",
       "      <td>...</td>\n",
       "      <td>0.540</td>\n",
       "      <td>-1.94</td>\n",
       "      <td>4.65</td>\n",
       "      <td>3.31</td>\n",
       "      <td>64.8</td>\n",
       "      <td>65.1</td>\n",
       "      <td>106.44</td>\n",
       "      <td>101.45</td>\n",
       "      <td>NaN</td>\n",
       "      <td>4</td>\n",
       "    </tr>\n",
       "    <tr>\n",
       "      <th>2</th>\n",
       "      <td>Derek Brooks</td>\n",
       "      <td>Air Force</td>\n",
       "      <td>2011</td>\n",
       "      <td>senior</td>\n",
       "      <td>F</td>\n",
       "      <td>196.0</td>\n",
       "      <td>91.0</td>\n",
       "      <td>32</td>\n",
       "      <td>1</td>\n",
       "      <td>16</td>\n",
       "      <td>...</td>\n",
       "      <td>0.540</td>\n",
       "      <td>-1.94</td>\n",
       "      <td>4.65</td>\n",
       "      <td>3.31</td>\n",
       "      <td>64.8</td>\n",
       "      <td>65.1</td>\n",
       "      <td>106.44</td>\n",
       "      <td>101.45</td>\n",
       "      <td>NaN</td>\n",
       "      <td>4</td>\n",
       "    </tr>\n",
       "    <tr>\n",
       "      <th>3</th>\n",
       "      <td>Evan Washington</td>\n",
       "      <td>Air Force</td>\n",
       "      <td>2011</td>\n",
       "      <td>senior</td>\n",
       "      <td>G</td>\n",
       "      <td>193.0</td>\n",
       "      <td>91.0</td>\n",
       "      <td>32</td>\n",
       "      <td>32</td>\n",
       "      <td>16</td>\n",
       "      <td>...</td>\n",
       "      <td>0.540</td>\n",
       "      <td>-1.94</td>\n",
       "      <td>4.65</td>\n",
       "      <td>3.31</td>\n",
       "      <td>64.8</td>\n",
       "      <td>65.1</td>\n",
       "      <td>106.44</td>\n",
       "      <td>101.45</td>\n",
       "      <td>NaN</td>\n",
       "      <td>4</td>\n",
       "    </tr>\n",
       "    <tr>\n",
       "      <th>4</th>\n",
       "      <td>Taylor Broekhuis</td>\n",
       "      <td>Air Force</td>\n",
       "      <td>2013</td>\n",
       "      <td>senior</td>\n",
       "      <td>C</td>\n",
       "      <td>201.0</td>\n",
       "      <td>88.0</td>\n",
       "      <td>32</td>\n",
       "      <td>32</td>\n",
       "      <td>18</td>\n",
       "      <td>...</td>\n",
       "      <td>0.551</td>\n",
       "      <td>4.05</td>\n",
       "      <td>0.01</td>\n",
       "      <td>4.16</td>\n",
       "      <td>70.0</td>\n",
       "      <td>67.8</td>\n",
       "      <td>110.09</td>\n",
       "      <td>102.85</td>\n",
       "      <td>NaN</td>\n",
       "      <td>4</td>\n",
       "    </tr>\n",
       "  </tbody>\n",
       "</table>\n",
       "<p>5 rows × 58 columns</p>\n",
       "</div>"
      ],
      "text/plain": [
       "               name     school  season school_year position  height  weight  \\\n",
       "0     Michael Lyons  Air Force    2013      senior        G   196.0    88.0   \n",
       "1           Tom Fow  Air Force    2011      senior        F   198.0    93.0   \n",
       "2      Derek Brooks  Air Force    2011      senior        F   196.0    91.0   \n",
       "3   Evan Washington  Air Force    2011      senior        G   193.0    91.0   \n",
       "4  Taylor Broekhuis  Air Force    2013      senior        C   201.0    88.0   \n",
       "\n",
       "   games_played  games_started  games_won  ...  team_eff_fg_pct  srs_off  \\\n",
       "0            30             30         17  ...            0.551     4.05   \n",
       "1            32             32         16  ...            0.540    -1.94   \n",
       "2            32              1         16  ...            0.540    -1.94   \n",
       "3            32             32         16  ...            0.540    -1.94   \n",
       "4            32             32         18  ...            0.551     4.05   \n",
       "\n",
       "   srs_def   sos  team_ppg  opp_ppg  off_rating  def_rating  ap_poll_rank  \\\n",
       "0     0.01  4.16      70.0     67.8      110.09      102.85           NaN   \n",
       "1     4.65  3.31      64.8     65.1      106.44      101.45           NaN   \n",
       "2     4.65  3.31      64.8     65.1      106.44      101.45           NaN   \n",
       "3     4.65  3.31      64.8     65.1      106.44      101.45           NaN   \n",
       "4     0.01  4.16      70.0     67.8      110.09      102.85           NaN   \n",
       "\n",
       "   draft  \n",
       "0      4  \n",
       "1      4  \n",
       "2      4  \n",
       "3      4  \n",
       "4      4  \n",
       "\n",
       "[5 rows x 58 columns]"
      ]
     },
     "execution_count": 68,
     "metadata": {},
     "output_type": "execute_result"
    }
   ],
   "source": [
    "dataset.head()"
   ]
  },
  {
   "cell_type": "markdown",
   "id": "dbd4a44d",
   "metadata": {},
   "source": [
    "First, let's transform the target variable to only differentiate between drafted (1) and undrafted (0) players."
   ]
  },
  {
   "cell_type": "code",
   "execution_count": 69,
   "id": "b2fdf217",
   "metadata": {},
   "outputs": [],
   "source": [
    "y_binary = y.apply(lambda x: int(x < 4))"
   ]
  },
  {
   "cell_type": "markdown",
   "id": "5a201b19",
   "metadata": {},
   "source": [
    "Let's now set aside the test set. Data coming from the 2019/2020 and 2020/2021 seasons will be used for that purpose. A corresponding column of untransformed target variables will also be put aside, as not to lose the information about specific classes of each instance in the test set. This column will be later used to evaluate the final performance of the model."
   ]
  },
  {
   "cell_type": "code",
   "execution_count": 70,
   "id": "26815003",
   "metadata": {},
   "outputs": [],
   "source": [
    "X_rest = X[[s not in (2020, 2021) for s in X['season']]]\n",
    "y_binary_rest = y_binary[X_rest.index]\n",
    "y_rest = y[X_rest.index]\n",
    "\n",
    "X_test = X[(X['season']==2020) | (X['season']==2021)]\n",
    "y_binary_test = y_binary[X_test.index]\n",
    "y_test = y[X_test.index]"
   ]
  },
  {
   "cell_type": "markdown",
   "id": "20c49bde",
   "metadata": {},
   "source": [
    "It is time to split the rest of the dataset (i.e. records that do not come from the 2019/2020 or the 2020/2021 season) between train and validation sets."
   ]
  },
  {
   "cell_type": "code",
   "execution_count": 71,
   "id": "b784807c",
   "metadata": {},
   "outputs": [],
   "source": [
    "X_train, X_valid, y_binary_train, y_binary_valid = train_test_split(X_rest,\n",
    "                                                                    y_binary_rest,\n",
    "                                                                    stratify=y_rest,\n",
    "                                                                    test_size=0.2,\n",
    "                                                                    random_state=RS)"
   ]
  },
  {
   "cell_type": "markdown",
   "id": "836ac707",
   "metadata": {},
   "source": [
    "Train and validation sets should now be transformed with a previously defined transformer pipeline (that is first refitted to the new training set). Training set will be also resampled so that both classes are represented in equal cardinality."
   ]
  },
  {
   "cell_type": "code",
   "execution_count": 72,
   "id": "9f0e82b1",
   "metadata": {},
   "outputs": [],
   "source": [
    "X_train = feature_transformer.fit_transform(X_train)\n",
    "X_valid = feature_transformer.transform(X_valid)\n",
    "X_train, y_binary_train = SMOTE(random_state=RS).fit_resample(X_train, y_binary_train)"
   ]
  },
  {
   "cell_type": "markdown",
   "id": "391cfed3",
   "metadata": {},
   "source": [
    "Again, let's create a baseline model (that makes random predictions with probability of each class proportional to the prevalence of that class in the validation set) and measure its performance. It yields an f1 score of around 0.06."
   ]
  },
  {
   "cell_type": "code",
   "execution_count": 73,
   "id": "2511ebe7",
   "metadata": {},
   "outputs": [
    {
     "data": {
      "text/plain": [
       "0.05559105431309904"
      ]
     },
     "execution_count": 73,
     "metadata": {},
     "output_type": "execute_result"
    }
   ],
   "source": [
    "rng = np.random.default_rng()\n",
    "y_pred_baseline = [1] * len(y_binary_valid)\n",
    "f1_score(y_binary_valid, y_pred_baseline)"
   ]
  },
  {
   "cell_type": "markdown",
   "id": "c95dee70",
   "metadata": {},
   "source": [
    "Let's now initiate some basic estimators that are equipped with the predict_proba method and check how they perform. Once again, the f1 score will be used to evaluate the models, however, this time a 'binary' averaging method will be used, since the classifiers are dealing with a binary problem."
   ]
  },
  {
   "cell_type": "code",
   "execution_count": 74,
   "id": "3db3a6d6",
   "metadata": {
    "scrolled": true
   },
   "outputs": [],
   "source": [
    "log_reg_bin = LogisticRegression(max_iter=100000, solver='liblinear', random_state=RS)\n",
    "dt_bin = DecisionTreeClassifier(random_state=RS)\n",
    "rf_bin = RandomForestClassifier(random_state=RS)\n",
    "knn_bin = KNeighborsClassifier()\n",
    "svc_bin = SVC(max_iter=100000, probability=True, random_state=RS)\n",
    "gbc_bin = GradientBoostingClassifier(random_state=RS)\n",
    "et_bin = ExtraTreesClassifier(random_state=RS)\n",
    "ada_bin = AdaBoostClassifier(random_state=RS)\n",
    "net_bin = MLPClassifier(activation='logistic', max_iter=10000, random_state=RS)\n",
    "\n",
    "binary_classifiers = {'logistic regression': log_reg_bin,\n",
    "                      'decision tree': dt_bin,\n",
    "                      'random forest': rf_bin,\n",
    "                      'knn': knn_bin,\n",
    "                      'svc': svc_bin,\n",
    "                      'gradient boosting': gbc_bin,\n",
    "                      'extra trees': et_bin,\n",
    "                      'ada boost': ada_bin,\n",
    "                      'neural net': net_bin,\n",
    "                      }"
   ]
  },
  {
   "cell_type": "code",
   "execution_count": 75,
   "id": "b7f37c9b",
   "metadata": {},
   "outputs": [],
   "source": [
    "bin_model_evaluation = quick_compare(binary_classifiers, X_train, y_binary_train,\n",
    "                                     X_valid, y_binary_valid, average='binary')"
   ]
  },
  {
   "cell_type": "code",
   "execution_count": 49,
   "id": "79aa5781",
   "metadata": {
    "scrolled": false
   },
   "outputs": [
    {
     "data": {
      "text/html": [
       "<div>\n",
       "<style scoped>\n",
       "    .dataframe tbody tr th:only-of-type {\n",
       "        vertical-align: middle;\n",
       "    }\n",
       "\n",
       "    .dataframe tbody tr th {\n",
       "        vertical-align: top;\n",
       "    }\n",
       "\n",
       "    .dataframe thead th {\n",
       "        text-align: right;\n",
       "    }\n",
       "</style>\n",
       "<table border=\"1\" class=\"dataframe\">\n",
       "  <thead>\n",
       "    <tr style=\"text-align: right;\">\n",
       "      <th></th>\n",
       "      <th>model</th>\n",
       "      <th>train score</th>\n",
       "      <th>valid score</th>\n",
       "      <th>confusion matrix</th>\n",
       "    </tr>\n",
       "  </thead>\n",
       "  <tbody>\n",
       "    <tr>\n",
       "      <th>0</th>\n",
       "      <td>logistic regression</td>\n",
       "      <td>0.978345</td>\n",
       "      <td>0.604982</td>\n",
       "      <td>[[2847, 109], [2, 85]]</td>\n",
       "    </tr>\n",
       "    <tr>\n",
       "      <th>1</th>\n",
       "      <td>decision tree</td>\n",
       "      <td>1.000000</td>\n",
       "      <td>0.581281</td>\n",
       "      <td>[[2899, 57], [28, 59]]</td>\n",
       "    </tr>\n",
       "    <tr>\n",
       "      <th>2</th>\n",
       "      <td>random forest</td>\n",
       "      <td>1.000000</td>\n",
       "      <td>0.666667</td>\n",
       "      <td>[[2925, 31], [28, 59]]</td>\n",
       "    </tr>\n",
       "    <tr>\n",
       "      <th>3</th>\n",
       "      <td>knn</td>\n",
       "      <td>0.974329</td>\n",
       "      <td>0.440111</td>\n",
       "      <td>[[2763, 193], [8, 79]]</td>\n",
       "    </tr>\n",
       "    <tr>\n",
       "      <th>4</th>\n",
       "      <td>svc</td>\n",
       "      <td>0.988959</td>\n",
       "      <td>0.669388</td>\n",
       "      <td>[[2880, 76], [5, 82]]</td>\n",
       "    </tr>\n",
       "    <tr>\n",
       "      <th>5</th>\n",
       "      <td>gradient boosting</td>\n",
       "      <td>0.992052</td>\n",
       "      <td>0.696035</td>\n",
       "      <td>[[2895, 61], [8, 79]]</td>\n",
       "    </tr>\n",
       "    <tr>\n",
       "      <th>6</th>\n",
       "      <td>extra trees</td>\n",
       "      <td>1.000000</td>\n",
       "      <td>0.706522</td>\n",
       "      <td>[[2924, 32], [22, 65]]</td>\n",
       "    </tr>\n",
       "    <tr>\n",
       "      <th>7</th>\n",
       "      <td>ada boost</td>\n",
       "      <td>0.985818</td>\n",
       "      <td>0.652361</td>\n",
       "      <td>[[2886, 70], [11, 76]]</td>\n",
       "    </tr>\n",
       "    <tr>\n",
       "      <th>8</th>\n",
       "      <td>neural net</td>\n",
       "      <td>0.999958</td>\n",
       "      <td>0.707182</td>\n",
       "      <td>[[2926, 30], [23, 64]]</td>\n",
       "    </tr>\n",
       "  </tbody>\n",
       "</table>\n",
       "</div>"
      ],
      "text/plain": [
       "                 model  train score  valid score        confusion matrix\n",
       "0  logistic regression     0.978345     0.604982  [[2847, 109], [2, 85]]\n",
       "1        decision tree     1.000000     0.581281  [[2899, 57], [28, 59]]\n",
       "2        random forest     1.000000     0.666667  [[2925, 31], [28, 59]]\n",
       "3                  knn     0.974329     0.440111  [[2763, 193], [8, 79]]\n",
       "4                  svc     0.988959     0.669388   [[2880, 76], [5, 82]]\n",
       "5    gradient boosting     0.992052     0.696035   [[2895, 61], [8, 79]]\n",
       "6          extra trees     1.000000     0.706522  [[2924, 32], [22, 65]]\n",
       "7            ada boost     0.985818     0.652361  [[2886, 70], [11, 76]]\n",
       "8           neural net     0.999958     0.707182  [[2926, 30], [23, 64]]"
      ]
     },
     "execution_count": 49,
     "metadata": {},
     "output_type": "execute_result"
    }
   ],
   "source": [
    "bin_model_evaluation"
   ]
  },
  {
   "cell_type": "markdown",
   "id": "70dbc947",
   "metadata": {},
   "source": [
    "Again, all the estimators outperformed the baseline model, and again the bar was not set very high. The multi-layer perceptron classifier (neural net) produced the best f1 score on the validation set, and below is the confusion matrix of the predictions it made. It labeled the majority of instances correctly with a slightly better recall than precision. Keeping in mind that perfect seperation might not even be possible (for reasons mentioned earlier), this model actually did a solid job. It will be further refined, along with other models that yielded promising results, using grid search."
   ]
  },
  {
   "cell_type": "code",
   "execution_count": 104,
   "id": "a4601e37",
   "metadata": {},
   "outputs": [],
   "source": [
    "binary_labels = ['undrafted', 'drafted']"
   ]
  },
  {
   "cell_type": "code",
   "execution_count": 50,
   "id": "5f60da2c",
   "metadata": {},
   "outputs": [
    {
     "data": {
      "image/png": "[encoded data removed]",
      "text/plain": [
       "<Figure size 432x288 with 2 Axes>"
      ]
     },
     "metadata": {
      "needs_background": "light"
     },
     "output_type": "display_data"
    }
   ],
   "source": [
    "cm = bin_model_evaluation.loc[8, 'confusion matrix']\n",
    "plot_confusion_matrix(cm, binary_labels)"
   ]
  },
  {
   "cell_type": "markdown",
   "id": "04c3bd31",
   "metadata": {},
   "source": [
    "A predefined split is created (so that different sets of hyperparameters can be evaluated on the validation set), hyperparameter grids are defined, and the grid search is initiated. The results can be found below."
   ]
  },
  {
   "cell_type": "code",
   "execution_count": 87,
   "id": "e99c6865",
   "metadata": {},
   "outputs": [],
   "source": [
    "X_train_valid, y_binary_train_valid, ps = validation_fold(X_train, X_valid, y_binary_train, y_binary_valid)"
   ]
  },
  {
   "cell_type": "code",
   "execution_count": 77,
   "id": "a573f904",
   "metadata": {
    "scrolled": false
   },
   "outputs": [],
   "source": [
    "log_reg_params = {'penalty': ['l1', 'l2'],\n",
    "                  'C': [0.01, 0.1, 1., 10.],\n",
    "                 }\n",
    "\n",
    "rf_params = {'n_estimators': [10, 50, 100, 250],\n",
    "             'max_depth': [2, 3, 10, 15],\n",
    "             'min_samples_split': [2, 5, 10],\n",
    "             'min_samples_leaf': [1, 2, 5],\n",
    "            }\n",
    "svc_params = {'C': [0.01, 0.1, 1.0, 10.0],\n",
    "              'kernel': ['rbf', 'poly']\n",
    "             }\n",
    "gbc_params = {'max_depth': [2, 3, 5, 10],\n",
    "              'min_samples_split': [2, 5, 10],\n",
    "              'min_samples_leaf': [1, 2, 5],\n",
    "             }\n",
    "et_params = {'n_estimators': [10, 50, 100, 250],\n",
    "             'max_depth': [2, 3, 10, 15],\n",
    "             'min_samples_split': [2, 5, 10],\n",
    "             'min_samples_leaf': [1, 2, 5],\n",
    "            }\n",
    "\n",
    "ada_params = {'base_estimator': [DecisionTreeClassifier()],\n",
    "              'base_estimator__max_depth': [1, 2, 5, 10],\n",
    "              'base_estimator__min_samples_split': [2, 5, 10],\n",
    "              'base_estimator__min_samples_leaf': [1, 2, 5],\n",
    "              'n_estimators': [10, 50, 100, 250],\n",
    "             }\n",
    "\n",
    "net_params = {'hidden_layer_sizes': [(10,), (100,), (100, 10), (100, 100), (100, 100, 10), (100, 100, 100)],\n",
    "              'learning_rate_init': [0.001, 0.01, 0.1],\n",
    "              'learning_rate': ['constant', 'adaptive'],\n",
    "             }\n",
    "\n",
    "models_params = {rf_bin: rf_params,\n",
    "                 svc_bin: svc_params,\n",
    "                 gbc_bin: gbc_params,\n",
    "                 et_bin: et_params,\n",
    "                 net_bin: net_params,\n",
    "                 ada_bin: ada_params,\n",
    "                }"
   ]
  },
  {
   "cell_type": "code",
   "execution_count": 78,
   "id": "faf67681",
   "metadata": {},
   "outputs": [],
   "source": [
    "gs_fits = multi_grid_search(X_train_valid, y_binary_train_valid, models_params, cv=ps, scoring='f1')"
   ]
  },
  {
   "cell_type": "code",
   "execution_count": 231,
   "id": "c790a4ab",
   "metadata": {},
   "outputs": [
    {
     "data": {
      "text/html": [
       "<div>\n",
       "<style scoped>\n",
       "    .dataframe tbody tr th:only-of-type {\n",
       "        vertical-align: middle;\n",
       "    }\n",
       "\n",
       "    .dataframe tbody tr th {\n",
       "        vertical-align: top;\n",
       "    }\n",
       "\n",
       "    .dataframe thead th {\n",
       "        text-align: right;\n",
       "    }\n",
       "</style>\n",
       "<table border=\"1\" class=\"dataframe\">\n",
       "  <thead>\n",
       "    <tr style=\"text-align: right;\">\n",
       "      <th></th>\n",
       "      <th>estimator</th>\n",
       "      <th>best_params</th>\n",
       "      <th>best_score</th>\n",
       "      <th>gs_fit</th>\n",
       "    </tr>\n",
       "  </thead>\n",
       "  <tbody>\n",
       "    <tr>\n",
       "      <th>2</th>\n",
       "      <td>GradientBoostingClassifier(random_state=101)</td>\n",
       "      <td>{'max_depth': 5, 'min_samples_leaf': 2, 'min_s...</td>\n",
       "      <td>0.751269</td>\n",
       "      <td>GridSearchCV(cv=PredefinedSplit(test_fold=arra...</td>\n",
       "    </tr>\n",
       "    <tr>\n",
       "      <th>5</th>\n",
       "      <td>AdaBoostClassifier(random_state=101)</td>\n",
       "      <td>{'base_estimator': DecisionTreeClassifier(max_...</td>\n",
       "      <td>0.723164</td>\n",
       "      <td>GridSearchCV(cv=PredefinedSplit(test_fold=arra...</td>\n",
       "    </tr>\n",
       "    <tr>\n",
       "      <th>4</th>\n",
       "      <td>MLPClassifier(activation='logistic', max_iter=...</td>\n",
       "      <td>{'hidden_layer_sizes': (100,), 'learning_rate'...</td>\n",
       "      <td>0.707182</td>\n",
       "      <td>GridSearchCV(cv=PredefinedSplit(test_fold=arra...</td>\n",
       "    </tr>\n",
       "    <tr>\n",
       "      <th>0</th>\n",
       "      <td>RandomForestClassifier(random_state=101)</td>\n",
       "      <td>{'max_depth': 15, 'min_samples_leaf': 1, 'min_...</td>\n",
       "      <td>0.699507</td>\n",
       "      <td>GridSearchCV(cv=PredefinedSplit(test_fold=arra...</td>\n",
       "    </tr>\n",
       "    <tr>\n",
       "      <th>1</th>\n",
       "      <td>SVC(max_iter=100000, probability=True, random_...</td>\n",
       "      <td>{'C': 10.0, 'kernel': 'rbf'}</td>\n",
       "      <td>0.674033</td>\n",
       "      <td>GridSearchCV(cv=PredefinedSplit(test_fold=arra...</td>\n",
       "    </tr>\n",
       "    <tr>\n",
       "      <th>3</th>\n",
       "      <td>ExtraTreesClassifier(random_state=101)</td>\n",
       "      <td>{'max_depth': 15, 'min_samples_leaf': 1, 'min_...</td>\n",
       "      <td>0.641026</td>\n",
       "      <td>GridSearchCV(cv=PredefinedSplit(test_fold=arra...</td>\n",
       "    </tr>\n",
       "  </tbody>\n",
       "</table>\n",
       "</div>"
      ],
      "text/plain": [
       "                                           estimator  \\\n",
       "2       GradientBoostingClassifier(random_state=101)   \n",
       "5               AdaBoostClassifier(random_state=101)   \n",
       "4  MLPClassifier(activation='logistic', max_iter=...   \n",
       "0           RandomForestClassifier(random_state=101)   \n",
       "1  SVC(max_iter=100000, probability=True, random_...   \n",
       "3             ExtraTreesClassifier(random_state=101)   \n",
       "\n",
       "                                         best_params  best_score  \\\n",
       "2  {'max_depth': 5, 'min_samples_leaf': 2, 'min_s...    0.751269   \n",
       "5  {'base_estimator': DecisionTreeClassifier(max_...    0.723164   \n",
       "4  {'hidden_layer_sizes': (100,), 'learning_rate'...    0.707182   \n",
       "0  {'max_depth': 15, 'min_samples_leaf': 1, 'min_...    0.699507   \n",
       "1                       {'C': 10.0, 'kernel': 'rbf'}    0.674033   \n",
       "3  {'max_depth': 15, 'min_samples_leaf': 1, 'min_...    0.641026   \n",
       "\n",
       "                                              gs_fit  \n",
       "2  GridSearchCV(cv=PredefinedSplit(test_fold=arra...  \n",
       "5  GridSearchCV(cv=PredefinedSplit(test_fold=arra...  \n",
       "4  GridSearchCV(cv=PredefinedSplit(test_fold=arra...  \n",
       "0  GridSearchCV(cv=PredefinedSplit(test_fold=arra...  \n",
       "1  GridSearchCV(cv=PredefinedSplit(test_fold=arra...  \n",
       "3  GridSearchCV(cv=PredefinedSplit(test_fold=arra...  "
      ]
     },
     "execution_count": 231,
     "metadata": {},
     "output_type": "execute_result"
    }
   ],
   "source": [
    "gs_fits.sort_values('best_score', ascending=False)"
   ]
  },
  {
   "cell_type": "markdown",
   "id": "bfce0c55",
   "metadata": {},
   "source": [
    "As it is shown in the dataframe above, three classifiers managed to beat the 0.7 mark (when it comes to the f1 score on the validation set), with the gradient boosting classifier scoring above the 0.75 mark. Let's see if it is possible to further improve the top five estimators with a finer grid search."
   ]
  },
  {
   "cell_type": "code",
   "execution_count": 79,
   "id": "01180169",
   "metadata": {
    "scrolled": false
   },
   "outputs": [],
   "source": [
    "gbc_params = {'max_depth': [4, 5, 6, 7],\n",
    "              'min_samples_split': [2, 3, 4],\n",
    "              'min_samples_leaf': [2, 3, 4],\n",
    "             }\n",
    "\n",
    "ada_params = {'base_estimator': [DecisionTreeClassifier()],\n",
    "              'base_estimator__max_depth': [8, 10, 12],\n",
    "              'base_estimator__min_samples_split': [2, 3, 4],\n",
    "              'base_estimator__min_samples_leaf': [2, 3, 4],\n",
    "              'n_estimators': [75, 100, 125],\n",
    "             }\n",
    "\n",
    "net_params = {'hidden_layer_sizes': [(100,), (100, 50), (100, 50, 10)],\n",
    "              'learning_rate': ['constant'],\n",
    "              'learning_rate_init': [0.001],\n",
    "             }\n",
    "\n",
    "svc_params = {'C': [5.0, 8.0, 10.0, 12.0, 15.0],\n",
    "              'kernel': ['rbf']\n",
    "             }\n",
    "\n",
    "rf_params = {'n_estimators': [25, 40, 50, 60, 75],\n",
    "             'max_depth': [12, 15, 20],\n",
    "             'min_samples_split': [3, 4, 5, 6, 7],\n",
    "             'min_samples_leaf': [1],\n",
    "            }\n",
    "\n",
    "et_params = {'n_estimators': [75, 100, 125, 150],\n",
    "             'max_depth': [12, 15, 20],\n",
    "             'min_samples_split': [8, 10, 12, 15],\n",
    "             'min_samples_leaf': [1],\n",
    "            }\n",
    "\n",
    "models_params = {gbc_bin: gbc_params,\n",
    "                 ada_bin: ada_params,\n",
    "                 net_bin: net_params,\n",
    "                 svc_bin: svc_params,\n",
    "                 rf_bin: rf_params,\n",
    "                 et_bin: et_params,\n",
    "                }"
   ]
  },
  {
   "cell_type": "code",
   "execution_count": 80,
   "id": "dc55e7c4",
   "metadata": {},
   "outputs": [],
   "source": [
    "gs_fits_finer = multi_grid_search(X_train_valid, y_binary_train_valid, models_params, cv=ps, scoring='f1')"
   ]
  },
  {
   "cell_type": "code",
   "execution_count": 250,
   "id": "b9eb62f6",
   "metadata": {},
   "outputs": [
    {
     "data": {
      "text/html": [
       "<div>\n",
       "<style scoped>\n",
       "    .dataframe tbody tr th:only-of-type {\n",
       "        vertical-align: middle;\n",
       "    }\n",
       "\n",
       "    .dataframe tbody tr th {\n",
       "        vertical-align: top;\n",
       "    }\n",
       "\n",
       "    .dataframe thead th {\n",
       "        text-align: right;\n",
       "    }\n",
       "</style>\n",
       "<table border=\"1\" class=\"dataframe\">\n",
       "  <thead>\n",
       "    <tr style=\"text-align: right;\">\n",
       "      <th></th>\n",
       "      <th>estimator</th>\n",
       "      <th>best_params</th>\n",
       "      <th>best_score</th>\n",
       "      <th>gs_fit</th>\n",
       "    </tr>\n",
       "  </thead>\n",
       "  <tbody>\n",
       "    <tr>\n",
       "      <th>2</th>\n",
       "      <td>GradientBoostingClassifier(random_state=101)</td>\n",
       "      <td>{'max_depth': 5, 'min_samples_leaf': 2, 'min_s...</td>\n",
       "      <td>0.751269</td>\n",
       "      <td>GridSearchCV(cv=PredefinedSplit(test_fold=arra...</td>\n",
       "    </tr>\n",
       "    <tr>\n",
       "      <th>4</th>\n",
       "      <td>AdaBoostClassifier(random_state=101)</td>\n",
       "      <td>{'base_estimator': DecisionTreeClassifier(max_...</td>\n",
       "      <td>0.736264</td>\n",
       "      <td>GridSearchCV(cv=PredefinedSplit(test_fold=arra...</td>\n",
       "    </tr>\n",
       "    <tr>\n",
       "      <th>0</th>\n",
       "      <td>RandomForestClassifier(random_state=101)</td>\n",
       "      <td>{'max_depth': 20, 'min_samples_leaf': 1, 'min_...</td>\n",
       "      <td>0.721649</td>\n",
       "      <td>GridSearchCV(cv=PredefinedSplit(test_fold=arra...</td>\n",
       "    </tr>\n",
       "    <tr>\n",
       "      <th>3</th>\n",
       "      <td>MLPClassifier(activation='logistic', max_iter=...</td>\n",
       "      <td>{'hidden_layer_sizes': (100,), 'learning_rate'...</td>\n",
       "      <td>0.707182</td>\n",
       "      <td>GridSearchCV(cv=PredefinedSplit(test_fold=arra...</td>\n",
       "    </tr>\n",
       "    <tr>\n",
       "      <th>1</th>\n",
       "      <td>SVC(max_iter=100000, probability=True, random_...</td>\n",
       "      <td>{'C': 12.0, 'kernel': 'rbf'}</td>\n",
       "      <td>0.685714</td>\n",
       "      <td>GridSearchCV(cv=PredefinedSplit(test_fold=arra...</td>\n",
       "    </tr>\n",
       "    <tr>\n",
       "      <th>5</th>\n",
       "      <td>ExtraTreesClassifier(random_state=101)</td>\n",
       "      <td>{'max_depth': 20, 'min_samples_leaf': 1, 'min_...</td>\n",
       "      <td>0.673267</td>\n",
       "      <td>GridSearchCV(cv=PredefinedSplit(test_fold=arra...</td>\n",
       "    </tr>\n",
       "  </tbody>\n",
       "</table>\n",
       "</div>"
      ],
      "text/plain": [
       "                                           estimator  \\\n",
       "2       GradientBoostingClassifier(random_state=101)   \n",
       "4               AdaBoostClassifier(random_state=101)   \n",
       "0           RandomForestClassifier(random_state=101)   \n",
       "3  MLPClassifier(activation='logistic', max_iter=...   \n",
       "1  SVC(max_iter=100000, probability=True, random_...   \n",
       "5             ExtraTreesClassifier(random_state=101)   \n",
       "\n",
       "                                         best_params  best_score  \\\n",
       "2  {'max_depth': 5, 'min_samples_leaf': 2, 'min_s...    0.751269   \n",
       "4  {'base_estimator': DecisionTreeClassifier(max_...    0.736264   \n",
       "0  {'max_depth': 20, 'min_samples_leaf': 1, 'min_...    0.721649   \n",
       "3  {'hidden_layer_sizes': (100,), 'learning_rate'...    0.707182   \n",
       "1                       {'C': 12.0, 'kernel': 'rbf'}    0.685714   \n",
       "5  {'max_depth': 20, 'min_samples_leaf': 1, 'min_...    0.673267   \n",
       "\n",
       "                                              gs_fit  \n",
       "2  GridSearchCV(cv=PredefinedSplit(test_fold=arra...  \n",
       "4  GridSearchCV(cv=PredefinedSplit(test_fold=arra...  \n",
       "0  GridSearchCV(cv=PredefinedSplit(test_fold=arra...  \n",
       "3  GridSearchCV(cv=PredefinedSplit(test_fold=arra...  \n",
       "1  GridSearchCV(cv=PredefinedSplit(test_fold=arra...  \n",
       "5  GridSearchCV(cv=PredefinedSplit(test_fold=arra...  "
      ]
     },
     "execution_count": 250,
     "metadata": {},
     "output_type": "execute_result"
    }
   ],
   "source": [
    "gs_fits_finer.sort_values('best_score', ascending=False)"
   ]
  },
  {
   "cell_type": "markdown",
   "id": "b66f194d",
   "metadata": {},
   "source": [
    "Further refinements did not bring any major improvements and the score of the best estimator (the gradient boosting classifer) did not improve at all. Nevertheless, these six predictors will now be initiated with the most effective set of hyperparameters to be then used to build a number of voting classifiers. This time, soft voting will be used so that the final estimator can be later used to predict the probability of a given player belonging to the 'drafted' class."
   ]
  },
  {
   "cell_type": "code",
   "execution_count": 81,
   "id": "015e60d8",
   "metadata": {},
   "outputs": [],
   "source": [
    "gbc_bin_best = GradientBoostingClassifier(max_depth=5, min_samples_leaf=2, min_samples_split=2, random_state=RS)\n",
    "ada_bin_best = AdaBoostClassifier(DecisionTreeClassifier(max_depth=10, min_samples_leaf=2, min_samples_split=2),\n",
    "                                  n_estimators=75, random_state=RS)\n",
    "net_bin_best = MLPClassifier(hidden_layer_sizes=(100,), learning_rate='constant', learning_rate_init=0.001,\n",
    "                             activation='logistic', max_iter=10000, random_state=RS)\n",
    "svc_bin_best = SVC(C=12.0, kernel='rbf', max_iter=100000, probability=True, random_state=RS)\n",
    "rf_bin_best = RandomForestClassifier(max_depth=20, min_samples_leaf=1, min_samples_split=5, n_estimators=75, random_state=RS)\n",
    "et_bin_best = ExtraTreesClassifier(max_depth=20, min_samples_leaf=1, min_samples_split=8, n_estimators=100, random_state=RS)"
   ]
  },
  {
   "cell_type": "code",
   "execution_count": 82,
   "id": "1d16ea16",
   "metadata": {},
   "outputs": [],
   "source": [
    "vc_all = VotingClassifier([('gbc_bin_best', gbc_bin_best), ('ada_bin_best', ada_bin_best),\n",
    "                           ('net_bin_best', net_bin_best), ('svc_bin_best',svc_bin_best),\n",
    "                           ('rf_bin_best', rf_bin_best), ('et_bin_best', et_bin_best),\n",
    "                          ], voting='soft')\n",
    "\n",
    "vc_top_5 = VotingClassifier([('gbc_bin_best', gbc_bin_best), ('ada_bin_best', ada_bin_best),\n",
    "                            ('net_bin_best', net_bin_best), ('svc_bin_best',svc_bin_best),\n",
    "                            ('rf_bin_best', rf_bin_best),\n",
    "                            ], voting='soft')\n",
    "\n",
    "vc_top_3 = VotingClassifier([('gbc_bin_best', gbc_bin_best),\n",
    "                             ('ada_bin_best', ada_bin_best),\n",
    "                             ('net_bin_best', net_bin_best),\n",
    "                            ], voting='soft')\n",
    "\n",
    "vc_varied_3 = VotingClassifier([('gbc_bin_best', gbc_bin_best),\n",
    "                                ('net_bin_best', net_bin_best),\n",
    "                                ('svc_bin_best',svc_bin_best),\n",
    "                                ], voting='soft')\n",
    "\n",
    "ensemble_binary_classifiers = {'all': vc_all, 'top 5': vc_top_5,\n",
    "                               'top 3': vc_top_3, 'varied 3': vc_varied_3}"
   ]
  },
  {
   "cell_type": "code",
   "execution_count": 84,
   "id": "aefa46fa",
   "metadata": {},
   "outputs": [],
   "source": [
    "ensemble_binary_evaluation = quick_compare(ensemble_binary_classifiers, X_train, y_binary_train,\n",
    "                                           X_valid, y_binary_valid, average='binary')"
   ]
  },
  {
   "cell_type": "markdown",
   "id": "abe7bf12",
   "metadata": {},
   "source": [
    "Below is the comparison between four different voting classifiers that were created and the classification matrix of predictions made by the one that performed best (in terms of the f1 score). "
   ]
  },
  {
   "cell_type": "code",
   "execution_count": 260,
   "id": "92a766df",
   "metadata": {},
   "outputs": [
    {
     "data": {
      "text/html": [
       "<div>\n",
       "<style scoped>\n",
       "    .dataframe tbody tr th:only-of-type {\n",
       "        vertical-align: middle;\n",
       "    }\n",
       "\n",
       "    .dataframe tbody tr th {\n",
       "        vertical-align: top;\n",
       "    }\n",
       "\n",
       "    .dataframe thead th {\n",
       "        text-align: right;\n",
       "    }\n",
       "</style>\n",
       "<table border=\"1\" class=\"dataframe\">\n",
       "  <thead>\n",
       "    <tr style=\"text-align: right;\">\n",
       "      <th></th>\n",
       "      <th>model</th>\n",
       "      <th>train score</th>\n",
       "      <th>valid score</th>\n",
       "      <th>confusion matrix</th>\n",
       "    </tr>\n",
       "  </thead>\n",
       "  <tbody>\n",
       "    <tr>\n",
       "      <th>0</th>\n",
       "      <td>all</td>\n",
       "      <td>1.000000</td>\n",
       "      <td>0.731429</td>\n",
       "      <td>[[2932, 24], [23, 64]]</td>\n",
       "    </tr>\n",
       "    <tr>\n",
       "      <th>1</th>\n",
       "      <td>top 5</td>\n",
       "      <td>1.000000</td>\n",
       "      <td>0.731429</td>\n",
       "      <td>[[2932, 24], [23, 64]]</td>\n",
       "    </tr>\n",
       "    <tr>\n",
       "      <th>2</th>\n",
       "      <td>top 3</td>\n",
       "      <td>1.000000</td>\n",
       "      <td>0.747253</td>\n",
       "      <td>[[2929, 27], [19, 68]]</td>\n",
       "    </tr>\n",
       "    <tr>\n",
       "      <th>3</th>\n",
       "      <td>varied 3</td>\n",
       "      <td>0.999831</td>\n",
       "      <td>0.711656</td>\n",
       "      <td>[[2938, 18], [29, 58]]</td>\n",
       "    </tr>\n",
       "  </tbody>\n",
       "</table>\n",
       "</div>"
      ],
      "text/plain": [
       "      model  train score  valid score        confusion matrix\n",
       "0       all     1.000000     0.731429  [[2932, 24], [23, 64]]\n",
       "1     top 5     1.000000     0.731429  [[2932, 24], [23, 64]]\n",
       "2     top 3     1.000000     0.747253  [[2929, 27], [19, 68]]\n",
       "3  varied 3     0.999831     0.711656  [[2938, 18], [29, 58]]"
      ]
     },
     "execution_count": 260,
     "metadata": {},
     "output_type": "execute_result"
    }
   ],
   "source": [
    "ensemble_binary_evaluation"
   ]
  },
  {
   "cell_type": "code",
   "execution_count": 263,
   "id": "bc2b5e9b",
   "metadata": {
    "scrolled": true
   },
   "outputs": [
    {
     "data": {
      "image/png": "[encoded data removed]",
      "text/plain": [
       "<Figure size 432x288 with 2 Axes>"
      ]
     },
     "metadata": {
      "needs_background": "light"
     },
     "output_type": "display_data"
    }
   ],
   "source": [
    "cm = ensemble_binary_evaluation.loc[2, 'confusion matrix']\n",
    "plot_confusion_matrix(cm, binary_labels)"
   ]
  },
  {
   "cell_type": "markdown",
   "id": "ddc327f1",
   "metadata": {},
   "source": [
    "The voting classifier consisting of the top 3 individual estimators (gradient boosting classifier, adaptive boosting classifier, and multi-layer perceptron classifier) will be selected as the final model of this approach. As it can be seen in the confusion matrix above, it performs quite well seperating drafted players from undrafted players. It made relatively few false negative predictions, meaning that if a given instance is labeled as 'undrafted' there is a very good chance it truly belongs to that class. However, its precision leaves a lot to be desired: if a player is classified as 'drafted', there is still going to be a lot of uncertainy whether it is their true class.\n",
    "\n",
    "It has to be kept in mind that the ultimate goal was not to predict whether or not a given player is going to be drafted, but to estimate the specific group they are going to be selected (or not selected) in instead. The final model was chosen with an assumption that the estimator that can best seperate drafted and undrafted players from each other, will also perform best when it is asked to predict probabilities of the players belonging to the postitive class. It is a reasonable assumption, although it does not necessarily need to be true. However, choosing a different approach, and validating the models using all four target classes instead of just the two, would be far more problematic while at the same time being very likely to yield little to no improvement in performance. Therefore, the final estimator was selected solely on the basis of how well was it able to differentiate between drafted and undrafted players. A new pipeline, made of the feature transformer and the final binary model, is defined and exported below."
   ]
  },
  {
   "cell_type": "code",
   "execution_count": 89,
   "id": "23c73aec",
   "metadata": {},
   "outputs": [],
   "source": [
    "final_binary_model = vc_top_3\n",
    "full_binary_pipeline = Pipeline([('feature transformations', feature_transformer),\n",
    "                                 ('final model', final_binary_model),\n",
    "                                ])\n",
    "filepath = 'models/final_binary_model.sav'\n",
    "pickle.dump(full_binary_pipeline, open(filepath, 'wb'))"
   ]
  },
  {
   "cell_type": "markdown",
   "id": "0c4bfe53",
   "metadata": {},
   "source": [
    "It is time to apply the final pipeline to the test set and see how it performs. Both binary and multiclass predictions will be made on the test set. The latter will be made on one part of the test set at a time, each containing data coming from a single season. For that reason, the test set needs to be first split into two parts."
   ]
  },
  {
   "cell_type": "code",
   "execution_count": 90,
   "id": "2655710a",
   "metadata": {},
   "outputs": [],
   "source": [
    "X_test_2020 = X_test[X_test['season']==2020]\n",
    "X_test_2021 = X_test[X_test['season']==2021]\n",
    "y_binary_test_2020 = y_binary_test[X_test_2020.index]\n",
    "y_binary_test_2021 = y_binary_test[X_test_2021.index]\n",
    "y_test_2020 = y_test[X_test_2020.index]\n",
    "y_test_2021 = y_test[X_test_2021.index]"
   ]
  },
  {
   "cell_type": "code",
   "execution_count": 94,
   "id": "3dcd2ad3",
   "metadata": {},
   "outputs": [],
   "source": [
    "y_binary_pred = full_binary_pipeline.predict(X_test)\n",
    "y_pred_proba_2020 = full_binary_pipeline.predict_proba(X_test_2020)\n",
    "y_pred_proba_2021 = full_binary_pipeline.predict_proba(X_test_2021)"
   ]
  },
  {
   "cell_type": "markdown",
   "id": "693d75c1",
   "metadata": {},
   "source": [
    "First, let's check how the final model performs on the test set when it only makes binary predictions (i.e. tries to label players as either 'drafted' or 'undrafted') and the information about the number of players actually belonging to a given class is omitted. As it can be seen below, the estimator does a relatively good job, producing an f1 score comparable to the one seen earlier on the validation set (0.71 vs 0.75). It means that this time the final model is not overfitted to the validation set as much as it was previously (when a different approach was employed). \n",
    "\n",
    "The model is far from perfect and still makes a lot of type I and type II errors. However, it seems like this time extra precision was traded for some of the recall (there are more false negatives than false positives, as opposed to what can be seen in the predictions made on the validation set), meaning that if a given player is assigned to a positive class, there is a better chance of them actually belonging to that class."
   ]
  },
  {
   "cell_type": "code",
   "execution_count": 332,
   "id": "bc865e40",
   "metadata": {
    "scrolled": false
   },
   "outputs": [
    {
     "name": "stdout",
     "output_type": "stream",
     "text": [
      "              precision    recall  f1-score   support\n",
      "\n",
      "           0       0.99      0.99      0.99      3076\n",
      "           1       0.74      0.67      0.71        98\n",
      "\n",
      "    accuracy                           0.98      3174\n",
      "   macro avg       0.87      0.83      0.85      3174\n",
      "weighted avg       0.98      0.98      0.98      3174\n",
      "\n"
     ]
    },
    {
     "data": {
      "image/png": "[encoded data removed]",
      "text/plain": [
       "<Figure size 432x288 with 2 Axes>"
      ]
     },
     "metadata": {
      "needs_background": "light"
     },
     "output_type": "display_data"
    }
   ],
   "source": [
    "print(classification_report(y_binary_test, y_binary_pred))\n",
    "plot_confusion_matrix(confusion_matrix(y_binary_test, y_binary_pred), binary_labels)"
   ]
  },
  {
   "cell_type": "markdown",
   "id": "6ecd7a35",
   "metadata": {},
   "source": [
    "Let's now look at the test set one season at a time and include the information about how many players from the NCAA were actually drafted that year. First, it will be necessary to define a function that will convert the probability of a given instance belonging to the positive class into one of possible classes based on the number of instances that truly belong to these classes. For example, if there were 50 players from the NCAA drafted in 2021, it will assign 50 players with the highest predicted probability to the 'drafted' class (it can also be used in conjunction with more classes, like 'lottery', 'first round', and 'second round')."
   ]
  },
  {
   "cell_type": "code",
   "execution_count": 95,
   "id": "b144ab70",
   "metadata": {},
   "outputs": [],
   "source": [
    "def convert_predictions(y_pred_proba, y_true):\n",
    "    y_pred_proba = y_pred_proba[:, 1]\n",
    "    y_pred_proba = pd.Series(y_pred_proba)\n",
    "    y_pred_proba.index = y_true.index\n",
    "    y_pred_proba = y_pred_proba.sort_values()\n",
    "    targets_list = []\n",
    "    for key, value in dict(y_true.value_counts()).items():\n",
    "        for _ in range(value):\n",
    "            targets_list.append(key)\n",
    "    predictions = pd.Series(targets_list)\n",
    "    predictions.index = y_pred_proba.index\n",
    "    predictions = predictions.reindex(index=y_true.index)\n",
    "    return predictions"
   ]
  },
  {
   "cell_type": "markdown",
   "id": "e7c90b55",
   "metadata": {},
   "source": [
    "Predictions were made separately on the two parts of the dataset that contained data coming from a single season each, and were subsequently concatenated so that the aggregate results can be compared to those produced earlier (when the information about the number of players in each of the groups was not considered). It turns out, the additional information contributed to a slightly better performance, although only by a very tight margin: it successfuly identified 71 out of 98 players drafted over two years (as compared to 66 before) and yielded an f1 score of 0.72.  "
   ]
  },
  {
   "cell_type": "code",
   "execution_count": 96,
   "id": "4954e50a",
   "metadata": {},
   "outputs": [],
   "source": [
    "y_binary_pred_2020 = convert_predictions(y_pred_proba_2020, y_binary_test_2020)\n",
    "y_binary_pred_2021 = convert_predictions(y_pred_proba_2021, y_binary_test_2021)\n",
    "y_binary_pred_order = pd.concat([y_binary_pred_2020, y_binary_pred_2021])\n",
    "y_binary_test_order = pd.concat([y_binary_test_2020, y_binary_test_2021])"
   ]
  },
  {
   "cell_type": "code",
   "execution_count": 336,
   "id": "22612585",
   "metadata": {
    "scrolled": false
   },
   "outputs": [
    {
     "name": "stdout",
     "output_type": "stream",
     "text": [
      "              precision    recall  f1-score   support\n",
      "\n",
      "           0       0.99      0.99      0.99      3076\n",
      "           1       0.72      0.72      0.72        98\n",
      "\n",
      "    accuracy                           0.98      3174\n",
      "   macro avg       0.86      0.86      0.86      3174\n",
      "weighted avg       0.98      0.98      0.98      3174\n",
      "\n"
     ]
    },
    {
     "data": {
      "image/png": "[encoded data removed]",
      "text/plain": [
       "<Figure size 432x288 with 2 Axes>"
      ]
     },
     "metadata": {
      "needs_background": "light"
     },
     "output_type": "display_data"
    }
   ],
   "source": [
    "print(classification_report(y_binary_test_order, y_binary_pred_order))\n",
    "plot_confusion_matrix(confusion_matrix(y_binary_test_order, y_binary_pred_order), binary_labels)"
   ]
  },
  {
   "cell_type": "markdown",
   "id": "afbe6045",
   "metadata": {},
   "source": [
    "Finally, let's find out how the model performs when it is asked to predict which of the four possible classes ('lottery', 'first round', 'second round', 'undrafted') a given player belongs to. Once again, it will be necessary to convert the probabilities predicted by the final estimator into one of the target groups."
   ]
  },
  {
   "cell_type": "code",
   "execution_count": 100,
   "id": "93011043",
   "metadata": {},
   "outputs": [],
   "source": [
    "y_multi_pred_2020 = convert_predictions(y_pred_proba_2020, y_test_2020)\n",
    "y_multi_pred_2021 = convert_predictions(y_pred_proba_2021, y_test_2021)\n",
    "y_multi_pred_order = pd.concat([y_multi_pred_2020, y_multi_pred_2021])\n",
    "y_multi_test_order = pd.concat([y_test_2020, y_test_2021])"
   ]
  },
  {
   "cell_type": "code",
   "execution_count": 340,
   "id": "6143bcce",
   "metadata": {
    "scrolled": false
   },
   "outputs": [
    {
     "name": "stdout",
     "output_type": "stream",
     "text": [
      "              precision    recall  f1-score   support\n",
      "\n",
      "           1       0.41      0.41      0.41        22\n",
      "           2       0.26      0.26      0.26        27\n",
      "           3       0.37      0.37      0.37        49\n",
      "           4       0.99      0.99      0.99      3076\n",
      "\n",
      "    accuracy                           0.97      3174\n",
      "   macro avg       0.51      0.51      0.51      3174\n",
      "weighted avg       0.97      0.97      0.97      3174\n",
      "\n"
     ]
    },
    {
     "data": {
      "image/png": "[encoded data removed]",
      "text/plain": [
       "<Figure size 432x288 with 2 Axes>"
      ]
     },
     "metadata": {
      "needs_background": "light"
     },
     "output_type": "display_data"
    }
   ],
   "source": [
    "print(classification_report(y_multi_test_order, y_multi_pred_order))\n",
    "plot_confusion_matrix(confusion_matrix(y_multi_test_order, y_multi_pred_order), labels)"
   ]
  },
  {
   "cell_type": "markdown",
   "id": "51a552e0",
   "metadata": {},
   "source": [
    "Although the results achieved now should not be directly compared to those produced earlier when the problem was approached in a different way (as different subsets of data were used for training, validation, and testing), it cannot go unnoticed how similar the final f1 scores are (0.51 now vs 0.52 before). Looking only at that score, it seems like including the additional information when making predictions does not result in major improvements in performance (if any). However, inspecting the confusion matrix, it appears that the final estimator built using this approach makes predictions that are more sensible: it still misclassifies a significant number of instances, but it now predicts the correct class more often (or just as often) than any of the other three classes individually (note the values on the diagonal). Moreover, when it does make errors, it usually mistakes a given class for the class that is adjacent to it: the further away two classes are from each other, the less likely they are to be mistaken for each other. Consequently, when a given player is labeled as a lottery pick, they cannot be sure they actually belong to that class, however, they have a high chance of being drafted at the very least. At the other end of the spectrum, instances classifed as 'undrafted' have low odds of actually ending up drafted, and can be almost certain that if they do get drafted, the are not going to make it into the first round.\n",
    "\n",
    "Moreover, what is advantageous about this approach, is the impretability of the results. Even though the final estimator is not extremely effective seperating the dataset with regards to the target variable, the probaiblity it predicts can still be very useful and informative. It can be interpreted as the probability of a particular player getting drafted assuming that college performance (expressed in both basic and more advanced player and team stats) is the only meaningful thing affecting the decision-making process of the NBA franchises' general managers. It is a huge simplification that cannot be overlooked. Therefore, whatever the predictions of the estimator developed over the course of this project are, they should not be treated literally, but they can potentially serve as one of the inputs the NBA teams' decision makers use when considering their options before the draft.\n",
    "\n",
    "Having said that, below is an example 2021 NBA mock draft based off of the probabilities predicted with the final estimator. Players enrolled for the draft were sorted by the probability of being drafted in descending order, and the first 60 players were displayed along with the actual pick they were drafted (or undrafted) with. No players from outside the NCAA are included in this mock draft. For that and other reasons explained earlier, it should not be treated literally, but rather as a comparison of what the draft would look like if the NCAA performance was all that mattered versus how it actually looked like. Interestingly enough, many of the players that were predicted to be drafted by the model but in reality went undrafted, ended up playing in the NBA. Such players are indicated with brackets."
   ]
  },
  {
   "cell_type": "code",
   "execution_count": 102,
   "id": "42ef2646",
   "metadata": {
    "scrolled": true
   },
   "outputs": [],
   "source": [
    "mock_draft = pd.DataFrame(np.c_[dataset[dataset['season']==2021]['name'], y_pred_proba_2021[:, -1]],\n",
    "                          columns=['player', 'probability'], index=dataset[dataset['season']==2021].index)\n",
    "mock_draft = pd.merge(mock_draft, draft_2021,\n",
    "                      left_index=True, right_index=True).sort_values('probability', ascending=False).head(60)\n",
    "mock_draft.drop('name', axis=1, inplace=True)\n",
    "mock_draft.index = range(1, 61)"
   ]
  },
  {
   "cell_type": "code",
   "execution_count": 434,
   "id": "a7648eba",
   "metadata": {},
   "outputs": [
    {
     "data": {
      "text/html": [
       "<div>\n",
       "<style scoped>\n",
       "    .dataframe tbody tr th:only-of-type {\n",
       "        vertical-align: middle;\n",
       "    }\n",
       "\n",
       "    .dataframe tbody tr th {\n",
       "        vertical-align: top;\n",
       "    }\n",
       "\n",
       "    .dataframe thead th {\n",
       "        text-align: right;\n",
       "    }\n",
       "</style>\n",
       "<table border=\"1\" class=\"dataframe\">\n",
       "  <thead>\n",
       "    <tr style=\"text-align: right;\">\n",
       "      <th></th>\n",
       "      <th>player</th>\n",
       "      <th>probability</th>\n",
       "      <th>draft</th>\n",
       "    </tr>\n",
       "  </thead>\n",
       "  <tbody>\n",
       "    <tr>\n",
       "      <th>1</th>\n",
       "      <td>Moses Moody</td>\n",
       "      <td>0.99898</td>\n",
       "      <td>14</td>\n",
       "    </tr>\n",
       "    <tr>\n",
       "      <th>2</th>\n",
       "      <td>Jalen Suggs</td>\n",
       "      <td>0.997242</td>\n",
       "      <td>5</td>\n",
       "    </tr>\n",
       "    <tr>\n",
       "      <th>3</th>\n",
       "      <td>Evan Mobley</td>\n",
       "      <td>0.995794</td>\n",
       "      <td>3</td>\n",
       "    </tr>\n",
       "    <tr>\n",
       "      <th>4</th>\n",
       "      <td>JT Thor</td>\n",
       "      <td>0.99181</td>\n",
       "      <td>37</td>\n",
       "    </tr>\n",
       "    <tr>\n",
       "      <th>5</th>\n",
       "      <td>Chris Duarte</td>\n",
       "      <td>0.975356</td>\n",
       "      <td>13</td>\n",
       "    </tr>\n",
       "    <tr>\n",
       "      <th>6</th>\n",
       "      <td>Cade Cunningham</td>\n",
       "      <td>0.97432</td>\n",
       "      <td>1</td>\n",
       "    </tr>\n",
       "    <tr>\n",
       "      <th>7</th>\n",
       "      <td>Jared Butler</td>\n",
       "      <td>0.947045</td>\n",
       "      <td>40</td>\n",
       "    </tr>\n",
       "    <tr>\n",
       "      <th>8</th>\n",
       "      <td>Scottie Barnes</td>\n",
       "      <td>0.931504</td>\n",
       "      <td>4</td>\n",
       "    </tr>\n",
       "    <tr>\n",
       "      <th>9</th>\n",
       "      <td>Franz Wagner</td>\n",
       "      <td>0.930907</td>\n",
       "      <td>8</td>\n",
       "    </tr>\n",
       "    <tr>\n",
       "      <th>10</th>\n",
       "      <td>Justin Champagnie</td>\n",
       "      <td>0.929582</td>\n",
       "      <td>undrafted (NBA)</td>\n",
       "    </tr>\n",
       "    <tr>\n",
       "      <th>11</th>\n",
       "      <td>Ayo Dosunmu</td>\n",
       "      <td>0.913345</td>\n",
       "      <td>38</td>\n",
       "    </tr>\n",
       "    <tr>\n",
       "      <th>12</th>\n",
       "      <td>Corey Kispert</td>\n",
       "      <td>0.904142</td>\n",
       "      <td>15</td>\n",
       "    </tr>\n",
       "    <tr>\n",
       "      <th>13</th>\n",
       "      <td>Trendon Watford</td>\n",
       "      <td>0.887248</td>\n",
       "      <td>undrafted (NBA)</td>\n",
       "    </tr>\n",
       "    <tr>\n",
       "      <th>14</th>\n",
       "      <td>Joshua Primo</td>\n",
       "      <td>0.865092</td>\n",
       "      <td>12</td>\n",
       "    </tr>\n",
       "    <tr>\n",
       "      <th>15</th>\n",
       "      <td>Charles Bassey</td>\n",
       "      <td>0.854639</td>\n",
       "      <td>53</td>\n",
       "    </tr>\n",
       "    <tr>\n",
       "      <th>16</th>\n",
       "      <td>DJ Steward</td>\n",
       "      <td>0.853583</td>\n",
       "      <td>undrafted (NBA)</td>\n",
       "    </tr>\n",
       "    <tr>\n",
       "      <th>17</th>\n",
       "      <td>Neemias Queta</td>\n",
       "      <td>0.836873</td>\n",
       "      <td>39</td>\n",
       "    </tr>\n",
       "    <tr>\n",
       "      <th>18</th>\n",
       "      <td>Josh Christopher</td>\n",
       "      <td>0.825504</td>\n",
       "      <td>24</td>\n",
       "    </tr>\n",
       "    <tr>\n",
       "      <th>19</th>\n",
       "      <td>Davion Mitchell</td>\n",
       "      <td>0.817263</td>\n",
       "      <td>9</td>\n",
       "    </tr>\n",
       "    <tr>\n",
       "      <th>20</th>\n",
       "      <td>Joel Ayayi</td>\n",
       "      <td>0.809207</td>\n",
       "      <td>undrafted (NBA)</td>\n",
       "    </tr>\n",
       "    <tr>\n",
       "      <th>21</th>\n",
       "      <td>Luka Garza</td>\n",
       "      <td>0.795295</td>\n",
       "      <td>52</td>\n",
       "    </tr>\n",
       "    <tr>\n",
       "      <th>22</th>\n",
       "      <td>Cameron Thomas</td>\n",
       "      <td>0.793557</td>\n",
       "      <td>27</td>\n",
       "    </tr>\n",
       "    <tr>\n",
       "      <th>23</th>\n",
       "      <td>Day'Ron Sharpe</td>\n",
       "      <td>0.789804</td>\n",
       "      <td>29</td>\n",
       "    </tr>\n",
       "    <tr>\n",
       "      <th>24</th>\n",
       "      <td>Jalen Johnson</td>\n",
       "      <td>0.669766</td>\n",
       "      <td>20</td>\n",
       "    </tr>\n",
       "    <tr>\n",
       "      <th>25</th>\n",
       "      <td>Matthew Hurt</td>\n",
       "      <td>0.666714</td>\n",
       "      <td>undrafted (NBA)</td>\n",
       "    </tr>\n",
       "    <tr>\n",
       "      <th>26</th>\n",
       "      <td>Sharife Cooper</td>\n",
       "      <td>0.63744</td>\n",
       "      <td>48</td>\n",
       "    </tr>\n",
       "    <tr>\n",
       "      <th>27</th>\n",
       "      <td>Santi Aldama</td>\n",
       "      <td>0.627532</td>\n",
       "      <td>30</td>\n",
       "    </tr>\n",
       "    <tr>\n",
       "      <th>28</th>\n",
       "      <td>Miles McBride</td>\n",
       "      <td>0.624174</td>\n",
       "      <td>36</td>\n",
       "    </tr>\n",
       "    <tr>\n",
       "      <th>29</th>\n",
       "      <td>Kessler Edwards</td>\n",
       "      <td>0.610929</td>\n",
       "      <td>44</td>\n",
       "    </tr>\n",
       "    <tr>\n",
       "      <th>30</th>\n",
       "      <td>Jeremiah Robinson-Earl</td>\n",
       "      <td>0.598194</td>\n",
       "      <td>32</td>\n",
       "    </tr>\n",
       "    <tr>\n",
       "      <th>31</th>\n",
       "      <td>Aaron Wiggins</td>\n",
       "      <td>0.571452</td>\n",
       "      <td>55</td>\n",
       "    </tr>\n",
       "    <tr>\n",
       "      <th>32</th>\n",
       "      <td>Joe Wieskamp</td>\n",
       "      <td>0.568986</td>\n",
       "      <td>41</td>\n",
       "    </tr>\n",
       "    <tr>\n",
       "      <th>33</th>\n",
       "      <td>Justin Smith</td>\n",
       "      <td>0.550482</td>\n",
       "      <td>undrafted</td>\n",
       "    </tr>\n",
       "    <tr>\n",
       "      <th>34</th>\n",
       "      <td>McKinley Wright IV</td>\n",
       "      <td>0.544577</td>\n",
       "      <td>undrafted (NBA)</td>\n",
       "    </tr>\n",
       "    <tr>\n",
       "      <th>35</th>\n",
       "      <td>James Bouknight</td>\n",
       "      <td>0.527749</td>\n",
       "      <td>11</td>\n",
       "    </tr>\n",
       "    <tr>\n",
       "      <th>36</th>\n",
       "      <td>Alan Griffin</td>\n",
       "      <td>0.49586</td>\n",
       "      <td>undrafted</td>\n",
       "    </tr>\n",
       "    <tr>\n",
       "      <th>37</th>\n",
       "      <td>Greg Brown</td>\n",
       "      <td>0.492421</td>\n",
       "      <td>43</td>\n",
       "    </tr>\n",
       "    <tr>\n",
       "      <th>38</th>\n",
       "      <td>Tre Mann</td>\n",
       "      <td>0.486837</td>\n",
       "      <td>18</td>\n",
       "    </tr>\n",
       "    <tr>\n",
       "      <th>39</th>\n",
       "      <td>Oscar Da Silva</td>\n",
       "      <td>0.482195</td>\n",
       "      <td>undrafted</td>\n",
       "    </tr>\n",
       "    <tr>\n",
       "      <th>40</th>\n",
       "      <td>Jaden Springer</td>\n",
       "      <td>0.440777</td>\n",
       "      <td>28</td>\n",
       "    </tr>\n",
       "    <tr>\n",
       "      <th>41</th>\n",
       "      <td>Raiquan Gray</td>\n",
       "      <td>0.411664</td>\n",
       "      <td>59</td>\n",
       "    </tr>\n",
       "    <tr>\n",
       "      <th>42</th>\n",
       "      <td>Isaiah Jackson</td>\n",
       "      <td>0.404981</td>\n",
       "      <td>22</td>\n",
       "    </tr>\n",
       "    <tr>\n",
       "      <th>43</th>\n",
       "      <td>Eugene Omoruyi</td>\n",
       "      <td>0.393796</td>\n",
       "      <td>undrafted (NBA)</td>\n",
       "    </tr>\n",
       "    <tr>\n",
       "      <th>44</th>\n",
       "      <td>Marcus Zegarowski</td>\n",
       "      <td>0.388942</td>\n",
       "      <td>49</td>\n",
       "    </tr>\n",
       "    <tr>\n",
       "      <th>45</th>\n",
       "      <td>Jason Preston</td>\n",
       "      <td>0.376814</td>\n",
       "      <td>33</td>\n",
       "    </tr>\n",
       "    <tr>\n",
       "      <th>46</th>\n",
       "      <td>Moses Wright</td>\n",
       "      <td>0.364797</td>\n",
       "      <td>undrafted (NBA)</td>\n",
       "    </tr>\n",
       "    <tr>\n",
       "      <th>47</th>\n",
       "      <td>D.J. Stewart</td>\n",
       "      <td>0.363844</td>\n",
       "      <td>undrafted (NBA)</td>\n",
       "    </tr>\n",
       "    <tr>\n",
       "      <th>48</th>\n",
       "      <td>Sandro Mamukelashvili</td>\n",
       "      <td>0.362327</td>\n",
       "      <td>54</td>\n",
       "    </tr>\n",
       "    <tr>\n",
       "      <th>49</th>\n",
       "      <td>Derrick Alston</td>\n",
       "      <td>0.356583</td>\n",
       "      <td>undrafted (NBA)</td>\n",
       "    </tr>\n",
       "    <tr>\n",
       "      <th>50</th>\n",
       "      <td>Dejon Jarreau</td>\n",
       "      <td>0.356086</td>\n",
       "      <td>undrafted (NBA)</td>\n",
       "    </tr>\n",
       "    <tr>\n",
       "      <th>51</th>\n",
       "      <td>Quentin Grimes</td>\n",
       "      <td>0.355766</td>\n",
       "      <td>25</td>\n",
       "    </tr>\n",
       "    <tr>\n",
       "      <th>52</th>\n",
       "      <td>MaCio Teague</td>\n",
       "      <td>0.348455</td>\n",
       "      <td>undrafted (NBA)</td>\n",
       "    </tr>\n",
       "    <tr>\n",
       "      <th>53</th>\n",
       "      <td>Aaron Henry</td>\n",
       "      <td>0.34798</td>\n",
       "      <td>undrafted (NBA)</td>\n",
       "    </tr>\n",
       "    <tr>\n",
       "      <th>54</th>\n",
       "      <td>Jay Huff</td>\n",
       "      <td>0.339514</td>\n",
       "      <td>undrafted (NBA)</td>\n",
       "    </tr>\n",
       "    <tr>\n",
       "      <th>55</th>\n",
       "      <td>Javonte Smart</td>\n",
       "      <td>0.324877</td>\n",
       "      <td>undrafted (NBA)</td>\n",
       "    </tr>\n",
       "    <tr>\n",
       "      <th>56</th>\n",
       "      <td>Keon Johnson</td>\n",
       "      <td>0.299505</td>\n",
       "      <td>21</td>\n",
       "    </tr>\n",
       "    <tr>\n",
       "      <th>57</th>\n",
       "      <td>David Duke</td>\n",
       "      <td>0.288012</td>\n",
       "      <td>undrafted (NBA)</td>\n",
       "    </tr>\n",
       "    <tr>\n",
       "      <th>58</th>\n",
       "      <td>Adam Miller</td>\n",
       "      <td>0.218744</td>\n",
       "      <td>undrafted</td>\n",
       "    </tr>\n",
       "    <tr>\n",
       "      <th>59</th>\n",
       "      <td>Liam Robbins</td>\n",
       "      <td>0.208393</td>\n",
       "      <td>undrafted</td>\n",
       "    </tr>\n",
       "    <tr>\n",
       "      <th>60</th>\n",
       "      <td>Kai Jones</td>\n",
       "      <td>0.18546</td>\n",
       "      <td>19</td>\n",
       "    </tr>\n",
       "  </tbody>\n",
       "</table>\n",
       "</div>"
      ],
      "text/plain": [
       "                    player probability            draft\n",
       "1              Moses Moody     0.99898               14\n",
       "2              Jalen Suggs    0.997242                5\n",
       "3              Evan Mobley    0.995794                3\n",
       "4                  JT Thor     0.99181               37\n",
       "5             Chris Duarte    0.975356               13\n",
       "6          Cade Cunningham     0.97432                1\n",
       "7             Jared Butler    0.947045               40\n",
       "8           Scottie Barnes    0.931504                4\n",
       "9             Franz Wagner    0.930907                8\n",
       "10       Justin Champagnie    0.929582  undrafted (NBA)\n",
       "11             Ayo Dosunmu    0.913345               38\n",
       "12           Corey Kispert    0.904142               15\n",
       "13         Trendon Watford    0.887248  undrafted (NBA)\n",
       "14            Joshua Primo    0.865092               12\n",
       "15          Charles Bassey    0.854639               53\n",
       "16              DJ Steward    0.853583  undrafted (NBA)\n",
       "17           Neemias Queta    0.836873               39\n",
       "18        Josh Christopher    0.825504               24\n",
       "19         Davion Mitchell    0.817263                9\n",
       "20              Joel Ayayi    0.809207  undrafted (NBA)\n",
       "21              Luka Garza    0.795295               52\n",
       "22          Cameron Thomas    0.793557               27\n",
       "23          Day'Ron Sharpe    0.789804               29\n",
       "24           Jalen Johnson    0.669766               20\n",
       "25            Matthew Hurt    0.666714  undrafted (NBA)\n",
       "26          Sharife Cooper     0.63744               48\n",
       "27            Santi Aldama    0.627532               30\n",
       "28           Miles McBride    0.624174               36\n",
       "29         Kessler Edwards    0.610929               44\n",
       "30  Jeremiah Robinson-Earl    0.598194               32\n",
       "31           Aaron Wiggins    0.571452               55\n",
       "32            Joe Wieskamp    0.568986               41\n",
       "33            Justin Smith    0.550482        undrafted\n",
       "34      McKinley Wright IV    0.544577  undrafted (NBA)\n",
       "35         James Bouknight    0.527749               11\n",
       "36            Alan Griffin     0.49586        undrafted\n",
       "37              Greg Brown    0.492421               43\n",
       "38                Tre Mann    0.486837               18\n",
       "39          Oscar Da Silva    0.482195        undrafted\n",
       "40          Jaden Springer    0.440777               28\n",
       "41            Raiquan Gray    0.411664               59\n",
       "42          Isaiah Jackson    0.404981               22\n",
       "43          Eugene Omoruyi    0.393796  undrafted (NBA)\n",
       "44       Marcus Zegarowski    0.388942               49\n",
       "45           Jason Preston    0.376814               33\n",
       "46            Moses Wright    0.364797  undrafted (NBA)\n",
       "47            D.J. Stewart    0.363844  undrafted (NBA)\n",
       "48   Sandro Mamukelashvili    0.362327               54\n",
       "49          Derrick Alston    0.356583  undrafted (NBA)\n",
       "50           Dejon Jarreau    0.356086  undrafted (NBA)\n",
       "51          Quentin Grimes    0.355766               25\n",
       "52            MaCio Teague    0.348455  undrafted (NBA)\n",
       "53             Aaron Henry     0.34798  undrafted (NBA)\n",
       "54                Jay Huff    0.339514  undrafted (NBA)\n",
       "55           Javonte Smart    0.324877  undrafted (NBA)\n",
       "56            Keon Johnson    0.299505               21\n",
       "57              David Duke    0.288012  undrafted (NBA)\n",
       "58             Adam Miller    0.218744        undrafted\n",
       "59            Liam Robbins    0.208393        undrafted\n",
       "60               Kai Jones     0.18546               19"
      ]
     },
     "execution_count": 434,
     "metadata": {},
     "output_type": "execute_result"
    }
   ],
   "source": [
    "mock_draft"
   ]
  },
  {
   "cell_type": "markdown",
   "id": "d00fed64",
   "metadata": {},
   "source": [
    "# Closing thoughts"
   ]
  },
  {
   "cell_type": "markdown",
   "id": "a1c0db7b",
   "metadata": {},
   "source": [
    "The main objective of the project was to predict which of the four possible draft groups a given player belongs to based solely on their college performance (expressed with easily available player and team stats). Along the way, various machine learning techniques were employed to solve the problem, and many different approaches were proposed and evaluated. In the end, the best model achieved an f1 score of 0.51 (averaged over all possible classes using an unweighted, or macro, method) when it tried to split the pool of players into four groups (lottery, first round, second round, and undrafted), and of 0.72 when it only attempted to classify them as either drafted or undrafted.\n",
    "\n",
    "The results may not seem very impressive, however, it has to be once again mentioned that the factors affecting draft selections go far beyond players' college performance (and even farther beyond college stats). Estimators that neglect all other influences were doomed to fail, if success was to be defined as a perfect seperation between all groups of players. With that in mind, it is not a stretch to say that the project actually yielded results that are satisfactory at the very least, even though it did not achieve seperation anywhere close to perfection.\n",
    "\n",
    "Between the two main approaches presented in the notebook, it is clear that the second one (predicting probabilities of players getting drafted given year) is superior to the first one (that treated all the players collectively), despite the fact it produced a slightly worse f1 score (note it was tested on different subsets of data). Its strength lays in its interpretability: although the predictions of the final model built that way cannot be treated literally, they can be very well used by the NBA general managers as one of the inputs to their decision-making process. The probabilities estimated by the final model could help them rank the players with regards to how well they performed in their final season in the NCAA and assess their chances of being drafted if all other factors were meaningless.\n",
    "\n",
    "There are certainly some areas of the project that could be improved for a slightly better performance of the models. For example, it would probably be very beneficial for the accuracy of predictions if the information about the number of players belonging to each of the target classes particular year was included during training, and not only when making predictions. Possibly, some other transformations could be applied to the dataset making it easier to seperate with respect to the target variable. Finally, more advanced machine learning techniques could probably be employed to solve the problem with better success. However, it is doubtful that any of these things would drastically improve the predictions made by the final model: it seems like the most troublesome limitation of this project is not possible to overcome with some simple trick and lays in the data itself. The size of the dataset is simply too small for the estimators to be properly trained, especially with how imbalanced with regards to the target variable it was. Oversampling underrepresented classes helped restrict the effects of that imbalance, while at the same time increasing the number of instances to train models on, but it did not introduce any new information to the training set. Significant improvements could only be achieved if significantly more data was to be collected. This, however, is impossible as the number of NCAA Division I players enrolled for the draft in the last decade is very limited.\n",
    "\n",
    "Finally, at the end of the day, draft selections are made by humans, and humans make errors. Being drafted or undrafted is not the players' inherent characteristic: they only belong to one of the groups because another human made such a decision. If the aim of the project was to predict how well would a given player perform in the NBA based on their college stats, then draft selection is not the best target variable that the models could be trained on, as it only represents expectations towards the players' career, and not their actual career. In such a scenario, some different quantity, one that encapsulates various metrics corresponsing to the player's success (e.g. points per game, PER, All-Star Game selections, championships, etc.), should be used as a target variable instead. Perhaps such a challenge could be tackled in a seperate project, and the outcomes could serve as guidance for the decision-makers before the draft.\n",
    "\n",
    "Having said all that, the final estimator that was developed over the course of the project produced interesting results and although college stats clearly do not carry enough information to distinguish between players belonging to particular draft groups with high precision and recall, the solution built throughout the project may still prove valuable for the NBA franchises' scouts and general managers."
   ]
  }
 ],
 "metadata": {
  "kernelspec": {
   "display_name": "Python 3",
   "language": "python",
   "name": "python3"
  },
  "language_info": {
   "codemirror_mode": {
    "name": "ipython",
    "version": 3
   },
   "file_extension": ".py",
   "mimetype": "text/x-python",
   "name": "python",
   "nbconvert_exporter": "python",
   "pygments_lexer": "ipython3",
   "version": "3.7.3"
  }
 },
 "nbformat": 4,
 "nbformat_minor": 5
}
